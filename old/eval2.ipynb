{
 "cells": [
  {
   "cell_type": "code",
   "execution_count": 3,
   "id": "cf2ddf9d-c8ce-419f-95c7-bb5cd0cdd8b5",
   "metadata": {
    "execution": {
     "iopub.execute_input": "2025-05-25T07:28:04.629610Z",
     "iopub.status.busy": "2025-05-25T07:28:04.628940Z",
     "iopub.status.idle": "2025-05-25T07:28:05.506348Z",
     "shell.execute_reply": "2025-05-25T07:28:05.505421Z",
     "shell.execute_reply.started": "2025-05-25T07:28:04.629580Z"
    }
   },
   "outputs": [],
   "source": [
    "from openai import AzureOpenAI\n",
    "import time"
   ]
  },
  {
   "cell_type": "markdown",
   "id": "92c2f7c0-f4f9-421b-ab65-49ca48c5f3b4",
   "metadata": {},
   "source": [
    "**FidChat**"
   ]
  },
  {
   "cell_type": "code",
   "execution_count": 7,
   "id": "fd613d20-6388-48f8-aafe-61c99b9532bc",
   "metadata": {
    "execution": {
     "iopub.execute_input": "2025-05-25T07:28:40.027444Z",
     "iopub.status.busy": "2025-05-25T07:28:40.026501Z",
     "iopub.status.idle": "2025-05-25T07:28:40.032333Z",
     "shell.execute_reply": "2025-05-25T07:28:40.031432Z",
     "shell.execute_reply.started": "2025-05-25T07:28:40.027413Z"
    }
   },
   "outputs": [],
   "source": [
    "instructions = (\n",
    "    \"És o **FIDCHAT**, um assistente virtual especializado em apoio a agentes de vendas da Fidelidade. \"\n",
    "    \"A tua função é prestar esclarecimentos exclusivamente sobre os produtos da Fidelidade My Savings e PPR Evoluir, \"\n",
    "    \"com base integral e rigorosa na documentação oficial que te foi fornecida. Podes também fazer comparações com produtos de competidores que estejam presentes na documentação.\\n\\n\"\n",
    "\n",
    "    \"### Limites de atuação:\\n\"\n",
    "    \"- Responde **sempre com base na documentação**.\\n\"\n",
    "    \"- **Nunca inventes informações (não alucines).**\\n\"\n",
    "    \"- Caso sejas questionado sobre outros temas, informa que a tua função se limita ao apoio sobre a Fidelidade, os seus produtos financeiros e a comparação com produtos de competidores.\\n\\n\"\n",
    "\n",
    "    \"### Estilo e linguagem:\\n\"\n",
    "    \"- Responde **sempre na mesma língua que a mensagem do utilizador.**\\n\"\n",
    "    \"  - Ex: se o utilizador escrever em inglês, responde em inglês.\\n\"\n",
    "    \"  - Ex: se escrever em português, responde em português de Portugal.\\n\"\n",
    "    \"  - Ex: se escrever em espanhol, responde em espanhol.\\n\"\n",
    "    \"- **Nunca mistures línguas na mesma resposta.**\\n\"\n",
    "    \"- **Mantém o mesmo nível de formalidade usado pelo utilizador.**\\n\"\n",
    "    \"  - Se o utilizador tratar por \\\"tu\\\", responde também por \\\"tu\\\".\\n\"\n",
    "    \"  - Se o utilizador usar tratamento mais formal (como \\\"você\\\" ou linguagem mais profissional), mantém o mesmo grau de formalidade.\\n\"\n",
    "    \"- Sê claro, objetivo e profissional, mas mantém um tom cordial e acessível.\\n\"\n",
    "    \"- Utiliza formatação Markdown quando útil (ex: listas, negrito, subtítulos, tabelas).\\n\\n\"\n",
    "\n",
    "    \"### Cumprimentos e expressões sociais:\\n\"\n",
    "    \"- Sempre que o utilizador disser algo como obrigado, obrigada, olá, bom dia, boa tarde ou expressar gratidão ou cumprimento, responde de forma educada e simpática.\\n\"\n",
    ")\n"
   ]
  },
  {
   "cell_type": "code",
   "execution_count": 8,
   "id": "0f41b1cb-ca3b-4147-8f6b-2dec907775c0",
   "metadata": {
    "execution": {
     "iopub.execute_input": "2025-05-25T07:28:40.599009Z",
     "iopub.status.busy": "2025-05-25T07:28:40.598625Z",
     "iopub.status.idle": "2025-05-25T07:28:41.642055Z",
     "shell.execute_reply": "2025-05-25T07:28:41.641223Z",
     "shell.execute_reply.started": "2025-05-25T07:28:40.598980Z"
    },
    "scrolled": true
   },
   "outputs": [],
   "source": [
    "# Initialize Azure OpenAI client\n",
    "client = AzureOpenAI(\n",
    "    azure_endpoint=\"https://ai-bcds.openai.azure.com/\",\n",
    "    api_key=\"8J6pTdfaGgA5r193UVLsBshUspqwNpal42Jse1aHaok1cWNTLpRkJQQJ99BDACYeBjFXJ3w3AAABACOGLa23\",\n",
    "    api_version=\"2024-05-01-preview\"\n",
    ")\n",
    "\n",
    "assistant = client.beta.assistants.create(\n",
    "    model=\"gpt-4o-mini\", \n",
    "    instructions = instructions,\n",
    "    tool_resources={\"code_interpreter\":{\"file_ids\":[\"assistant-WZQHoFwobKHT1ZWKkEAGqm\",\"assistant-MsQgxjsadXVcZKLw2fJwNh\",\"assistant-LpaoUAR5Rq3MgXfMSU4i9A\",\"assistant-KW358eNBGny1N5DM8LoBaC\",\"assistant-CiKqiv2zmbtF8FH2iQAKAw\",\"assistant-9yhV7cKx5ynoLqoPbs1B67\",\"assistant-5QanyuMMkjkkfVUv6rkCfM\"]}},\n",
    "    temperature=0.2,\n",
    "    top_p=1\n",
    "    )"
   ]
  },
  {
   "cell_type": "code",
   "execution_count": 13,
   "id": "6a7b88db-927b-4ac0-9392-0d9585906591",
   "metadata": {
    "execution": {
     "iopub.execute_input": "2025-05-25T07:30:52.099201Z",
     "iopub.status.busy": "2025-05-25T07:30:52.098506Z",
     "iopub.status.idle": "2025-05-25T07:30:52.106289Z",
     "shell.execute_reply": "2025-05-25T07:30:52.105240Z",
     "shell.execute_reply.started": "2025-05-25T07:30:52.099169Z"
    }
   },
   "outputs": [],
   "source": [
    "import time\n",
    "import re\n",
    "\n",
    "def chat_with_assistant(client, assistant_id, message, instructions):\n",
    "    # Create a new thread\n",
    "    thread = client.beta.threads.create()\n",
    "\n",
    "    # Add message (with optional system instructions)\n",
    "    client.beta.threads.messages.create(\n",
    "        thread_id=thread.id,\n",
    "        role=\"user\",\n",
    "        content=instructions + \"\\n\\n\" + message\n",
    "    )\n",
    "\n",
    "    # Run assistant\n",
    "    run = client.beta.threads.runs.create(\n",
    "        thread_id=thread.id,\n",
    "        assistant_id=assistant_id\n",
    "    )\n",
    "\n",
    "    # Wait until response is ready\n",
    "    while run.status in [\"queued\", \"in_progress\", \"cancelling\"]:\n",
    "        time.sleep(1)\n",
    "        run = client.beta.threads.runs.retrieve(thread_id=thread.id, run_id=run.id)\n",
    "\n",
    "    # Return the assistant's response\n",
    "    if run.status == \"completed\":\n",
    "        messages_list = client.beta.threads.messages.list(thread_id=thread.id)\n",
    "        for msg in reversed(messages_list.data):\n",
    "            if msg.role == \"assistant\":\n",
    "                raw_response = msg.content[0].text.value\n",
    "                clean_response = re.sub(r\"【\\d+:\\d+†source】\", \"\", raw_response).strip()\n",
    "                return clean_response\n",
    "    return \"[ERROR] Failed to get assistant response.\"\n"
   ]
  },
  {
   "cell_type": "code",
   "execution_count": 14,
   "id": "8e13e2a5-67e8-4d97-8fb1-1225197f930d",
   "metadata": {
    "execution": {
     "iopub.execute_input": "2025-05-25T07:31:20.962066Z",
     "iopub.status.busy": "2025-05-25T07:31:20.961672Z",
     "iopub.status.idle": "2025-05-25T07:31:25.439254Z",
     "shell.execute_reply": "2025-05-25T07:31:25.438419Z",
     "shell.execute_reply.started": "2025-05-25T07:31:20.962033Z"
    },
    "scrolled": true
   },
   "outputs": [
    {
     "data": {
      "text/plain": [
       "'Olá! Como posso ajudar-te hoje com informações sobre os produtos da Fidelidade My Savings ou PPR Evoluir?'"
      ]
     },
     "execution_count": 14,
     "metadata": {},
     "output_type": "execute_result"
    }
   ],
   "source": [
    "message = 'hey'\n",
    "chat_with_assistant(client, assistant.id, message, instructions = instructions)"
   ]
  },
  {
   "cell_type": "markdown",
   "id": "7152ae6b-03cb-481e-8ff8-9fc91ad3fb73",
   "metadata": {},
   "source": [
    "**EvalChat**"
   ]
  },
  {
   "cell_type": "code",
   "execution_count": 19,
   "id": "458ac9be-9ecb-4188-b38d-7d96d2717490",
   "metadata": {
    "execution": {
     "iopub.execute_input": "2025-05-25T07:36:35.739984Z",
     "iopub.status.busy": "2025-05-25T07:36:35.739588Z",
     "iopub.status.idle": "2025-05-25T07:36:37.005073Z",
     "shell.execute_reply": "2025-05-25T07:36:37.004244Z",
     "shell.execute_reply.started": "2025-05-25T07:36:35.739953Z"
    },
    "scrolled": true
   },
   "outputs": [],
   "source": [
    "client2 = AzureOpenAI(\n",
    "  azure_endpoint = \"https://ai-bcds.openai.azure.com/\",\n",
    "  api_key= \"8J6pTdfaGgA5r193UVLsBshUspqwNpal42Jse1aHaok1cWNTLpRkJQQJ99BDACYeBjFXJ3w3AAABACOGLa23\",\n",
    "  api_version=\"2024-05-01-preview\"\n",
    ")\n",
    "\n",
    "assistant2 = client.beta.assistants.create(\n",
    "  model=\"gpt-4o-mini-BCwDS\", \n",
    "  instructions=\"\",\n",
    "  tools=[{\"type\":\"file_search\"}],\n",
    "  tool_resources={\"file_search\":{\"vector_store_ids\":[\"vs_ezpssNVZDpwb0RjgcxSwbNZz\"]}},\n",
    "  temperature=1,\n",
    "  top_p=1\n",
    ")"
   ]
  },
  {
   "cell_type": "code",
   "execution_count": 24,
   "id": "8da06dba-61c0-4d17-bc58-7da3d3296df3",
   "metadata": {
    "execution": {
     "iopub.execute_input": "2025-05-25T07:39:33.284835Z",
     "iopub.status.busy": "2025-05-25T07:39:33.284150Z",
     "iopub.status.idle": "2025-05-25T07:39:33.292396Z",
     "shell.execute_reply": "2025-05-25T07:39:33.291486Z",
     "shell.execute_reply.started": "2025-05-25T07:39:33.284804Z"
    }
   },
   "outputs": [],
   "source": [
    "def eval_chat(client, assistant_id, question, answer, instructions=None):\n",
    "    import time\n",
    "    import re\n",
    "\n",
    "    if instructions is None:\n",
    "        instructions = (\n",
    "            \"You are an evaluation assistant. Given a user question and a proposed answer, \"\n",
    "            \"your task is to assess the **accuracy, completeness, and relevance** of the answer. \"\n",
    "            \"You must compare it against the documents you have access to. \"\n",
    "            \"If the answer is incorrect, incomplete, or misleading, explain why. \"\n",
    "            \"The output should be a similarity score and a summary of improvements\\n\\n\"\n",
    "        )\n",
    "\n",
    "    # Construct the input message\n",
    "    eval_prompt = (\n",
    "        f\"{instructions}\"\n",
    "        f\"### Question:\\n{question}\\n\\n\"\n",
    "        f\"### Proposed Answer:\\n{answer}\"\n",
    "    )\n",
    "\n",
    "    # Create a new thread\n",
    "    thread = client.beta.threads.create()\n",
    "\n",
    "    # Add message to thread\n",
    "    client.beta.threads.messages.create(\n",
    "        thread_id=thread.id,\n",
    "        role=\"user\",\n",
    "        content=eval_prompt\n",
    "    )\n",
    "\n",
    "    # Run assistant\n",
    "    run = client.beta.threads.runs.create(\n",
    "        thread_id=thread.id,\n",
    "        assistant_id=assistant_id\n",
    "    )\n",
    "\n",
    "    # Wait until response is ready\n",
    "    while run.status in [\"queued\", \"in_progress\", \"cancelling\"]:\n",
    "        time.sleep(1)\n",
    "        run = client.beta.threads.runs.retrieve(thread_id=thread.id, run_id=run.id)\n",
    "\n",
    "    # Return assistant's evaluation\n",
    "    if run.status == \"completed\":\n",
    "        messages_list = client.beta.threads.messages.list(thread_id=thread.id)\n",
    "        for msg in reversed(messages_list.data):\n",
    "            if msg.role == \"assistant\":\n",
    "                raw_response = msg.content[0].text.value\n",
    "                clean_response = re.sub(r\"【\\d+:\\d+†source】\", \"\", raw_response).strip()\n",
    "                return clean_response\n",
    "    return \"[ERROR] Failed to get assistant response.\"\n"
   ]
  },
  {
   "cell_type": "markdown",
   "id": "11bf3d23-8f66-4f77-8113-1294e92eb7bf",
   "metadata": {},
   "source": [
    "chatfit"
   ]
  },
  {
   "cell_type": "code",
   "execution_count": 16,
   "id": "6fa9c479-023b-4e26-9fa3-0b5637c61320",
   "metadata": {
    "execution": {
     "iopub.execute_input": "2025-05-25T07:35:05.053892Z",
     "iopub.status.busy": "2025-05-25T07:35:05.053508Z",
     "iopub.status.idle": "2025-05-25T07:35:09.328574Z",
     "shell.execute_reply": "2025-05-25T07:35:09.327734Z",
     "shell.execute_reply.started": "2025-05-25T07:35:05.053860Z"
    }
   },
   "outputs": [
    {
     "data": {
      "text/plain": [
       "'O **Fidelidade My Savings** é um produto de poupança que se destina a investidores com um perfil de risco **baixo a moderado**. Este produto é ideal para aqueles que procuram uma forma segura de poupança, com um retorno estável e previsível, sem expor o capital a grandes oscilações de mercado.\\n\\nSe tiveres mais perguntas sobre este produto ou outros da Fidelidade, estou à disposição para ajudar!'"
      ]
     },
     "execution_count": 16,
     "metadata": {},
     "output_type": "execute_result"
    }
   ],
   "source": [
    "message = 'O Fidelidade Savings é mais indicado para que perfil de risco?'\n",
    "response = chat_with_assistant(client, assistant.id, message, instructions = instructions)\n",
    "response"
   ]
  },
  {
   "cell_type": "code",
   "execution_count": null,
   "id": "6e5c3cc4-797a-4053-90b9-ba3d6814780f",
   "metadata": {},
   "outputs": [],
   "source": [
    "instructions2 = \"You are an evaluation bot. please compare the answers\\\n",
    "    given as a message to the files you have access to, and output a similarity score.\\\n",
    "    you will receive a message with the format: \\\n",
    "    - question \\\n",
    "    - answer \\\n",
    "    You must look for the question in the files you have access to and compare both answers\"\n"
   ]
  },
  {
   "cell_type": "markdown",
   "id": "4e4d9150-d8be-40a1-b233-d561dc28443f",
   "metadata": {},
   "source": [
    "eval"
   ]
  },
  {
   "cell_type": "code",
   "execution_count": 26,
   "id": "40f5dff9-9005-49af-b2df-b5317019ee89",
   "metadata": {
    "execution": {
     "iopub.execute_input": "2025-05-25T07:39:56.935003Z",
     "iopub.status.busy": "2025-05-25T07:39:56.934625Z",
     "iopub.status.idle": "2025-05-25T07:40:03.337015Z",
     "shell.execute_reply": "2025-05-25T07:40:03.335259Z",
     "shell.execute_reply.started": "2025-05-25T07:39:56.934974Z"
    }
   },
   "outputs": [],
   "source": [
    "question = 'O Fidelidade Savings é mais indicado para que perfil de risco?'\n",
    "message2 = 'O **Fidelidade My Savings** é um produto de poupança que se destina \\\n",
    "            a investidores com um perfil de risco **baixo a moderado**. Este produto \\\n",
    "            é ideal para aqueles que procuram uma forma segura de poupança, com um \\\n",
    "            retorno estável e previsível, sem expor o capital a grandes oscilações de \\\n",
    "            mercado.\\n\\nSe tiveres mais perguntas sobre este produto ou outros da \\\n",
    "            Fidelidade, estou à disposição para ajudar!'\n",
    "\n",
    "q1 = eval_chat(client2, assistant2.id, question, message2, instructions = None)"
   ]
  },
  {
   "cell_type": "code",
   "execution_count": 27,
   "id": "2416fa71-e38f-48ef-9498-4224fde09ddb",
   "metadata": {
    "execution": {
     "iopub.execute_input": "2025-05-25T07:40:03.339473Z",
     "iopub.status.busy": "2025-05-25T07:40:03.338986Z",
     "iopub.status.idle": "2025-05-25T07:40:03.343765Z",
     "shell.execute_reply": "2025-05-25T07:40:03.342876Z",
     "shell.execute_reply.started": "2025-05-25T07:40:03.339442Z"
    }
   },
   "outputs": [
    {
     "name": "stdout",
     "output_type": "stream",
     "text": [
      "### Similarity Score: 6/10\n",
      "\n",
      "### Summary of Improvements:\n",
      "\n",
      "1. **Accuracy**:\n",
      "   - The proposed answer inaccurately identifies the **Fidelidade My Savings** as the product in question. The correct product is **Fidelidade Savings**, which includes options tailored to different risk profiles: **Seguro** (low risk), **Proteção** (moderate risk with some exposure), and **Dinâmico** (higher risk). It should have specified that the choice of option greatly impacts the risk level.\n",
      "\n",
      "2. **Completeness**:\n",
      "   - The proposed answer is incomplete as it provides a generalization about a \"low to moderate\" risk profile without detailing the specific options available within the **Fidelidade Savings** product. The answer could be improved by mentioning these options and their associated risk levels clearly.\n",
      "\n",
      "3. **Relevance**:\n",
      "   - While the general idea of a \"low to moderate\" risk profile is somewhat relevant, the answer fails to cover the diversity within the **Fidelidade Savings** options. It should accurately represent the range of profiles served by the product beyond just suggesting a lower risk category.\n",
      "\n",
      "### Recommendations:\n",
      "To improve the answer, it should clearly state that the **Fidelidade Savings** product has multiple options catering to different risk levels (low, moderate, and high) and explain the characteristics of each option. This would provide a fuller and more accurate representation of the product offered by Fidelidade.\n"
     ]
    }
   ],
   "source": [
    "print(q1)"
   ]
  },
  {
   "cell_type": "code",
   "execution_count": null,
   "id": "e6c12e63-38a2-44f6-bbc0-bacb2fe9bda1",
   "metadata": {},
   "outputs": [],
   "source": []
  }
 ],
 "metadata": {
  "kernelspec": {
   "display_name": "Python 3 (ipykernel)",
   "language": "python",
   "name": "python3"
  },
  "language_info": {
   "codemirror_mode": {
    "name": "ipython",
    "version": 3
   },
   "file_extension": ".py",
   "mimetype": "text/x-python",
   "name": "python",
   "nbconvert_exporter": "python",
   "pygments_lexer": "ipython3",
   "version": "3.10.17"
  }
 },
 "nbformat": 4,
 "nbformat_minor": 5
}
