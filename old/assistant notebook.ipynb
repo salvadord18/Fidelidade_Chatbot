{
 "cells": [
  {
   "cell_type": "code",
   "execution_count": 11,
   "id": "9d5ef384-4325-48f4-a890-6e9e174369a3",
   "metadata": {
    "execution": {
     "iopub.execute_input": "2025-05-16T10:51:27.842078Z",
     "iopub.status.busy": "2025-05-16T10:51:27.841665Z",
     "iopub.status.idle": "2025-05-16T10:51:30.263065Z",
     "shell.execute_reply": "2025-05-16T10:51:30.261977Z",
     "shell.execute_reply.started": "2025-05-16T10:51:27.842045Z"
    },
    "scrolled": true
   },
   "outputs": [],
   "source": [
    "import os\n",
    "import json\n",
    "import requests\n",
    "import time\n",
    "from openai import AzureOpenAI\n",
    "\n",
    "client = AzureOpenAI(\n",
    "  azure_endpoint = \"https://ai-bcds.openai.azure.com/\",\n",
    "  api_key= \"8J6pTdfaGgA5r193UVLsBshUspqwNpal42Jse1aHaok1cWNTLpRkJQQJ99BDACYeBjFXJ3w3AAABACOGLa23\",\n",
    "  api_version=\"2024-05-01-preview\"\n",
    ")\n",
    "\n",
    "assistant = client.beta.assistants.create(\n",
    "  model=\"gpt-4o-mini\", # replace with model deployment name.\n",
    "  instructions=\"Tu és um perito que trabalha na Fidelidade em investimentos a prazo. Toda a informação que dás é com base nos ficheiros disponibilizados.\",\n",
    "  tools=[{\"type\":\"file_search\"}],\n",
    "  tool_resources={\"file_search\":{\"vector_store_ids\":[\"vs_ftCso8RzHlBSbUwcqVWP3RiG\"]},\"code_interpreter\":{\"file_ids\":[\"assistant-WuJZaGApRBgPZGvfPJwTBF\",\"assistant-WQbe2oYNiunshZFamDkAMe\",\"assistant-WA9mo2ooGuCakdtLYe7S5Y\",\"assistant-VmGKDJtKWW8mLr7RsNDHJ4\",\"assistant-VcoN7vmxYPZCBfSTaFsEQ3\",\"assistant-TaHujXgSvATXXH1V5gBTDN\",\"assistant-NMXvUzELtRbwtQMoTXeApo\",\"assistant-LvBZjKCKvtwUvCCTgpfWim\",\"assistant-GWrPgzCPp8si1AH2yKKJBB\",\"assistant-F5nrFbNEjGxEqeSCmkdLAg\",\"assistant-EwB2EpAtrmQVUrtxvg79HB\",\"assistant-BFYazbjKgte4W5u9Jgrs6b\",\"assistant-96mBrzvMJbaTjLYcCEG3S2\",\"assistant-8phYrqvFLjksiThSKqSgkq\",\"assistant-7GHqFyWe29skpMH8Ug4QoZ\",\"assistant-6zJbn35vHos3RRzqJUiVMQ\",\"assistant-5dMu4U3q2VUkjhP4LvhAGb\",\"assistant-4hduKqwh6y7AWcUohbxMC3\",\"assistant-426n1B453C2wqH2AnDc2mh\",\"assistant-3UFjejDd1iMmYhBuj2bgi8\"]}},\n",
    "  temperature=0.44,\n",
    "  top_p=1\n",
    ")"
   ]
  },
  {
   "cell_type": "code",
   "execution_count": 18,
   "id": "0bf33de0-effe-4f10-8d8d-25abc9f2c022",
   "metadata": {
    "execution": {
     "iopub.execute_input": "2025-05-16T10:55:09.049158Z",
     "iopub.status.busy": "2025-05-16T10:55:09.048744Z",
     "iopub.status.idle": "2025-05-16T10:55:19.102922Z",
     "shell.execute_reply": "2025-05-16T10:55:19.101944Z",
     "shell.execute_reply.started": "2025-05-16T10:55:09.049126Z"
    },
    "scrolled": true
   },
   "outputs": [
    {
     "name": "stdout",
     "output_type": "stream",
     "text": [
      "SyncCursorPage[Message](data=[Message(id='msg_K4mHxqhBVPPyZEtUJKRpVXNf', assistant_id='asst_oelnbXoPfr1bIszYkMFZPdcY', attachments=[], completed_at=None, content=[TextContentBlock(text=Text(annotations=[FileCitationAnnotation(end_index=394, file_citation=FileCitation(file_id='assistant-X9pi8pvQhpkfz91qAieknm'), start_index=381, text='【44:3†source】', type='file_citation'), FileCitationAnnotation(end_index=407, file_citation=FileCitation(file_id='assistant-S3DWP1wxGcRLRBTUbYEWqg'), start_index=394, text='【44:9†source】', type='file_citation'), FileCitationAnnotation(end_index=677, file_citation=FileCitation(file_id='assistant-LsShNNEN9Locy2X6QSyiu7'), start_index=664, text='【44:8†source】', type='file_citation'), FileCitationAnnotation(end_index=691, file_citation=FileCitation(file_id='assistant-SZzZsiAGNX82AP5e4mYgqc'), start_index=677, text='【44:12†source】', type='file_citation'), FileCitationAnnotation(end_index=1006, file_citation=FileCitation(file_id='assistant-SZzZsiAGNX82AP5e4mYgqc'), start_index=992, text='【44:18†source】', type='file_citation'), FileCitationAnnotation(end_index=1020, file_citation=FileCitation(file_id='assistant-SZzZsiAGNX82AP5e4mYgqc'), start_index=1006, text='【44:12†source】', type='file_citation')], value='O produto Fidelidade Savings é mais indicado para diferentes perfis de risco, conforme as opções disponíveis:\\n\\n1. **Opção Seguro**: Destina-se a clientes com perfil **prudente**. Esta opção oferece uma garantia de 100% do capital investido e um rendimento garantido (variável) ao longo da vigência do contrato. É ideal para aqueles que valorizam a segurança e desejam evitar riscos【44:3†source】【44:9†source】.\\n\\n2. **Opção Proteção**: Adequada para clientes com perfil **equilibrado**. Esta opção garante 90% do capital investido e oferece um potencial de rendimento indexado a um índice de ações, permitindo um equilíbrio entre segurança e a possibilidade de ganhos【44:8†source】【44:12†source】.\\n\\n3. **Opção Dinâmico**: Voltada para clientes com perfil **dinâmico**. Não oferece garantia do capital investido e busca maximizar a valorização através de investimentos em ações e obrigações, sendo indicada para aqueles que aceitam um maior nível de risco em troca de potenciais retornos mais altos【44:18†source】【44:12†source】.\\n\\nPortanto, o Fidelidade Savings é flexível e se adapta a diferentes perfis de risco, desde os mais conservadores até os mais arrojados.'), type='text')], created_at=1747392914, incomplete_at=None, incomplete_details=None, metadata={}, object='thread.message', role='assistant', run_id='run_JzcAlG5KpSGjocBzuigHIjA8', status=None, thread_id='thread_NwdzB8uyQVP7vUFycUqFUx6f'), Message(id='msg_mYZChnayc8dlOq2liBbkUkfA', assistant_id=None, attachments=[], completed_at=None, content=[TextContentBlock(text=Text(annotations=[], value='O Fidelidade Savings é mais indicado para que perfil de risco?'), type='text')], created_at=1747392910, incomplete_at=None, incomplete_details=None, metadata={}, object='thread.message', role='user', run_id=None, status=None, thread_id='thread_NwdzB8uyQVP7vUFycUqFUx6f')], has_more=False, object='list', first_id='msg_K4mHxqhBVPPyZEtUJKRpVXNf', last_id='msg_mYZChnayc8dlOq2liBbkUkfA')\n"
     ]
    }
   ],
   "source": [
    "# Create a thread\n",
    "thread = client.beta.threads.create()\n",
    "\n",
    "# Add a user question to the thread\n",
    "message = client.beta.threads.messages.create(\n",
    "  thread_id=thread.id,\n",
    "  role=\"user\",\n",
    "  content=\"O Fidelidade Savings é mais indicado para que perfil de risco?\"\n",
    ")\n",
    "\n",
    "\n",
    "\n",
    "# Run the thread\n",
    "run = client.beta.threads.runs.create(\n",
    "  thread_id=thread.id,\n",
    "  assistant_id=assistant.id\n",
    ")\n",
    "\n",
    "# Looping until the run completes or fails\n",
    "while run.status in ['queued', 'in_progress', 'cancelling']:\n",
    "  time.sleep(1)\n",
    "  run = client.beta.threads.runs.retrieve(\n",
    "    thread_id=thread.id,\n",
    "    run_id=run.id\n",
    "  )\n",
    "\n",
    "if run.status == 'completed':\n",
    "  messages = client.beta.threads.messages.list(\n",
    "    thread_id=thread.id\n",
    "  )\n",
    "  \n",
    "elif run.status == 'requires_action':\n",
    "  # the assistant requires calling some functions\n",
    "  # and submit the tool outputs back to the run\n",
    "  pass\n",
    "else:\n",
    "    pass"
   ]
  },
  {
   "cell_type": "code",
   "execution_count": 19,
   "id": "57f76f5f-1995-4ddf-b3f3-afa1107e5c0c",
   "metadata": {
    "execution": {
     "iopub.execute_input": "2025-05-16T10:55:19.106233Z",
     "iopub.status.busy": "2025-05-16T10:55:19.105608Z",
     "iopub.status.idle": "2025-05-16T10:55:19.112078Z",
     "shell.execute_reply": "2025-05-16T10:55:19.110738Z",
     "shell.execute_reply.started": "2025-05-16T10:55:19.106193Z"
    }
   },
   "outputs": [
    {
     "name": "stdout",
     "output_type": "stream",
     "text": [
      "Assistant: O produto Fidelidade Savings é mais indicado para diferentes perfis de risco, conforme as opções disponíveis:\n",
      "\n",
      "1. **Opção Seguro**: Destina-se a clientes com perfil **prudente**. Esta opção oferece uma garantia de 100% do capital investido e um rendimento garantido (variável) ao longo da vigência do contrato. É ideal para aqueles que valorizam a segurança e desejam evitar riscos【44:3†source】【44:9†source】.\n",
      "\n",
      "2. **Opção Proteção**: Adequada para clientes com perfil **equilibrado**. Esta opção garante 90% do capital investido e oferece um potencial de rendimento indexado a um índice de ações, permitindo um equilíbrio entre segurança e a possibilidade de ganhos【44:8†source】【44:12†source】.\n",
      "\n",
      "3. **Opção Dinâmico**: Voltada para clientes com perfil **dinâmico**. Não oferece garantia do capital investido e busca maximizar a valorização através de investimentos em ações e obrigações, sendo indicada para aqueles que aceitam um maior nível de risco em troca de potenciais retornos mais altos【44:18†source】【44:12†source】.\n",
      "\n",
      "Portanto, o Fidelidade Savings é flexível e se adapta a diferentes perfis de risco, desde os mais conservadores até os mais arrojados.\n"
     ]
    }
   ],
   "source": [
    "for msg in messages.data:\n",
    "    if msg.role == \"assistant\":\n",
    "        print(\"Assistant:\", msg.content[0].text.value)\n"
   ]
  },
  {
   "cell_type": "code",
   "execution_count": null,
   "id": "96852a63-2fe4-475d-aaa5-d0503f2f3ca3",
   "metadata": {},
   "outputs": [],
   "source": []
  }
 ],
 "metadata": {
  "kernelspec": {
   "display_name": "Python 3 (ipykernel)",
   "language": "python",
   "name": "python3"
  },
  "language_info": {
   "codemirror_mode": {
    "name": "ipython",
    "version": 3
   },
   "file_extension": ".py",
   "mimetype": "text/x-python",
   "name": "python",
   "nbconvert_exporter": "python",
   "pygments_lexer": "ipython3",
   "version": "3.10.17"
  }
 },
 "nbformat": 4,
 "nbformat_minor": 5
}
