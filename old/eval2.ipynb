{
 "cells": [
  {
   "cell_type": "code",
   "execution_count": 12,
   "id": "cf2ddf9d-c8ce-419f-95c7-bb5cd0cdd8b5",
   "metadata": {
    "execution": {
     "iopub.execute_input": "2025-05-24T12:29:10.591903Z",
     "iopub.status.busy": "2025-05-24T12:29:10.591217Z",
     "iopub.status.idle": "2025-05-24T12:29:10.595914Z",
     "shell.execute_reply": "2025-05-24T12:29:10.594929Z",
     "shell.execute_reply.started": "2025-05-24T12:29:10.591872Z"
    }
   },
   "outputs": [],
   "source": [
    "from openai import AzureOpenAI\n",
    "import time"
   ]
  },
  {
   "cell_type": "markdown",
   "id": "92c2f7c0-f4f9-421b-ab65-49ca48c5f3b4",
   "metadata": {},
   "source": [
    "**FidChat**"
   ]
  },
  {
   "cell_type": "code",
   "execution_count": 6,
   "id": "0f41b1cb-ca3b-4147-8f6b-2dec907775c0",
   "metadata": {
    "execution": {
     "iopub.execute_input": "2025-05-24T12:24:08.115650Z",
     "iopub.status.busy": "2025-05-24T12:24:08.114841Z",
     "iopub.status.idle": "2025-05-24T12:24:09.949168Z",
     "shell.execute_reply": "2025-05-24T12:24:09.948171Z",
     "shell.execute_reply.started": "2025-05-24T12:24:08.115617Z"
    },
    "scrolled": true
   },
   "outputs": [],
   "source": [
    "# Initialize Azure OpenAI client\n",
    "client = AzureOpenAI(\n",
    "    azure_endpoint=\"https://ai-bcds.openai.azure.com/\",\n",
    "    api_key=\"8J6pTdfaGgA5r193UVLsBshUspqwNpal42Jse1aHaok1cWNTLpRkJQQJ99BDACYeBjFXJ3w3AAABACOGLa23\",\n",
    "    api_version=\"2024-05-01-preview\"\n",
    ")\n",
    "\n",
    "assistant = client.beta.assistants.create(\n",
    "    model=\"gpt-4o-mini\", \n",
    "    instructions = bot.instructions,\n",
    "    tool_resources={\"code_interpreter\":{\"file_ids\":[\"assistant-WZQHoFwobKHT1ZWKkEAGqm\",\"assistant-MsQgxjsadXVcZKLw2fJwNh\",\"assistant-LpaoUAR5Rq3MgXfMSU4i9A\",\"assistant-KW358eNBGny1N5DM8LoBaC\",\"assistant-CiKqiv2zmbtF8FH2iQAKAw\",\"assistant-9yhV7cKx5ynoLqoPbs1B67\",\"assistant-5QanyuMMkjkkfVUv6rkCfM\"]}},\n",
    "    temperature=0.2,\n",
    "    top_p=1\n",
    "    )"
   ]
  },
  {
   "cell_type": "markdown",
   "id": "7152ae6b-03cb-481e-8ff8-9fc91ad3fb73",
   "metadata": {},
   "source": [
    "**EvalChat**"
   ]
  },
  {
   "cell_type": "code",
   "execution_count": 10,
   "id": "458ac9be-9ecb-4188-b38d-7d96d2717490",
   "metadata": {
    "execution": {
     "iopub.execute_input": "2025-05-24T12:28:43.103324Z",
     "iopub.status.busy": "2025-05-24T12:28:43.102676Z",
     "iopub.status.idle": "2025-05-24T12:28:43.826123Z",
     "shell.execute_reply": "2025-05-24T12:28:43.825228Z",
     "shell.execute_reply.started": "2025-05-24T12:28:43.103292Z"
    },
    "scrolled": true
   },
   "outputs": [],
   "source": [
    "client = AzureOpenAI(\n",
    "  azure_endpoint = \"https://ai-bcds.openai.azure.com/\",\n",
    "  api_key= \"8J6pTdfaGgA5r193UVLsBshUspqwNpal42Jse1aHaok1cWNTLpRkJQQJ99BDACYeBjFXJ3w3AAABACOGLa23\",\n",
    "  api_version=\"2024-05-01-preview\"\n",
    ")\n",
    "\n",
    "assistant = client.beta.assistants.create(\n",
    "  model=\"gpt-4o-mini-BCwDS\", \n",
    "  instructions=\"\",\n",
    "  tools=[{\"type\":\"file_search\"}],\n",
    "  tool_resources={\"file_search\":{\"vector_store_ids\":[\"vs_ezpssNVZDpwb0RjgcxSwbNZz\"]}},\n",
    "  temperature=1,\n",
    "  top_p=1\n",
    ")"
   ]
  },
  {
   "cell_type": "code",
   "execution_count": 13,
   "id": "8da06dba-61c0-4d17-bc58-7da3d3296df3",
   "metadata": {
    "execution": {
     "iopub.execute_input": "2025-05-24T12:29:12.050173Z",
     "iopub.status.busy": "2025-05-24T12:29:12.049779Z",
     "iopub.status.idle": "2025-05-24T12:29:14.910846Z",
     "shell.execute_reply": "2025-05-24T12:29:14.909928Z",
     "shell.execute_reply.started": "2025-05-24T12:29:12.050142Z"
    }
   },
   "outputs": [
    {
     "name": "stdout",
     "output_type": "stream",
     "text": [
      "SyncCursorPage[Message](data=[Message(id='msg_Yx61L3dhWqzXyQ1oIG3KvjnM', assistant_id='asst_N5S2LsVIiSfpz4c4IOkU5gJM', attachments=[], completed_at=None, content=[TextContentBlock(text=Text(annotations=[], value='Hello! How can I assist you today?'), type='text')], created_at=1748089754, incomplete_at=None, incomplete_details=None, metadata={}, object='thread.message', role='assistant', run_id='run_sze6fL8RXWHOxUPnSL9eA7mO', status=None, thread_id='thread_w5NGPf8gWrWJGb2lkBM6gYPX'), Message(id='msg_MfbsDiIL38JtJe6lX9o0jEvO', assistant_id=None, attachments=[], completed_at=None, content=[TextContentBlock(text=Text(annotations=[], value='hi'), type='text')], created_at=1748089753, incomplete_at=None, incomplete_details=None, metadata={}, object='thread.message', role='user', run_id=None, status=None, thread_id='thread_w5NGPf8gWrWJGb2lkBM6gYPX')], has_more=False, object='list', first_id='msg_Yx61L3dhWqzXyQ1oIG3KvjnM', last_id='msg_MfbsDiIL38JtJe6lX9o0jEvO')\n"
     ]
    }
   ],
   "source": [
    "# Create a thread\n",
    "thread = client.beta.threads.create()\n",
    "\n",
    "# Add a user question to the thread\n",
    "message = client.beta.threads.messages.create(\n",
    "  thread_id=thread.id,\n",
    "  role=\"user\",\n",
    "  content=\"hi\" # Replace this with your prompt\n",
    ")\n",
    "\n",
    "\n",
    "\n",
    "# Run the thread\n",
    "run = client.beta.threads.runs.create(\n",
    "  thread_id=thread.id,\n",
    "  assistant_id=assistant.id\n",
    ")\n",
    "\n",
    "# Looping until the run completes or fails\n",
    "while run.status in ['queued', 'in_progress', 'cancelling']:\n",
    "  time.sleep(1)\n",
    "  run = client.beta.threads.runs.retrieve(\n",
    "    thread_id=thread.id,\n",
    "    run_id=run.id\n",
    "  )\n",
    "\n",
    "if run.status == 'completed':\n",
    "  messages = client.beta.threads.messages.list(\n",
    "    thread_id=thread.id\n",
    "  )\n",
    "  print(messages)\n",
    "elif run.status == 'requires_action':\n",
    "  # the assistant requires calling some functions\n",
    "  # and submit the tool outputs back to the run\n",
    "  pass\n",
    "else:\n",
    "  print(run.status)"
   ]
  },
  {
   "cell_type": "code",
   "execution_count": null,
   "id": "2416fa71-e38f-48ef-9498-4224fde09ddb",
   "metadata": {},
   "outputs": [],
   "source": []
  }
 ],
 "metadata": {
  "kernelspec": {
   "display_name": "Python 3 (ipykernel)",
   "language": "python",
   "name": "python3"
  },
  "language_info": {
   "codemirror_mode": {
    "name": "ipython",
    "version": 3
   },
   "file_extension": ".py",
   "mimetype": "text/x-python",
   "name": "python",
   "nbconvert_exporter": "python",
   "pygments_lexer": "ipython3",
   "version": "3.10.17"
  }
 },
 "nbformat": 4,
 "nbformat_minor": 5
}
