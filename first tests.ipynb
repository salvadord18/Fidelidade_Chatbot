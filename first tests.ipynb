{
 "cells": [
  {
   "cell_type": "code",
   "execution_count": 1,
   "id": "8cbe420b-6375-4c5d-baf4-d9d8460c28ac",
   "metadata": {
    "execution": {
     "iopub.execute_input": "2025-05-07T09:13:26.131436Z",
     "iopub.status.busy": "2025-05-07T09:13:26.131000Z",
     "iopub.status.idle": "2025-05-07T09:13:47.419507Z",
     "shell.execute_reply": "2025-05-07T09:13:47.418665Z",
     "shell.execute_reply.started": "2025-05-07T09:13:26.131402Z"
    }
   },
   "outputs": [
    {
     "name": "stdout",
     "output_type": "stream",
     "text": [
      "Claro, aqui vai uma anedota sobre programadores que sempre me faz rir:\n",
      "\n",
      "Dois programadores estão trabalhando em um projeto complexo. Um deles, o João, está com um problema particularmente difícil e está falando sozinho, frustrado:\n",
      "\n",
      "\"Por que isso não funciona? Eu declarei a variável, defini o tipo, fiz a chamada de função... Não pode ser!\"\n",
      "\n",
      "O outro programador, o Pedro, que estava do outro lado da sala, levantou a cabeça e perguntou:\n",
      "\n",
      "\"João, você está falando com o código de novo?\"\n",
      "\n",
      "João respondeu, sem tirar os olhos da tela: \"Não, eu estou dialogando com ele. Ele me deve uma explicação.\"\n",
      "\n",
      "Pedro balançou a cabeça sorrindo e disse: \"Acho que você precisa de um café.\"\n",
      "\n",
      "A anedota ilustra o quão profundo o relacionamento entre um programador e o código que ele escreve pode ser. É quase como se estivessem conversando diretamente com a máquina! 😂\n",
      "\n",
      "Espero que tenha gostado!\n"
     ]
    }
   ],
   "source": [
    "import requests\n",
    "\n",
    "api_key = \"20211595:29e2994c-2337-48d4-a828-4a8f424edfd0\"\n",
    "endpoint = \"https://iaapi.novaims.unl.pt/v1/completions\"\n",
    "def llama_completion(prompt, max_tokens=1024):\n",
    "    headers = {\n",
    "        \"Authorization\": f\"Bearer {api_key}\",\n",
    "        \"Content-Type\": \"application/json\"\n",
    "    }\n",
    "    data = {\n",
    "        \"model\": \"Gemma3:12b\",\n",
    "        \"prompt\": prompt,\n",
    "        \"max_tokens\": max_tokens\n",
    "    }\n",
    "    response = requests.post(endpoint, headers=headers, json=data)\n",
    "    return response.json()\n",
    "\n",
    "def main():\n",
    "    prompt = \"Conta uma anedota sobre programadores\"\n",
    "    response = llama_completion(prompt)\n",
    "    print(response[\"choices\"][0][\"text\"])\n",
    "\n",
    "if __name__ == \"__main__\":\n",
    "    main()"
   ]
  },
  {
   "cell_type": "markdown",
   "id": "f1a471a8-1512-4884-a0b8-f0d0ad4eb009",
   "metadata": {},
   "source": [
    "**ESSENCIAL**"
   ]
  },
  {
   "cell_type": "code",
   "execution_count": 14,
   "id": "9fcfa8f2-e882-43bf-974f-73da6b177750",
   "metadata": {
    "execution": {
     "iopub.execute_input": "2025-05-13T14:11:30.575463Z",
     "iopub.status.busy": "2025-05-13T14:11:30.575089Z",
     "iopub.status.idle": "2025-05-13T14:11:30.603697Z",
     "shell.execute_reply": "2025-05-13T14:11:30.602663Z",
     "shell.execute_reply.started": "2025-05-13T14:11:30.575434Z"
    }
   },
   "outputs": [],
   "source": [
    "import os\n",
    "from openai import AzureOpenAI\n",
    "import api\n",
    "\n",
    "endpoint = \"https://ai-bcds.openai.azure.com/\"\n",
    "model_name = \"gpt-4o-mini\"\n",
    "deployment = \"gpt-4o-mini\"\n",
    "\n",
    "subscription_key = api.key\n",
    "api_version = \"2024-12-01-preview\"\n",
    "\n",
    "client = AzureOpenAI(\n",
    "    api_version=api_version,\n",
    "    azure_endpoint=endpoint,\n",
    "    api_key=subscription_key,\n",
    ")\n"
   ]
  },
  {
   "cell_type": "markdown",
   "id": "d7ff6c77-b101-4c9b-bd17-41f4a4571021",
   "metadata": {},
   "source": [
    "**CHATBOT BASE sem ler documentos**"
   ]
  },
  {
   "cell_type": "code",
   "execution_count": 12,
   "id": "5cf4fe9f-1764-456b-9c51-4afadbcb9493",
   "metadata": {
    "execution": {
     "iopub.execute_input": "2025-05-13T14:06:35.485672Z",
     "iopub.status.busy": "2025-05-13T14:06:35.485317Z",
     "iopub.status.idle": "2025-05-13T14:06:48.036464Z",
     "shell.execute_reply": "2025-05-13T14:06:48.035724Z",
     "shell.execute_reply.started": "2025-05-13T14:06:35.485642Z"
    },
    "scrolled": true
   },
   "outputs": [
    {
     "name": "stdin",
     "output_type": "stream",
     "text": [
      "Ask your financial assistant:  how do i invest in stocks\n"
     ]
    },
    {
     "name": "stdout",
     "output_type": "stream",
     "text": [
      "\n",
      "💬 Answer: Investing in stocks can be a rewarding way to build wealth over time, but it's important to understand the basics before getting started. Here’s a step-by-step guide to help you begin:\n",
      "\n",
      "### 1. **Educate Yourself**\n",
      "   - **Understand What Stocks Are:** Stocks represent ownership in a company. When you buy a stock, you own a small piece of that company.\n",
      "   - **Learn Basic Terminology:** Familiarize yourself with terms like dividends, market capitalization, and P/E ratio.\n",
      "\n",
      "### 2. **Set Your Investment Goals**\n",
      "   - **Determine Your Objectives:** Are you investing for retirement, a major purchase, or just to grow your wealth? Your goals will influence your investment strategy.\n",
      "   - **Assess Your Risk Tolerance:** Consider how much risk you are willing to take. Stocks can be volatile, and prices can fluctuate significantly.\n",
      "\n",
      "### 3. **Choose an Investment Account**\n",
      "   - **Brokerage Account:** You’ll need to open a brokerage account to buy and sell stocks. This can be done through traditional brokers, online brokers, or robo-advisors.\n",
      "   - **Retirement Accounts:** If you're investing for retirement, consider accounts like a 401(k) or an IRA, which offer tax advantages.\n",
      "\n",
      "### 4. **Research Stocks**\n",
      "   - **Look for Companies to Invest In:** Consider industries you understand or companies you believe will grow. Look at their financial health, business model, and market position.\n",
      "   - **Use Tools and Resources:** Websites like Yahoo Finance, Google Finance, and brokerage platforms provide valuable information on stocks.\n",
      "\n",
      "### 5. **Create a Diversified Portfolio**\n",
      "   - **Don’t Put All Your Eggs in One Basket:** Diversifying means spreading your investments across different companies and sectors to reduce risk.\n",
      "   - **Consider ETFs and Mutual Funds:** These are collections of stocks that can provide instant diversification.\n",
      "\n",
      "### 6. **Decide on an Investment Strategy**\n",
      "   - **Long-Term vs. Short-Term:** Long-term investing generally involves buying stocks and holding them for years, while short-term trading involves buying and selling stocks more frequently.\n",
      "   - **Value vs. Growth Investing:** Value investors look for undervalued stocks, while growth investors seek stocks with potential for substantial growth.\n",
      "\n",
      "### 7. **Make Your First Investment**\n",
      "   - **Start Small:** If you’re new, consider starting with a small amount of money to get comfortable.\n",
      "   - **Place Your Order:** Use your brokerage account to buy shares. You can typically choose between a market order (buy at current price) or a limit order (set a specific price).\n",
      "\n",
      "### 8. **Monitor Your Investments**\n",
      "   - **Stay Informed:** Regularly check how your investments are performing and stay updated on market trends.\n",
      "   - **Rebalance as Needed:** If certain stocks or sectors grow faster than others, you may need to adjust your portfolio to maintain your desired level of risk.\n",
      "\n",
      "### 9. **Be Patient and Stay Disciplined**\n",
      "   - **Investing Is a Long Game:** Stock prices can fluctuate, but a long-term perspective can help you ride out the ups and downs.\n",
      "   - **Avoid Emotional Decisions:** Don't let fear or greed dictate your investment choices.\n",
      "\n",
      "### 10. **Seek Professional Advice If Needed**\n",
      "   - If you're unsure or feel overwhelmed, consider consulting with a financial advisor who can provide personalized guidance.\n",
      "\n",
      "### Conclusion\n",
      "Investing in stocks can be a great way to grow your wealth over time. By educating yourself, setting clear goals, and developing a solid strategy, you can navigate the stock market with confidence. Remember, it's always okay to start small and gradually build your investment knowledge and portfolio.\n"
     ]
    }
   ],
   "source": [
    "# === CHAT FUNCTION ===\n",
    "def ask_financial_bot(user_input: str) -> str:\n",
    "    messages = [\n",
    "        {\n",
    "            \"role\": \"system\",\n",
    "            \"content\": (\n",
    "                \"You are a helpful and professional financial assistant. \"\n",
    "                \"Always give clear, trustworthy financial advice, and explain things in a beginner-friendly way.\"\n",
    "            )\n",
    "        },\n",
    "        {\n",
    "            \"role\": \"user\",\n",
    "            \"content\": user_input\n",
    "        }\n",
    "        \n",
    "    ]\n",
    "\n",
    "    response = client.chat.completions.create(\n",
    "        model=deployment,\n",
    "        messages=messages,\n",
    "        max_tokens=1024,\n",
    "        temperature=0.7,\n",
    "        top_p=1.0\n",
    "    )\n",
    "\n",
    "    return response.choices[0].message.content\n",
    "\n",
    "# === EXAMPLE USE ===\n",
    "if __name__ == \"__main__\":\n",
    "    question = input(\"Ask your financial assistant: \")\n",
    "    answer = ask_financial_bot(question)\n",
    "    print(\"\\n💬 Answer:\", answer)\n"
   ]
  },
  {
   "cell_type": "markdown",
   "id": "d511f1fc-23fb-4eec-9827-a3f985a5d27b",
   "metadata": {},
   "source": [
    "**CHATBOT a ler 1 documento**"
   ]
  },
  {
   "cell_type": "code",
   "execution_count": 18,
   "id": "4d585bda-83ca-48a9-bf98-79613581a85d",
   "metadata": {
    "execution": {
     "iopub.execute_input": "2025-05-13T14:13:05.260958Z",
     "iopub.status.busy": "2025-05-13T14:13:05.260615Z",
     "iopub.status.idle": "2025-05-13T14:13:05.289264Z",
     "shell.execute_reply": "2025-05-13T14:13:05.288366Z",
     "shell.execute_reply.started": "2025-05-13T14:13:05.260930Z"
    }
   },
   "outputs": [],
   "source": [
    "import fitz  # PyMuPDF\n",
    "\n",
    "def extract_text_from_pdf(path):\n",
    "    doc = fitz.open(path)\n",
    "    return \"\\n\".join(page.get_text() for page in doc)\n",
    "\n",
    "pdf_text = extract_text_from_pdf(\"docs/Documents for training and evaluation-20250507/Questions_Answers_Censored.pdf\")\n",
    "\n",
    "def ask_with_pdf_context(user_input):\n",
    "    messages = [\n",
    "        {\n",
    "            \"role\": \"system\",\n",
    "            \"content\": (\n",
    "                \"You are a financial assistant. Use the following document as context:\\n\\n\"\n",
    "                + pdf_text[:5000]  # Keep it short to avoid hitting token limits\n",
    "            )\n",
    "        },\n",
    "        {\"role\": \"user\", \"content\": user_input}\n",
    "    ]\n",
    "\n",
    "    response = client.chat.completions.create(\n",
    "        model=deployment,\n",
    "        messages=messages,\n",
    "        max_tokens=1024\n",
    "    )\n",
    "    return response.choices[0].message.content\n"
   ]
  },
  {
   "cell_type": "code",
   "execution_count": 19,
   "id": "087c71c0-9d60-45cd-b169-a5722f85377c",
   "metadata": {
    "execution": {
     "iopub.execute_input": "2025-05-13T14:13:06.746625Z",
     "iopub.status.busy": "2025-05-13T14:13:06.746260Z",
     "iopub.status.idle": "2025-05-13T14:13:11.372227Z",
     "shell.execute_reply": "2025-05-13T14:13:11.371412Z",
     "shell.execute_reply.started": "2025-05-13T14:13:06.746594Z"
    }
   },
   "outputs": [
    {
     "name": "stdin",
     "output_type": "stream",
     "text": [
      "Ask your financial assistant:  O Fidelidade Savings é mais indicado para que perfil de risco?\n"
     ]
    },
    {
     "name": "stdout",
     "output_type": "stream",
     "text": [
      "\n",
      "💬 Answer: O Fidelidade Savings é adequado para diferentes perfis de risco:\n",
      "\n",
      "1. **Clientes conservadores**: Opção Seguro, que oferece capital e rendimento garantido.\n",
      "2. **Clientes com tolerância moderada ao risco**: Opção Proteção, que garante 90% do capital investido no vencimento e possui exposição ao Índice Multiativos.\n",
      "3. **Clientes propensos ao risco**: Opção Dinâmico, com 100% de exposição ao Índice Multiativos.\n",
      "4. **Clientes preocupados com questões ambientais, sociais e de governança**: Opção ESG, que investe no índice Multiativos ESG, mas com risco associado.\n"
     ]
    }
   ],
   "source": [
    "# === EXAMPLE USE ===\n",
    "if __name__ == \"__main__\":\n",
    "    question = input(\"Ask your financial assistant: \")\n",
    "    answer = ask_with_pdf_context(question)\n",
    "    print(\"\\n💬 Answer:\", answer)\n"
   ]
  },
  {
   "cell_type": "markdown",
   "id": "ca59a0bc-2fdb-4798-94c7-312da92ab75d",
   "metadata": {},
   "source": [
    "**CHATBOT a ler vários documentos**"
   ]
  },
  {
   "cell_type": "code",
   "execution_count": 20,
   "id": "c7a906c0-a3f6-4569-9e35-9498e5ff2f0c",
   "metadata": {
    "execution": {
     "iopub.execute_input": "2025-05-13T14:17:16.891055Z",
     "iopub.status.busy": "2025-05-13T14:17:16.890709Z",
     "iopub.status.idle": "2025-05-13T14:17:16.895130Z",
     "shell.execute_reply": "2025-05-13T14:17:16.894279Z",
     "shell.execute_reply.started": "2025-05-13T14:17:16.891027Z"
    }
   },
   "outputs": [],
   "source": [
    "import fitz\n",
    "\n",
    "def extract_text_from_pdf(path):\n",
    "    doc = fitz.open(path)\n",
    "    return \"\\n\".join(page.get_text() for page in doc)"
   ]
  },
  {
   "cell_type": "code",
   "execution_count": 22,
   "id": "66e36882-cb70-4735-8aa8-f5ad88877b10",
   "metadata": {
    "execution": {
     "iopub.execute_input": "2025-05-13T14:18:03.095808Z",
     "iopub.status.busy": "2025-05-13T14:18:03.095456Z",
     "iopub.status.idle": "2025-05-13T14:18:03.121313Z",
     "shell.execute_reply": "2025-05-13T14:18:03.120602Z",
     "shell.execute_reply.started": "2025-05-13T14:18:03.095778Z"
    }
   },
   "outputs": [],
   "source": [
    "import os\n",
    "\n",
    "pdf_dir = \"docs/Documents for training and evaluation-20250507\"\n",
    "all_texts = []\n",
    "\n",
    "for pdf_file in os.listdir(pdf_dir):\n",
    "    if pdf_file.endswith(\".pdf\"):\n",
    "        path = os.path.join(pdf_dir, pdf_file)\n",
    "        text = extract_text_from_pdf(path)\n",
    "        all_texts.append(text)\n"
   ]
  },
  {
   "cell_type": "code",
   "execution_count": 23,
   "id": "cf974358-2f62-4c51-bbcf-b19599ab6c98",
   "metadata": {
    "execution": {
     "iopub.execute_input": "2025-05-13T14:18:09.581140Z",
     "iopub.status.busy": "2025-05-13T14:18:09.580688Z",
     "iopub.status.idle": "2025-05-13T14:18:09.810798Z",
     "shell.execute_reply": "2025-05-13T14:18:09.810001Z",
     "shell.execute_reply.started": "2025-05-13T14:18:09.581108Z"
    }
   },
   "outputs": [],
   "source": [
    "from langchain.text_splitter import RecursiveCharacterTextSplitter\n",
    "\n",
    "splitter = RecursiveCharacterTextSplitter(chunk_size=500, chunk_overlap=100)\n",
    "chunks = splitter.create_documents(all_texts)\n",
    "texts = [chunk.page_content for chunk in chunks]\n"
   ]
  },
  {
   "cell_type": "code",
   "execution_count": 29,
   "id": "638f0c4c-8c63-46d5-8653-1406f8f9a817",
   "metadata": {
    "execution": {
     "iopub.execute_input": "2025-05-13T14:24:35.716649Z",
     "iopub.status.busy": "2025-05-13T14:24:35.716251Z",
     "iopub.status.idle": "2025-05-13T14:24:39.914650Z",
     "shell.execute_reply": "2025-05-13T14:24:39.913786Z",
     "shell.execute_reply.started": "2025-05-13T14:24:35.716616Z"
    }
   },
   "outputs": [],
   "source": [
    "from openai import AzureOpenAI\n",
    "import numpy as np\n",
    "\n",
    "embedding_client = AzureOpenAI(\n",
    "    api_key=\"8J6pTdfaGgA5r193UVLsBshUspqwNpal42Jse1aHaok1cWNTLpRkJQQJ99BDACYeBjFXJ3w3AAABACOGLa23\",\n",
    "    api_version=\"2024-02-01\",\n",
    "    azure_endpoint=\"https://ai-bcds.openai.azure.com/\"\n",
    ")\n",
    "\n",
    "def get_embedding(text):\n",
    "    response = embedding_client.embeddings.create(\n",
    "        input=[text],\n",
    "        model=\"text-embedding-3-small\"  # Use the deployment name you set up\n",
    "    )\n",
    "    return response.data[0].embedding\n",
    "\n",
    "# Create embeddings for all text chunks\n",
    "embeddings = [get_embedding(text) for text in texts]\n"
   ]
  },
  {
   "cell_type": "code",
   "execution_count": 30,
   "id": "8c36456c-055f-4b33-807a-b13c83422de0",
   "metadata": {
    "execution": {
     "iopub.execute_input": "2025-05-13T14:25:33.513958Z",
     "iopub.status.busy": "2025-05-13T14:25:33.513571Z",
     "iopub.status.idle": "2025-05-13T14:25:33.557502Z",
     "shell.execute_reply": "2025-05-13T14:25:33.556363Z",
     "shell.execute_reply.started": "2025-05-13T14:25:33.513927Z"
    }
   },
   "outputs": [
    {
     "ename": "ModuleNotFoundError",
     "evalue": "No module named 'faiss'",
     "output_type": "error",
     "traceback": [
      "\u001b[31m---------------------------------------------------------------------------\u001b[39m",
      "\u001b[31mModuleNotFoundError\u001b[39m                       Traceback (most recent call last)",
      "\u001b[36mCell\u001b[39m\u001b[36m \u001b[39m\u001b[32mIn[30]\u001b[39m\u001b[32m, line 1\u001b[39m\n\u001b[32m----> \u001b[39m\u001b[32m1\u001b[39m \u001b[38;5;28;01mimport\u001b[39;00m\u001b[38;5;250m \u001b[39m\u001b[34;01mfaiss\u001b[39;00m\n\u001b[32m      3\u001b[39m dimension = \u001b[38;5;28mlen\u001b[39m(embeddings[\u001b[32m0\u001b[39m])\n\u001b[32m      4\u001b[39m index = faiss.IndexFlatL2(dimension)\n",
      "\u001b[31mModuleNotFoundError\u001b[39m: No module named 'faiss'"
     ]
    }
   ],
   "source": [
    "import faiss\n",
    "\n",
    "dimension = len(embeddings[0])\n",
    "index = faiss.IndexFlatL2(dimension)\n",
    "\n",
    "# Add embeddings to the FAISS index\n",
    "index.add(np.array(embeddings).astype('float32'))\n",
    "\n",
    "# Optionally, save the index for later use\n",
    "faiss.write_index(index, \"my_pdf_index.faiss\")\n"
   ]
  },
  {
   "cell_type": "code",
   "execution_count": 31,
   "id": "60542478-d96e-415f-b799-81955c94be55",
   "metadata": {
    "execution": {
     "iopub.execute_input": "2025-05-13T14:25:42.492141Z",
     "iopub.status.busy": "2025-05-13T14:25:42.491792Z",
     "iopub.status.idle": "2025-05-13T14:25:43.358560Z",
     "shell.execute_reply": "2025-05-13T14:25:43.357397Z",
     "shell.execute_reply.started": "2025-05-13T14:25:42.492114Z"
    }
   },
   "outputs": [
    {
     "ename": "NameError",
     "evalue": "name 'index' is not defined",
     "output_type": "error",
     "traceback": [
      "\u001b[31m---------------------------------------------------------------------------\u001b[39m",
      "\u001b[31mNameError\u001b[39m                                 Traceback (most recent call last)",
      "\u001b[36mCell\u001b[39m\u001b[36m \u001b[39m\u001b[32mIn[31]\u001b[39m\u001b[32m, line 8\u001b[39m\n\u001b[32m      6\u001b[39m \u001b[38;5;66;03m# Example usage\u001b[39;00m\n\u001b[32m      7\u001b[39m query = \u001b[33m\"\u001b[39m\u001b[33mWhat are the latest trends in financial advising?\u001b[39m\u001b[33m\"\u001b[39m\n\u001b[32m----> \u001b[39m\u001b[32m8\u001b[39m top_chunks = \u001b[43mget_top_k_chunks\u001b[49m\u001b[43m(\u001b[49m\u001b[43mquery\u001b[49m\u001b[43m)\u001b[49m\n",
      "\u001b[36mCell\u001b[39m\u001b[36m \u001b[39m\u001b[32mIn[31]\u001b[39m\u001b[32m, line 3\u001b[39m, in \u001b[36mget_top_k_chunks\u001b[39m\u001b[34m(query, k)\u001b[39m\n\u001b[32m      1\u001b[39m \u001b[38;5;28;01mdef\u001b[39;00m\u001b[38;5;250m \u001b[39m\u001b[34mget_top_k_chunks\u001b[39m(query, k=\u001b[32m3\u001b[39m):\n\u001b[32m      2\u001b[39m     query_vec = np.array([get_embedding(query)]).astype(\u001b[33m'\u001b[39m\u001b[33mfloat32\u001b[39m\u001b[33m'\u001b[39m)\n\u001b[32m----> \u001b[39m\u001b[32m3\u001b[39m     D, I = \u001b[43mindex\u001b[49m.search(query_vec, k)  \u001b[38;5;66;03m# Get top-k similar chunks\u001b[39;00m\n\u001b[32m      4\u001b[39m     \u001b[38;5;28;01mreturn\u001b[39;00m [texts[i] \u001b[38;5;28;01mfor\u001b[39;00m i \u001b[38;5;129;01min\u001b[39;00m I[\u001b[32m0\u001b[39m]]\n",
      "\u001b[31mNameError\u001b[39m: name 'index' is not defined"
     ]
    }
   ],
   "source": [
    "def get_top_k_chunks(query, k=3):\n",
    "    query_vec = np.array([get_embedding(query)]).astype('float32')\n",
    "    D, I = index.search(query_vec, k)  # Get top-k similar chunks\n",
    "    return [texts[i] for i in I[0]]  # Return the corresponding text chunks\n",
    "\n",
    "# Example usage\n",
    "query = \"What are the latest trends in financial advising?\"\n",
    "top_chunks = get_top_k_chunks(query)\n"
   ]
  },
  {
   "cell_type": "code",
   "execution_count": 28,
   "id": "748925a1-7c93-4b68-824d-44434738ccee",
   "metadata": {
    "execution": {
     "iopub.execute_input": "2025-05-13T14:22:58.094272Z",
     "iopub.status.busy": "2025-05-13T14:22:58.093915Z",
     "iopub.status.idle": "2025-05-13T14:23:00.437967Z",
     "shell.execute_reply": "2025-05-13T14:23:00.436898Z",
     "shell.execute_reply.started": "2025-05-13T14:22:58.094245Z"
    }
   },
   "outputs": [
    {
     "name": "stdout",
     "output_type": "stream",
     "text": [
      "\u001b[31mERROR: Could not find a version that satisfies the requirement faiss (from versions: none)\u001b[0m\u001b[31m\n",
      "\u001b[0m\u001b[31mERROR: No matching distribution found for faiss\u001b[0m\u001b[31m\n",
      "\u001b[0mNote: you may need to restart the kernel to use updated packages.\n"
     ]
    }
   ],
   "source": [
    "%pip install faiss"
   ]
  },
  {
   "cell_type": "code",
   "execution_count": null,
   "id": "520d2bbe-5baa-4c88-a7f3-b57fc590d62a",
   "metadata": {},
   "outputs": [],
   "source": []
  }
 ],
 "metadata": {
  "kernelspec": {
   "display_name": "bcwds2",
   "language": "python",
   "name": "bcwds2"
  },
  "language_info": {
   "codemirror_mode": {
    "name": "ipython",
    "version": 3
   },
   "file_extension": ".py",
   "mimetype": "text/x-python",
   "name": "python",
   "nbconvert_exporter": "python",
   "pygments_lexer": "ipython3",
   "version": "3.13.2"
  }
 },
 "nbformat": 4,
 "nbformat_minor": 5
}
