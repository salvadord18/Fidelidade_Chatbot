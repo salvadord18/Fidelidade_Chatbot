{
 "cells": [
  {
   "cell_type": "code",
   "execution_count": 1,
   "id": "8cbe420b-6375-4c5d-baf4-d9d8460c28ac",
   "metadata": {
    "execution": {
     "iopub.execute_input": "2025-05-07T09:13:26.131436Z",
     "iopub.status.busy": "2025-05-07T09:13:26.131000Z",
     "iopub.status.idle": "2025-05-07T09:13:47.419507Z",
     "shell.execute_reply": "2025-05-07T09:13:47.418665Z",
     "shell.execute_reply.started": "2025-05-07T09:13:26.131402Z"
    }
   },
   "outputs": [
    {
     "name": "stdout",
     "output_type": "stream",
     "text": [
      "Com prazer! Aqui vai uma anedota clássica sobre programadores:\n",
      "\n",
      "Um programador está sendo entrevistado para uma vaga. O entrevistador decide testá-lo com uma pergunta simples:\n",
      "\n",
      "\"Como você resolveria o problema de uma geladeira que não está funcionando?\"\n",
      "\n",
      "O programador, sem hesitar, responde:\n",
      "\n",
      "\"Primeiro, eu verificaria se ela está ligada.\"\n",
      "\n",
      "O entrevistador, um pouco decepcionado, pergunta: \"E se ela estiver ligada?\"\n",
      "\n",
      "O programador responde: \"Então eu verificaria se a tomada está funcionando.\"\n",
      "\n",
      "\"E se a tomada estiver funcionando?\"\n",
      "\n",
      "\"Eu checaria se o fio está conectado.\"\n",
      "\n",
      "A conversa continua nesse ritmo, com o programador oferecendo soluções cada vez mais básicas e lógicas. O entrevistador, já impaciente, explode:\n",
      "\n",
      "\"Para com isso! Você está me dando respostas óbvias! Você não pode resolver problemas complexos?\"\n",
      "\n",
      "E o programador, com a maior naturalidade do mundo, responde:\n",
      "\n",
      "\"Eu estou resolvendo. Estou resolvendo o problema de uma geladeira que não está funcionando, um passo de cada vez.\"\n",
      "\n",
      "**Moral da história:** Programadores são treinados para decompor problemas complexos em partes menores e tratá-las sistematicamente. Às vezes, a solução mais óbvia é a mais eficaz! 😂\n",
      "\n"
     ]
    }
   ],
   "source": [
    "import requests\n",
    "\n",
    "api_key = \"20211595:29e2994c-2337-48d4-a828-4a8f424edfd0\"\n",
    "endpoint = \"https://iaapi.novaims.unl.pt/v1/completions\"\n",
    "def llama_completion(prompt, max_tokens=1024):\n",
    "    headers = {\n",
    "        \"Authorization\": f\"Bearer {api_key}\",\n",
    "        \"Content-Type\": \"application/json\"\n",
    "    }\n",
    "    data = {\n",
    "        \"model\": \"Gemma3:12b\",\n",
    "        \"prompt\": prompt,\n",
    "        \"max_tokens\": max_tokens\n",
    "    }\n",
    "    response = requests.post(endpoint, headers=headers, json=data)\n",
    "    return response.json()\n",
    "\n",
    "def main():\n",
    "    prompt = \"Conta uma anedota sobre programadores\"\n",
    "    response = llama_completion(prompt)\n",
    "    print(response[\"choices\"][0][\"text\"])\n",
    "\n",
    "if __name__ == \"__main__\":\n",
    "    main()"
   ]
  },
  {
   "cell_type": "markdown",
   "id": "f1a471a8-1512-4884-a0b8-f0d0ad4eb009",
   "metadata": {},
   "source": [
    "**ESSENCIAL**"
   ]
  },
  {
   "cell_type": "code",
   "execution_count": 2,
   "id": "9fcfa8f2-e882-43bf-974f-73da6b177750",
   "metadata": {
    "ExecuteTime": {
     "end_time": "2025-05-13T14:41:21.085008Z",
     "start_time": "2025-05-13T14:41:20.011667Z"
    },
    "execution": {
     "iopub.execute_input": "2025-05-13T14:11:30.575463Z",
     "iopub.status.busy": "2025-05-13T14:11:30.575089Z",
     "iopub.status.idle": "2025-05-13T14:11:30.603697Z",
     "shell.execute_reply": "2025-05-13T14:11:30.602663Z",
     "shell.execute_reply.started": "2025-05-13T14:11:30.575434Z"
    }
   },
   "outputs": [
    {
     "name": "stdout",
     "output_type": "stream",
     "text": [
      "8J6pTdfaGgA5r193UVLsBshUspqwNpal42Jse1aHaok1cWNTLpRkJQQJ99BDACYeBjFXJ\n",
      "https://ai-bcds.openai.azure.com/\n"
     ]
    }
   ],
   "source": [
    "import os\n",
    "from openai import AzureOpenAI\n",
    "import api\n",
    "\n",
    "endpoint = \"https://ai-bcds.openai.azure.com/\"\n",
    "model_name = \"gpt-4o-mini\"\n",
    "deployment = \"gpt-4o-mini\"\n",
    "\n",
    "subscription_key = api.local_settings.API_KEY\n",
    "api_version = \"2024-12-01-preview\"\n",
    "\n",
    "client = AzureOpenAI(\n",
    "    api_version=api_version,\n",
    "    azure_endpoint=endpoint,\n",
    "    api_key=subscription_key,\n",
    ")\n"
   ]
  },
  {
   "cell_type": "markdown",
   "id": "d7ff6c77-b101-4c9b-bd17-41f4a4571021",
   "metadata": {},
   "source": [
    "**CHATBOT BASE sem ler documentos**"
   ]
  },
  {
   "cell_type": "code",
   "execution_count": 3,
   "id": "5cf4fe9f-1764-456b-9c51-4afadbcb9493",
   "metadata": {
    "execution": {
     "iopub.execute_input": "2025-05-13T14:06:35.485672Z",
     "iopub.status.busy": "2025-05-13T14:06:35.485317Z",
     "iopub.status.idle": "2025-05-13T14:06:48.036464Z",
     "shell.execute_reply": "2025-05-13T14:06:48.035724Z",
     "shell.execute_reply.started": "2025-05-13T14:06:35.485642Z"
    },
    "scrolled": true
   },
   "outputs": [
    {
     "name": "stdout",
     "output_type": "stream",
     "text": [
      "\n",
      "💬 Answer: Choosing the best investments depends on various factors, including your financial goals, risk tolerance, investment horizon, and current market conditions. Here are some common investment options along with their characteristics:\n",
      "\n",
      "1. **Stocks**: Investing in individual companies can offer high returns, but it also comes with higher risk. Stocks are best for those who are willing to ride out market fluctuations.\n",
      "\n",
      "2. **Bonds**: Bonds are generally considered safer than stocks and provide fixed interest payments over time. They’re suitable for conservative investors looking for steady income.\n",
      "\n",
      "3. **Mutual Funds**: These are professionally managed investment funds that pool money from many investors to buy a diversified portfolio of stocks or bonds. They are good for beginners looking for diversification.\n",
      "\n",
      "4. **Exchange-Traded Funds (ETFs)**: Similar to mutual funds, ETFs trade on stock exchanges and typically track an index. They offer diversification and lower fees than mutual funds.\n",
      "\n",
      "5. **Real Estate**: Investing in property can provide rental income and potential appreciation. However, it requires more management and can involve higher initial costs.\n",
      "\n",
      "6. **Index Funds**: These are a type of mutual fund or ETF that aims to replicate the performance of a specific index, like the S&P 500. They're typically low-cost and a great way to invest in the stock market without picking individual stocks.\n",
      "\n",
      "7. **Retirement Accounts (e.g., 401(k), IRA)**: These accounts offer tax advantages for long-term savings. Investing in a diversified portfolio within these accounts can help you build wealth for retirement.\n",
      "\n",
      "8. **Cryptocurrencies**: Digital currencies can offer high returns but are very volatile and risky. They should be approached with caution and are generally better suited for experienced investors.\n",
      "\n",
      "### Key Considerations:\n",
      "- **Risk Tolerance**: Understand how much risk you are willing to take. Higher potential returns usually come with higher risk.\n",
      "- **Time Horizon**: Consider how long you plan to invest before needing the money. Longer time horizons can often tolerate more risk.\n",
      "- **Diversification**: Spreading investments across different asset classes can reduce risk.\n",
      "- **Research**: Always do your homework or consult a financial advisor if you're unsure about where to invest.\n",
      "\n",
      "### Conclusion:\n",
      "There is no one-size-fits-all answer to what the best investments are. A balanced approach that aligns with your personal financial situation and goals is typically the best strategy. If you're new to investing, starting with diversified funds like index funds or ETFs can be a good way to ease in.\n"
     ]
    }
   ],
   "source": [
    "# === CHAT FUNCTION ===\n",
    "def ask_financial_bot(user_input: str) -> str:\n",
    "    messages = [\n",
    "        {\n",
    "            \"role\": \"system\",\n",
    "            \"content\": (\n",
    "                \"You are a helpful and professional financial assistant. \"\n",
    "                \"Always give clear, trustworthy financial advice, and explain things in a beginner-friendly way.\"\n",
    "            )\n",
    "        },\n",
    "        {\n",
    "            \"role\": \"user\",\n",
    "            \"content\": user_input\n",
    "        }\n",
    "        \n",
    "    ]\n",
    "\n",
    "    response = client.chat.completions.create(\n",
    "        model=deployment,\n",
    "        messages=messages,\n",
    "        max_tokens=1024,\n",
    "        temperature=0.7,\n",
    "        top_p=1.0\n",
    "    )\n",
    "\n",
    "    return response.choices[0].message.content\n",
    "\n",
    "# === EXAMPLE USE ===\n",
    "if __name__ == \"__main__\":\n",
    "    question = input(\"Ask your financial assistant: \")\n",
    "    answer = ask_financial_bot(question)\n",
    "    print(\"\\n💬 Answer:\", answer)\n"
   ]
  },
  {
   "cell_type": "markdown",
   "id": "d511f1fc-23fb-4eec-9827-a3f985a5d27b",
   "metadata": {},
   "source": [
    "**CHATBOT a ler 1 documento**"
   ]
  },
  {
   "cell_type": "code",
   "execution_count": 11,
   "id": "4d585bda-83ca-48a9-bf98-79613581a85d",
   "metadata": {
    "execution": {
     "iopub.execute_input": "2025-05-13T14:13:05.260958Z",
     "iopub.status.busy": "2025-05-13T14:13:05.260615Z",
     "iopub.status.idle": "2025-05-13T14:13:05.289264Z",
     "shell.execute_reply": "2025-05-13T14:13:05.288366Z",
     "shell.execute_reply.started": "2025-05-13T14:13:05.260930Z"
    }
   },
   "outputs": [],
   "source": [
    "import fitz  # PyMuPDF\n",
    "\n",
    "def extract_text_from_pdf(path):\n",
    "    doc = fitz.open(path)\n",
    "    return \"\\n\".join(page.get_text() for page in doc)\n",
    "\n",
    "pdf_text = extract_text_from_pdf(\"docs/Documents for training and evaluation-20250507/Questions_Answers_Censored.pdf\")\n",
    "\n",
    "def ask_with_pdf_context(user_input):\n",
    "    messages = [\n",
    "        {\n",
    "            \"role\": \"system\",\n",
    "            \"content\": (\n",
    "                \"You are a financial assistant. Use the following document as context:\\n\\n\"\n",
    "                + pdf_text[:5000]  # Keep it short to avoid hitting token limits\n",
    "            )\n",
    "        },\n",
    "        {\"role\": \"user\", \"content\": user_input}\n",
    "    ]\n",
    "\n",
    "    response = client.chat.completions.create(\n",
    "        model=deployment,\n",
    "        messages=messages,\n",
    "        max_tokens=1024\n",
    "    )\n",
    "    return response.choices[0].message.content\n"
   ]
  },
  {
   "cell_type": "code",
   "execution_count": 12,
   "id": "087c71c0-9d60-45cd-b169-a5722f85377c",
   "metadata": {
    "execution": {
     "iopub.execute_input": "2025-05-13T14:13:06.746625Z",
     "iopub.status.busy": "2025-05-13T14:13:06.746260Z",
     "iopub.status.idle": "2025-05-13T14:13:11.372227Z",
     "shell.execute_reply": "2025-05-13T14:13:11.371412Z",
     "shell.execute_reply.started": "2025-05-13T14:13:06.746594Z"
    }
   },
   "outputs": [
    {
     "name": "stdout",
     "output_type": "stream",
     "text": [
      "\n",
      "💬 Answer: O Fidelidade Savings é indicado para diferentes perfis de risco:\n",
      "\n",
      "1. **Clientes conservadores**: Opção Seguro, que oferece capital e rendimento garantido.\n",
      "2. **Clientes com risco moderado**: Opção Proteção, que garante 90% do capital investido no vencimento e tem exposição ao Índice Multiativos.\n",
      "3. **Clientes propensos ao risco**: Opção Dinâmico, que possui 100% de exposição ao Índice Multiativos.\n",
      "4. **Clientes com preocupações Ambientais, Sociais e de Governança (ESG)**: Opção ESG, que investe no índice Multiativos ESG, apresentando risco mas com foco em critérios ESG.\n"
     ]
    }
   ],
   "source": [
    "# === EXAMPLE USE ===\n",
    "if __name__ == \"__main__\":\n",
    "    question = input(\"Ask your financial assistant: \")\n",
    "    answer = ask_with_pdf_context(question)\n",
    "    print(\"\\n💬 Answer:\", answer)\n"
   ]
  },
  {
   "cell_type": "markdown",
   "id": "ca59a0bc-2fdb-4798-94c7-312da92ab75d",
   "metadata": {},
   "source": [
    "**CHATBOT a ler vários documentos**"
   ]
  },
  {
   "cell_type": "code",
   "execution_count": 13,
   "id": "c7a906c0-a3f6-4569-9e35-9498e5ff2f0c",
   "metadata": {
    "ExecuteTime": {
     "end_time": "2025-05-13T14:41:22.794638Z",
     "start_time": "2025-05-13T14:41:22.675124Z"
    },
    "execution": {
     "iopub.execute_input": "2025-05-13T14:17:16.891055Z",
     "iopub.status.busy": "2025-05-13T14:17:16.890709Z",
     "iopub.status.idle": "2025-05-13T14:17:16.895130Z",
     "shell.execute_reply": "2025-05-13T14:17:16.894279Z",
     "shell.execute_reply.started": "2025-05-13T14:17:16.891027Z"
    }
   },
   "outputs": [],
   "source": [
    "import fitz\n",
    "\n",
    "def extract_text_from_pdf(path):\n",
    "    doc = fitz.open(path)\n",
    "    return \"\\n\".join(page.get_text() for page in doc)"
   ]
  },
  {
   "cell_type": "code",
   "execution_count": 14,
   "id": "66e36882-cb70-4735-8aa8-f5ad88877b10",
   "metadata": {
    "ExecuteTime": {
     "end_time": "2025-05-13T14:41:23.081683Z",
     "start_time": "2025-05-13T14:41:23.026485Z"
    },
    "execution": {
     "iopub.execute_input": "2025-05-13T14:18:03.095808Z",
     "iopub.status.busy": "2025-05-13T14:18:03.095456Z",
     "iopub.status.idle": "2025-05-13T14:18:03.121313Z",
     "shell.execute_reply": "2025-05-13T14:18:03.120602Z",
     "shell.execute_reply.started": "2025-05-13T14:18:03.095778Z"
    }
   },
   "outputs": [],
   "source": [
    "import os\n",
    "\n",
    "pdf_dir = \"docs/Documents for training and evaluation-20250507\"\n",
    "all_texts = []\n",
    "\n",
    "for pdf_file in os.listdir(pdf_dir):\n",
    "    if pdf_file.endswith(\".pdf\"):\n",
    "        path = os.path.join(pdf_dir, pdf_file)\n",
    "        text = extract_text_from_pdf(path)\n",
    "        all_texts.append(text)\n"
   ]
  },
  {
   "cell_type": "code",
   "execution_count": 15,
   "id": "cf974358-2f62-4c51-bbcf-b19599ab6c98",
   "metadata": {
    "ExecuteTime": {
     "end_time": "2025-05-13T14:41:23.528841Z",
     "start_time": "2025-05-13T14:41:23.357260Z"
    },
    "execution": {
     "iopub.execute_input": "2025-05-13T14:18:09.581140Z",
     "iopub.status.busy": "2025-05-13T14:18:09.580688Z",
     "iopub.status.idle": "2025-05-13T14:18:09.810798Z",
     "shell.execute_reply": "2025-05-13T14:18:09.810001Z",
     "shell.execute_reply.started": "2025-05-13T14:18:09.581108Z"
    }
   },
   "outputs": [],
   "source": [
    "from langchain.text_splitter import RecursiveCharacterTextSplitter\n",
    "\n",
    "splitter = RecursiveCharacterTextSplitter(chunk_size=500, chunk_overlap=100)\n",
    "chunks = splitter.create_documents(all_texts)\n",
    "texts = [chunk.page_content for chunk in chunks]\n"
   ]
  },
  {
   "cell_type": "code",
   "execution_count": 16,
   "id": "638f0c4c-8c63-46d5-8653-1406f8f9a817",
   "metadata": {
    "ExecuteTime": {
     "end_time": "2025-05-13T14:41:23.880938Z",
     "start_time": "2025-05-13T14:41:23.702353Z"
    },
    "execution": {
     "iopub.execute_input": "2025-05-13T14:24:35.716649Z",
     "iopub.status.busy": "2025-05-13T14:24:35.716251Z",
     "iopub.status.idle": "2025-05-13T14:24:39.914650Z",
     "shell.execute_reply": "2025-05-13T14:24:39.913786Z",
     "shell.execute_reply.started": "2025-05-13T14:24:35.716616Z"
    }
   },
   "outputs": [],
   "source": [
    "from openai import AzureOpenAI\n",
    "import numpy as np\n",
    "\n",
    "embedding_client = AzureOpenAI(\n",
    "    api_key=\"8J6pTdfaGgA5r193UVLsBshUspqwNpal42Jse1aHaok1cWNTLpRkJQQJ99BDACYeBjFXJ3w3AAABACOGLa23\",\n",
    "    api_version=\"2024-02-01\",\n",
    "    azure_endpoint=\"https://ai-bcds.openai.azure.com/\"\n",
    ")\n",
    "\n",
    "def get_embedding(text):\n",
    "    response = embedding_client.embeddings.create(\n",
    "        input=[text],\n",
    "        model=\"text-embedding-3-small\"  # Use the deployment name you set up\n",
    "    )\n",
    "    return np.array(response.data[0].embedding).astype('float32')"
   ]
  },
  {
   "cell_type": "code",
   "execution_count": 17,
   "id": "abe11417",
   "metadata": {
    "ExecuteTime": {
     "end_time": "2025-05-13T14:41:24.724327Z",
     "start_time": "2025-05-13T14:41:24.614228Z"
    }
   },
   "outputs": [],
   "source": [
    "#%pip install faiss-cpu\n",
    "import faiss"
   ]
  },
  {
   "cell_type": "code",
   "execution_count": 18,
   "id": "8c36456c-055f-4b33-807a-b13c83422de0",
   "metadata": {
    "ExecuteTime": {
     "end_time": "2025-05-13T14:41:29.171665Z",
     "start_time": "2025-05-13T14:41:25.081861Z"
    },
    "execution": {
     "iopub.execute_input": "2025-05-13T14:25:33.513958Z",
     "iopub.status.busy": "2025-05-13T14:25:33.513571Z",
     "iopub.status.idle": "2025-05-13T14:25:33.557502Z",
     "shell.execute_reply": "2025-05-13T14:25:33.556363Z",
     "shell.execute_reply.started": "2025-05-13T14:25:33.513927Z"
    }
   },
   "outputs": [
    {
     "name": "stdout",
     "output_type": "stream",
     "text": [
      "(18, 1536)\n"
     ]
    }
   ],
   "source": [
    "embeddings = np.array([get_embedding(text) for text in texts])\n",
    "\n",
    "# Check the shape of embeddings (Should be (N, D) where N is number of chunks and D is embedding dimension)\n",
    "print(embeddings.shape)\n",
    "\n",
    "# Use IndexFlatL2 (no training needed)\n",
    "d = 1536  # Dimensionality of the embeddings (1536 for text-embedding-3-small)\n",
    "index = faiss.IndexFlatL2(d)  # This index does not require training\n",
    "\n",
    "# Add embeddings to the index\n",
    "index.add(embeddings)\n"
   ]
  },
  {
   "cell_type": "code",
   "execution_count": 19,
   "id": "9ac643a0",
   "metadata": {
    "ExecuteTime": {
     "end_time": "2025-05-13T14:41:43.539493Z",
     "start_time": "2025-05-13T14:41:43.535671Z"
    }
   },
   "outputs": [],
   "source": [
    "def get_top_k_chunks(query, k=3):\n",
    "    query_vec = np.array([get_embedding(query)]).astype('float32')\n",
    "    D, I = index.search(query_vec, k)  # Get top-k similar chunks\n",
    "    return [texts[i] for i in I[0]]  # Return the corresponding text chunks"
   ]
  },
  {
   "cell_type": "code",
   "execution_count": 20,
   "id": "60542478-d96e-415f-b799-81955c94be55",
   "metadata": {
    "ExecuteTime": {
     "start_time": "2025-05-13T14:41:44.256Z"
    },
    "execution": {
     "iopub.execute_input": "2025-05-13T14:25:42.492141Z",
     "iopub.status.busy": "2025-05-13T14:25:42.491792Z",
     "iopub.status.idle": "2025-05-13T14:25:43.358560Z",
     "shell.execute_reply": "2025-05-13T14:25:43.357397Z",
     "shell.execute_reply.started": "2025-05-13T14:25:42.492114Z"
    }
   },
   "outputs": [
    {
     "name": "stdout",
     "output_type": "stream",
     "text": [
      "['1) FIDELIDADE SAVINGS \\nInformações Gerais sobre os Produtos \\n• \\nO Fidelidade Savings é mais indicado para que perfil de risco? \\nR: o Fidelidade Savings é adequado para clientes conservadores, através da \\nsua opção Seguro, com capital e rendimento garantido. Para clientes que \\ngostam moderadamente do risco, através da opção Proteção com garantia de \\n90% do capital investido no vencimento e exposição ao Índice Multiativos. Para \\nclientes propensos ao risco através da opção Dinâmico com 100% de', \"clientes propensos ao risco através da opção Dinâmico com 100% de \\nexposição ao Índice Multiativos. Também está disponível a opção ESG, que \\ninveste no índice Multiativos ESG, com risco mas ESG, para clientes com \\npreocupações Ambientais, Sociais e de Governança. \\n• \\nFiz uma poupança Kid's para os meus 3 filhos, como garanto que cada um tem \\ndireito ao que lá tem? \\nR: Deverá alterar a cláusula beneficiária, solicitando a um agente Fidelidade\", 'Rentabilidade e Performance \\n• \\nQuais os riscos associados ao Fidelidade Savings para o cliente? \\nR: Depende da opção escolhida. A opção Seguro tem capital e rendimento \\ngarantido. As restantes opções têm risco de rendimento e capital, mas a opção \\nproteção garante 90% do capital investido na data de vencimento do \\ninvestimento ou do objectivo.']\n"
     ]
    }
   ],
   "source": [
    "# Example usage\n",
    "query = \"What are the latest trends in financial advising?\"\n",
    "top_chunks = get_top_k_chunks(query)\n",
    "print(top_chunks)"
   ]
  },
  {
   "cell_type": "markdown",
   "id": "c346f70b",
   "metadata": {},
   "source": [
    "Copilot"
   ]
  },
  {
   "cell_type": "code",
   "execution_count": 21,
   "id": "4fd418c4",
   "metadata": {},
   "outputs": [],
   "source": [
    "# Cell 1: Imports and PDF extraction\n",
    "import os\n",
    "import fitz  # PyMuPDF\n",
    "\n",
    "def extract_text_from_pdf(path):\n",
    "    doc = fitz.open(path)\n",
    "    return \"\\n\".join(page.get_text() for page in doc)"
   ]
  },
  {
   "cell_type": "code",
   "execution_count": 28,
   "id": "2ce6cb6d",
   "metadata": {},
   "outputs": [],
   "source": [
    "# Cell 2: Read all PDFs and store their texts with filenames\n",
    "pdf_dir = \"docs/Documents for training and evaluation-20250507/PPR Evoluir_Documents/PPR Evoluir - Public Information\"\n",
    "file_texts = {}\n",
    "\n",
    "for pdf_file in os.listdir(pdf_dir):\n",
    "    if pdf_file.endswith(\".pdf\"):\n",
    "        path = os.path.join(pdf_dir, pdf_file)\n",
    "        text = extract_text_from_pdf(path)\n",
    "        file_texts[pdf_file] = text"
   ]
  },
  {
   "cell_type": "code",
   "execution_count": 29,
   "id": "4b0ea606",
   "metadata": {},
   "outputs": [],
   "source": [
    "# Cell 3: Split each file's text into chunks\n",
    "from langchain.text_splitter import RecursiveCharacterTextSplitter\n",
    "\n",
    "splitter = RecursiveCharacterTextSplitter(chunk_size=500, chunk_overlap=100)\n",
    "file_chunks = {}\n",
    "\n",
    "for fname, text in file_texts.items():\n",
    "    docs = splitter.create_documents([text])\n",
    "    file_chunks[fname] = [chunk.page_content for chunk in docs]"
   ]
  },
  {
   "cell_type": "code",
   "execution_count": 30,
   "id": "1909c61e",
   "metadata": {},
   "outputs": [],
   "source": [
    "# Cell 4: Get embeddings for all chunks, keeping track of which file they came from\n",
    "from openai import AzureOpenAI\n",
    "import numpy as np\n",
    "\n",
    "embedding_client = AzureOpenAI(\n",
    "    api_key=\"8J6pTdfaGgA5r193UVLsBshUspqwNpal42Jse1aHaok1cWNTLpRkJQQJ99BDACYeBjFXJ3w3AAABACOGLa23\",  # Replace with your key\n",
    "    api_version=\"2024-02-01\",\n",
    "    azure_endpoint=\"https://ai-bcds.openai.azure.com/\"\n",
    ")\n",
    "\n",
    "def get_embedding(text):\n",
    "    response = embedding_client.embeddings.create(\n",
    "        input=[text],\n",
    "        model=\"text-embedding-3-small\"\n",
    "    )\n",
    "    return np.array(response.data[0].embedding).astype('float32')\n",
    "\n",
    "all_chunks = []\n",
    "chunk_file_map = []\n",
    "for fname, chunks in file_chunks.items():\n",
    "    for chunk in chunks:\n",
    "        all_chunks.append(chunk)\n",
    "        chunk_file_map.append(fname)\n",
    "\n",
    "embeddings = np.array([get_embedding(text) for text in all_chunks])"
   ]
  },
  {
   "cell_type": "code",
   "execution_count": 31,
   "id": "b6c39b1c",
   "metadata": {},
   "outputs": [],
   "source": [
    "# Cell 5: Build FAISS index\n",
    "import faiss\n",
    "\n",
    "d = embeddings.shape[1]\n",
    "index = faiss.IndexFlatL2(d)\n",
    "index.add(embeddings)"
   ]
  },
  {
   "cell_type": "code",
   "execution_count": 32,
   "id": "f104df31",
   "metadata": {},
   "outputs": [],
   "source": [
    "# Cell 6: Search for top-k chunks per file and combine info\n",
    "def search_across_files(query, k=2):\n",
    "    query_vec = np.array([get_embedding(query)]).astype('float32')\n",
    "    D, I = index.search(query_vec, k * len(file_chunks))  # Get more to filter per file\n",
    "\n",
    "    # Collect top-k per file\n",
    "    per_file_results = {fname: [] for fname in file_chunks}\n",
    "    for idx in I[0]:\n",
    "        fname = chunk_file_map[idx]\n",
    "        if len(per_file_results[fname]) < k:\n",
    "            per_file_results[fname].append(all_chunks[idx])\n",
    "\n",
    "    # Combine info from all files\n",
    "    combined = []\n",
    "    for fname, chunks in per_file_results.items():\n",
    "        if chunks:\n",
    "            combined.append(f\"From {fname}:\\n\" + \"\\n\".join(chunks))\n",
    "    return \"\\n\\n\".join(combined)"
   ]
  },
  {
   "cell_type": "code",
   "execution_count": 34,
   "id": "ccc53631",
   "metadata": {},
   "outputs": [
    {
     "name": "stdout",
     "output_type": "stream",
     "text": [
      "From IPC_PPR Evoluir ParticularesJAN2025.pdf:\n",
      "4. GARANTIAS\n",
      "O seguro PPR EVOLUIR é um Plano de Poupança-Reforma – PPR constituído sob a forma de Fundos Autónomos de uma modalidade de seguro do «Ramo \n",
      "Vida», que apenas pode ser subscrito em simultâneo nas 2 Componentes de investimento que o Segurador disponibiliza para o efeito, nas proporções \n",
      "correspondentes à idade da Pessoa Segura no início ou no aniversário anterior da apólice, com um máximo de 60%.\n",
      "O contrato garante ao beneficiário:\n",
      "1/7\n",
      "Seguro PPR Evoluir - janeiro 2025 - I763700\n",
      "INFORMAÇÕES PRÉ-CONTRATUAIS \n",
      "SEGURO PPR EVOLUIR\n",
      "POUPANÇA E INVESTIMENTO\n",
      "Fidelidade - Companhia de Seguros, S.A. - NIPC e Matrícula 500 918 880, na CRC Lisboa • Sede: Largo do Calhariz, 30 • 1249-001 Lisboa - Portugal • Capital Social EUR 509.263.524\n",
      "Apoio ao Cliente: Dias úteis das 9h às 20h • T. 217 94 87 01 Chamada para a rede fixa nacional • E. apoiocliente@fidelidade.pt • www.fidelidade.pt\n",
      "1. SEGURADOR\n",
      "\n",
      "From CG-PPR Evoluir (Rede)JAN2025.pdf:\n",
      "ANEXO\n",
      "SEGURO VIDA INDIVIDUAL\n",
      "PPR EVOLUIR\n",
      "15/15\n",
      "Seguro PPR Evoluir - janeiro 2025 - G763700\n",
      "ANEXO (continuação)\n",
      "Exemplo de Comissões de Gestão da Componente de Investimento\n",
      "Ativo (PPR ICAE Ações)\n",
      "\t\n",
      "% de investimento em Fundos de\t\n",
      "Ativo\n",
      "\t\n",
      "Investimento Mobiliário e Imobiliários\t\n",
      "(PPR ICAE Ações)\n",
      "\t\n",
      "36%\t\n",
      "0,996%\n",
      "\t\n",
      "37%\t\n",
      "0,982%\n",
      "\t\n",
      "38%\t\n",
      "0,968%\n",
      "\t\n",
      "39%\t\n",
      "0,954%\n",
      "\t\n",
      "40%\t\n",
      "0,940%\n",
      "\t\n",
      "41%\t\n",
      "0,926%\n",
      "\t\n",
      "42%\t\n",
      "0,912%\n",
      "\t\n",
      "43%\t\n",
      "0,898%\n",
      "\t\n",
      "44%\t\n",
      "0,884%\n",
      "\t\n",
      "45%\t\n",
      "0,870%\n",
      "\t\n",
      "46%\t\n",
      "0,856%\n",
      "\t\n",
      "47%\t\n",
      "0,842%\n",
      "\t\n",
      "48%\t\n",
      "0,828%\n",
      "\t\n",
      "49%\t\n",
      "0,814%\n",
      "\t\n",
      "50%\n",
      "CONDIÇÕES GERAIS\n",
      "SEGURO VIDA INDIVIDUAL\n",
      "PPR EVOLUIR\n",
      "6/15\n",
      "Seguro PPR Evoluir - janeiro 2025 - G763700\n",
      "6.\tQuando, num período não superior a cinco (5) \n",
      "dias seguidos, os pedidos de reembolso total \n",
      "ou parcial excederem 10% do valor global de \n",
      "cada Fundo Autónomo de Investimento em que \n",
      "sejam investidos os valores desta modalidade, \n",
      "o Segurador poderá não satisfazer os referidos \n",
      "pedidos de reembolso. Caso esta faculdade \n",
      "seja exercida, a partir do momento em que os\n"
     ]
    }
   ],
   "source": [
    "# Cell 7: Example usage\n",
    "query = \"O que é o PPR Evoluir?\"\n",
    "answer = search_across_files(query, k=2)\n",
    "print(answer)"
   ]
  },
  {
   "cell_type": "code",
   "execution_count": 11,
   "id": "c04d328d",
   "metadata": {},
   "outputs": [
    {
     "name": "stdout",
     "output_type": "stream",
     "text": [
      "The \"Fundo Autónomo de Investimento\" refers to a specific investment fund structure utilized within the context of certain insurance contracts, particularly those related to pension plans (PPR). The assets representing the technical provisions of these contracts are invested in this autonomous fund, as outlined in the respective special conditions.\n",
      "\n",
      "Key features of the Fundo Autónomo include:\n",
      "\n",
      "1. **Investment Composition**: The fund's assets are primarily expressed in euros, with a maximum of 20% allowed in other currencies. The investment portfolio is diversified across various instruments, with specific limits on the allocation to different asset classes.\n",
      "\n",
      "2. **Investment Components**: Each investment component corresponds to a distinct Fundo Autónomo, which has unique characteristics, including asset composition, investment policies, and management fees.\n",
      "\n",
      "3. **Recomposition of Investment**: The contract allows for automatic recompositions between the active investment component and the protection component, but does not permit the policyholder to alter the investment composition manually.\n",
      "\n",
      "4. **Participation in Results**: None of the investment components confer rights to participate in the results generated by the fund.\n",
      "\n",
      "Overall, the Fundo Autónomo de Investimento is designed to manage the technical provisions of insurance contracts effectively while adhering to specified investment guidelines.\n"
     ]
    }
   ],
   "source": [
    "import numpy as np\n",
    "from openai import AzureOpenAI\n",
    "\n",
    "\n",
    "# Cell 4: Get embeddings for all chunks, keeping track of which file they came from\n",
    "from openai import AzureOpenAI\n",
    "import numpy as np\n",
    "\n",
    "embedding_client = AzureOpenAI(\n",
    "    api_key=\"8J6pTdfaGgA5r193UVLsBshUspqwNpal42Jse1aHaok1cWNTLpRkJQQJ99BDACYeBjFXJ3w3AAABACOGLa23\",  # Replace with your key\n",
    "    api_version=\"2024-02-01\",\n",
    "    azure_endpoint=\"https://ai-bcds.openai.azure.com/\"\n",
    ")\n",
    "\n",
    "# Cell 1: Imports and PDF extraction\n",
    "import os\n",
    "import fitz  # PyMuPDF\n",
    "\n",
    "def extract_text_from_pdf(path):\n",
    "    doc = fitz.open(path)\n",
    "    return \"\\n\".join(page.get_text() for page in doc)\n",
    "\n",
    "# Cell 2: Read all PDFs and store their texts with filenames\n",
    "pdf_dir = \"docs/Documents for training and evaluation-20250507/PPR Evoluir_Documents/PPR Evoluir - Public Information\"\n",
    "file_texts = {}\n",
    "\n",
    "import os\n",
    "\n",
    "for pdf_file in os.listdir(pdf_dir):\n",
    "    if pdf_file.endswith(\".pdf\"):\n",
    "        path = os.path.join(pdf_dir, pdf_file)\n",
    "        text = extract_text_from_pdf(path)\n",
    "        file_texts[pdf_file] = text\n",
    "\n",
    "def get_embedding(text):\n",
    "    response = embedding_client.embeddings.create(\n",
    "        input=[text],\n",
    "        model=\"text-embedding-3-small\"\n",
    "    )\n",
    "    return np.array(response.data[0].embedding).astype('float32')\n",
    "\n",
    "\n",
    "# Cell 3: Split each file's text into chunks\n",
    "from langchain.text_splitter import RecursiveCharacterTextSplitter\n",
    "\n",
    "splitter = RecursiveCharacterTextSplitter(chunk_size=500, chunk_overlap=100)\n",
    "file_chunks = {}\n",
    "\n",
    "for fname, text in file_texts.items():\n",
    "    docs = splitter.create_documents([text])\n",
    "    file_chunks[fname] = [chunk.page_content for chunk in docs]\n",
    "    \n",
    "all_chunks = []\n",
    "chunk_file_map = []\n",
    "for fname, chunks in file_chunks.items():\n",
    "    for chunk in chunks:\n",
    "        all_chunks.append(chunk)\n",
    "        chunk_file_map.append(fname)\n",
    "\n",
    "embeddings = np.array([get_embedding(text) for text in all_chunks])\n",
    "\n",
    "d = embeddings.shape[1]\n",
    "index = faiss.IndexFlatL2(d)\n",
    "index.add(embeddings)\n",
    "\n",
    "# Cell 6: Retrieve top-N most relevant chunks globally, then synthesize an answer\n",
    "def get_top_n_chunks(query, n=5):\n",
    "    query_vec = np.array([get_embedding(query)]).astype('float32')\n",
    "    D, I = index.search(query_vec, n)\n",
    "    results = []\n",
    "    for idx in I[0]:\n",
    "        fname = chunk_file_map[idx]\n",
    "        chunk = all_chunks[idx]\n",
    "        results.append((fname, chunk))\n",
    "    return results\n",
    "\n",
    "def synthesize_answer(query, n=5):\n",
    "    # Get top-N relevant chunks from all files\n",
    "    top_chunks = get_top_n_chunks(query, n)\n",
    "    # Build context string\n",
    "    context = \"\\n\\n\".join([f\"From {fname}:\\n{chunk}\" for fname, chunk in top_chunks])\n",
    "    # Compose prompt for LLM\n",
    "    prompt = (\n",
    "        f\"Use the following information extracted from several documents to answer the user's question.\\n\\n\"\n",
    "        f\"Context:\\n{context}\\n\\n\"\n",
    "        f\"User question: {query}\\n\\n\"\n",
    "        f\"Answer in a clear, concise, and professional way:\"\n",
    "    )\n",
    "    # Call your LLM (using your AzureOpenAI client)\n",
    "    response = embedding_client.chat.completions.create(\n",
    "        model=\"gpt-4o-mini\",  # or your deployment name\n",
    "        messages=[\n",
    "            {\"role\": \"system\", \"content\": \"You are a helpful financial assistant.\"},\n",
    "            {\"role\": \"user\", \"content\": prompt}\n",
    "        ],\n",
    "        max_tokens=512,\n",
    "        temperature=0.2\n",
    "    )\n",
    "    return response.choices[0].message.content\n",
    "\n",
    "# Example usage\n",
    "query = \"FUNDO AUTÓNOMO DE INVESTIMENTO\"\n",
    "answer = synthesize_answer(query, n=5)\n",
    "print(answer)"
   ]
  }
 ],
 "metadata": {
  "kernelspec": {
   "display_name": "env",
   "language": "python",
   "name": "python3"
  },
  "language_info": {
   "codemirror_mode": {
    "name": "ipython",
    "version": 3
   },
   "file_extension": ".py",
   "mimetype": "text/x-python",
   "name": "python",
   "nbconvert_exporter": "python",
   "pygments_lexer": "ipython3",
   "version": "3.12.4"
  }
 },
 "nbformat": 4,
 "nbformat_minor": 5
}
