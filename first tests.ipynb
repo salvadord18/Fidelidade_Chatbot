{
 "cells": [
  {
   "cell_type": "code",
   "execution_count": null,
   "id": "8cbe420b-6375-4c5d-baf4-d9d8460c28ac",
   "metadata": {},
   "outputs": [],
   "source": []
  }
 ],
 "metadata": {
  "kernelspec": {
   "display_name": "",
   "name": ""
  },
  "language_info": {
   "name": ""
  }
 },
 "nbformat": 4,
 "nbformat_minor": 5
}
