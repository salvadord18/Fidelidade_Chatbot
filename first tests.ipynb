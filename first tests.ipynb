{
 "cells": [
  {
   "cell_type": "code",
   "execution_count": 1,
   "id": "8cbe420b-6375-4c5d-baf4-d9d8460c28ac",
   "metadata": {
    "execution": {
     "iopub.execute_input": "2025-05-07T09:13:26.131436Z",
     "iopub.status.busy": "2025-05-07T09:13:26.131000Z",
     "iopub.status.idle": "2025-05-07T09:13:47.419507Z",
     "shell.execute_reply": "2025-05-07T09:13:47.418665Z",
     "shell.execute_reply.started": "2025-05-07T09:13:26.131402Z"
    }
   },
   "outputs": [
    {
     "name": "stdout",
     "output_type": "stream",
     "text": [
      "Claro, aqui vai uma anedota sobre programadores que sempre me faz rir:\n",
      "\n",
      "Dois programadores estão trabalhando em um projeto complexo. Um deles, o João, está com um problema particularmente difícil e está falando sozinho, frustrado:\n",
      "\n",
      "\"Por que isso não funciona? Eu declarei a variável, defini o tipo, fiz a chamada de função... Não pode ser!\"\n",
      "\n",
      "O outro programador, o Pedro, que estava do outro lado da sala, levantou a cabeça e perguntou:\n",
      "\n",
      "\"João, você está falando com o código de novo?\"\n",
      "\n",
      "João respondeu, sem tirar os olhos da tela: \"Não, eu estou dialogando com ele. Ele me deve uma explicação.\"\n",
      "\n",
      "Pedro balançou a cabeça sorrindo e disse: \"Acho que você precisa de um café.\"\n",
      "\n",
      "A anedota ilustra o quão profundo o relacionamento entre um programador e o código que ele escreve pode ser. É quase como se estivessem conversando diretamente com a máquina! 😂\n",
      "\n",
      "Espero que tenha gostado!\n"
     ]
    }
   ],
   "source": [
    "import requests\n",
    "\n",
    "api_key = \"20211595:29e2994c-2337-48d4-a828-4a8f424edfd0\"\n",
    "endpoint = \"https://iaapi.novaims.unl.pt/v1/completions\"\n",
    "def llama_completion(prompt, max_tokens=1024):\n",
    "    headers = {\n",
    "        \"Authorization\": f\"Bearer {api_key}\",\n",
    "        \"Content-Type\": \"application/json\"\n",
    "    }\n",
    "    data = {\n",
    "        \"model\": \"Gemma3:12b\",\n",
    "        \"prompt\": prompt,\n",
    "        \"max_tokens\": max_tokens\n",
    "    }\n",
    "    response = requests.post(endpoint, headers=headers, json=data)\n",
    "    return response.json()\n",
    "\n",
    "def main():\n",
    "    prompt = \"Conta uma anedota sobre programadores\"\n",
    "    response = llama_completion(prompt)\n",
    "    print(response[\"choices\"][0][\"text\"])\n",
    "\n",
    "if __name__ == \"__main__\":\n",
    "    main()"
   ]
  },
  {
   "cell_type": "markdown",
   "id": "f1a471a8-1512-4884-a0b8-f0d0ad4eb009",
   "metadata": {},
   "source": [
    "**ESSENCIAL**"
   ]
  },
  {
   "cell_type": "code",
   "execution_count": 2,
   "id": "9fcfa8f2-e882-43bf-974f-73da6b177750",
   "metadata": {
    "ExecuteTime": {
     "end_time": "2025-05-13T14:41:21.085008Z",
     "start_time": "2025-05-13T14:41:20.011667Z"
    },
    "execution": {
     "iopub.execute_input": "2025-05-13T18:25:08.213919Z",
     "iopub.status.busy": "2025-05-13T18:25:08.213276Z",
     "iopub.status.idle": "2025-05-13T18:25:09.391713Z",
     "shell.execute_reply": "2025-05-13T18:25:09.390835Z",
     "shell.execute_reply.started": "2025-05-13T18:25:08.213888Z"
    }
   },
   "outputs": [],
   "source": [
    "import os\n",
    "from openai import AzureOpenAI\n",
    "import api\n",
    "\n",
    "endpoint = \"https://ai-bcds.openai.azure.com/\"\n",
    "model_name = \"gpt-4o-mini\"\n",
    "deployment = \"gpt-4o-mini\"\n",
    "\n",
    "subscription_key = api.key\n",
    "api_version = \"2024-12-01-preview\"\n",
    "\n",
    "client = AzureOpenAI(\n",
    "    api_version=api_version,\n",
    "    azure_endpoint=endpoint,\n",
    "    api_key=subscription_key,\n",
    ")\n"
   ]
  },
  {
   "cell_type": "markdown",
   "id": "d7ff6c77-b101-4c9b-bd17-41f4a4571021",
   "metadata": {},
   "source": [
    "**CHATBOT BASE sem ler documentos**"
   ]
  },
  {
   "cell_type": "code",
   "execution_count": 3,
   "id": "5cf4fe9f-1764-456b-9c51-4afadbcb9493",
   "metadata": {
    "execution": {
     "iopub.execute_input": "2025-05-13T18:25:10.730905Z",
     "iopub.status.busy": "2025-05-13T18:25:10.730526Z",
     "iopub.status.idle": "2025-05-13T18:25:18.772232Z",
     "shell.execute_reply": "2025-05-13T18:25:18.771249Z",
     "shell.execute_reply.started": "2025-05-13T18:25:10.730875Z"
    },
    "scrolled": true
   },
   "outputs": [
    {
     "name": "stdin",
     "output_type": "stream",
     "text": [
      "Ask your financial assistant:  bla\n"
     ]
    },
    {
     "name": "stdout",
     "output_type": "stream",
     "text": [
      "\n",
      "💬 Answer: It looks like your message got cut off or might not have come through as intended. How can I assist you with your financial questions or concerns today?\n"
     ]
    }
   ],
   "source": [
    "# === CHAT FUNCTION ===\n",
    "def ask_financial_bot(user_input: str) -> str:\n",
    "    messages = [\n",
    "        {\n",
    "            \"role\": \"system\",\n",
    "            \"content\": (\n",
    "                \"You are a helpful and professional financial assistant. \"\n",
    "                \"Always give clear, trustworthy financial advice, and explain things in a beginner-friendly way.\"\n",
    "            )\n",
    "        },\n",
    "        {\n",
    "            \"role\": \"user\",\n",
    "            \"content\": user_input\n",
    "        }\n",
    "        \n",
    "    ]\n",
    "\n",
    "    response = client.chat.completions.create(\n",
    "        model=deployment,\n",
    "        messages=messages,\n",
    "        max_tokens=1024,\n",
    "        temperature=0.7,\n",
    "        top_p=1.0\n",
    "    )\n",
    "\n",
    "    return response.choices[0].message.content\n",
    "\n",
    "# === EXAMPLE USE ===\n",
    "if __name__ == \"__main__\":\n",
    "    question = input(\"Ask your financial assistant: \")\n",
    "    answer = ask_financial_bot(question)\n",
    "    print(\"\\n💬 Answer:\", answer)\n"
   ]
  },
  {
   "cell_type": "markdown",
   "id": "d511f1fc-23fb-4eec-9827-a3f985a5d27b",
   "metadata": {},
   "source": [
    "**CHATBOT a ler 1 documento**"
   ]
  },
  {
   "cell_type": "code",
   "execution_count": 4,
   "id": "4d585bda-83ca-48a9-bf98-79613581a85d",
   "metadata": {
    "execution": {
     "iopub.execute_input": "2025-05-13T18:25:21.467321Z",
     "iopub.status.busy": "2025-05-13T18:25:21.466951Z",
     "iopub.status.idle": "2025-05-13T18:25:21.761480Z",
     "shell.execute_reply": "2025-05-13T18:25:21.760582Z",
     "shell.execute_reply.started": "2025-05-13T18:25:21.467293Z"
    }
   },
   "outputs": [],
   "source": [
    "import fitz  # PyMuPDF\n",
    "\n",
    "def extract_text_from_pdf(path):\n",
    "    doc = fitz.open(path)\n",
    "    return \"\\n\".join(page.get_text() for page in doc)\n",
    "\n",
    "pdf_text = extract_text_from_pdf(\"docs/Documents for training and evaluation-20250507/Questions_Answers_Censored.pdf\")\n",
    "\n",
    "def ask_with_pdf_context(user_input):\n",
    "    messages = [\n",
    "        {\n",
    "            \"role\": \"system\",\n",
    "            \"content\": (\n",
    "                \"You are a financial assistant. Use the following document as context:\\n\\n\"\n",
    "                + pdf_text[:5000]  # Keep it short to avoid hitting token limits\n",
    "            )\n",
    "        },\n",
    "        {\"role\": \"user\", \"content\": user_input}\n",
    "    ]\n",
    "\n",
    "    response = client.chat.completions.create(\n",
    "        model=deployment,\n",
    "        messages=messages,\n",
    "        max_tokens=1024\n",
    "    )\n",
    "    return response.choices[0].message.content\n"
   ]
  },
  {
   "cell_type": "code",
   "execution_count": 5,
   "id": "087c71c0-9d60-45cd-b169-a5722f85377c",
   "metadata": {
    "execution": {
     "iopub.execute_input": "2025-05-13T18:25:23.418957Z",
     "iopub.status.busy": "2025-05-13T18:25:23.418582Z",
     "iopub.status.idle": "2025-05-13T18:25:26.948787Z",
     "shell.execute_reply": "2025-05-13T18:25:26.947994Z",
     "shell.execute_reply.started": "2025-05-13T18:25:23.418928Z"
    }
   },
   "outputs": [
    {
     "name": "stdin",
     "output_type": "stream",
     "text": [
      "Ask your financial assistant:  Quais os riscos associados ao Fidelidade Savings para o cliente?\n"
     ]
    },
    {
     "name": "stdout",
     "output_type": "stream",
     "text": [
      "\n",
      "💬 Answer: Os riscos associados ao Fidelidade Savings para o cliente dependem da opção escolhida:\n",
      "\n",
      "1. **Opção Seguro**: Esta opção tem capital e rendimento garantido, portanto, os riscos são minimizados.\n",
      "\n",
      "2. **Opção Proteção**: Esta opção garante 90% do capital investido na data de vencimento, mas ainda expõe o cliente a riscos de rendimento e capital.\n",
      "\n",
      "3. **Opção Dinâmico**: Aqui, há 100% de exposição ao Índice Multiativos, o que implica um maior risco de rendimento e capital.\n",
      "\n",
      "4. **Opção ESG**: Esta opção também envolve risco, pois investe no índice Multiativos ESG, que considera preocupações ambientais, sociais e de governança.\n",
      "\n",
      "Em resumo, a escolha da opção influencia diretamente o nível de risco que o cliente está disposto a aceitar.\n"
     ]
    }
   ],
   "source": [
    "# === EXAMPLE USE ===\n",
    "if __name__ == \"__main__\":\n",
    "    question = input(\"Ask your financial assistant: \")\n",
    "    answer = ask_with_pdf_context(question)\n",
    "    print(\"\\n💬 Answer:\", answer)\n"
   ]
  },
  {
   "cell_type": "markdown",
   "id": "ca59a0bc-2fdb-4798-94c7-312da92ab75d",
   "metadata": {},
   "source": [
    "**CHATBOT a ler vários documentos**"
   ]
  },
  {
   "cell_type": "code",
   "execution_count": 8,
   "id": "c7a906c0-a3f6-4569-9e35-9498e5ff2f0c",
   "metadata": {
    "ExecuteTime": {
     "end_time": "2025-05-13T14:41:22.794638Z",
     "start_time": "2025-05-13T14:41:22.675124Z"
    },
    "execution": {
     "iopub.execute_input": "2025-05-13T18:15:20.614775Z",
     "iopub.status.busy": "2025-05-13T18:15:20.614426Z",
     "iopub.status.idle": "2025-05-13T18:15:20.618982Z",
     "shell.execute_reply": "2025-05-13T18:15:20.618137Z",
     "shell.execute_reply.started": "2025-05-13T18:15:20.614750Z"
    }
   },
   "outputs": [],
   "source": [
    "import fitz\n",
    "\n",
    "def extract_text_from_pdf(path):\n",
    "    doc = fitz.open(path)\n",
    "    return \"\\n\".join(page.get_text() for page in doc)"
   ]
  },
  {
   "cell_type": "code",
   "execution_count": 9,
   "id": "66e36882-cb70-4735-8aa8-f5ad88877b10",
   "metadata": {
    "ExecuteTime": {
     "end_time": "2025-05-13T14:41:23.081683Z",
     "start_time": "2025-05-13T14:41:23.026485Z"
    },
    "execution": {
     "iopub.execute_input": "2025-05-13T18:15:22.172987Z",
     "iopub.status.busy": "2025-05-13T18:15:22.172388Z",
     "iopub.status.idle": "2025-05-13T18:15:22.200927Z",
     "shell.execute_reply": "2025-05-13T18:15:22.199795Z",
     "shell.execute_reply.started": "2025-05-13T18:15:22.172960Z"
    }
   },
   "outputs": [],
   "source": [
    "import os\n",
    "\n",
    "pdf_dir = \"docs/Documents for training and evaluation-20250507\"\n",
    "all_texts = []\n",
    "\n",
    "for pdf_file in os.listdir(pdf_dir):\n",
    "    if pdf_file.endswith(\".pdf\"):\n",
    "        path = os.path.join(pdf_dir, pdf_file)\n",
    "        text = extract_text_from_pdf(path)\n",
    "        all_texts.append(text)\n"
   ]
  },
  {
   "cell_type": "code",
   "execution_count": 10,
   "id": "cf974358-2f62-4c51-bbcf-b19599ab6c98",
   "metadata": {
    "ExecuteTime": {
     "end_time": "2025-05-13T14:41:23.528841Z",
     "start_time": "2025-05-13T14:41:23.357260Z"
    },
    "execution": {
     "iopub.execute_input": "2025-05-13T18:15:36.851442Z",
     "iopub.status.busy": "2025-05-13T18:15:36.851066Z",
     "iopub.status.idle": "2025-05-13T18:15:37.167432Z",
     "shell.execute_reply": "2025-05-13T18:15:37.166688Z",
     "shell.execute_reply.started": "2025-05-13T18:15:36.851414Z"
    }
   },
   "outputs": [],
   "source": [
    "from langchain.text_splitter import RecursiveCharacterTextSplitter\n",
    "\n",
    "splitter = RecursiveCharacterTextSplitter(chunk_size=500, chunk_overlap=100)\n",
    "chunks = splitter.create_documents(all_texts)\n",
    "texts = [chunk.page_content for chunk in chunks]\n"
   ]
  },
  {
   "cell_type": "code",
   "execution_count": 11,
   "id": "638f0c4c-8c63-46d5-8653-1406f8f9a817",
   "metadata": {
    "ExecuteTime": {
     "end_time": "2025-05-13T14:41:23.880938Z",
     "start_time": "2025-05-13T14:41:23.702353Z"
    },
    "execution": {
     "iopub.execute_input": "2025-05-13T18:15:49.252634Z",
     "iopub.status.busy": "2025-05-13T18:15:49.252265Z",
     "iopub.status.idle": "2025-05-13T18:15:49.505609Z",
     "shell.execute_reply": "2025-05-13T18:15:49.504793Z",
     "shell.execute_reply.started": "2025-05-13T18:15:49.252608Z"
    }
   },
   "outputs": [],
   "source": [
    "from openai import AzureOpenAI\n",
    "import numpy as np\n",
    "\n",
    "embedding_client = AzureOpenAI(\n",
    "    api_key=\"8J6pTdfaGgA5r193UVLsBshUspqwNpal42Jse1aHaok1cWNTLpRkJQQJ99BDACYeBjFXJ3w3AAABACOGLa23\",\n",
    "    api_version=\"2024-02-01\",\n",
    "    azure_endpoint=\"https://ai-bcds.openai.azure.com/\"\n",
    ")\n",
    "\n",
    "def get_embedding(text):\n",
    "    response = embedding_client.embeddings.create(\n",
    "        input=[text],\n",
    "        model=\"text-embedding-3-small\"  # Use the deployment name you set up\n",
    "    )\n",
    "    return np.array(response.data[0].embedding).astype('float32')"
   ]
  },
  {
   "cell_type": "code",
   "execution_count": 12,
   "id": "abe11417",
   "metadata": {
    "ExecuteTime": {
     "end_time": "2025-05-13T14:41:24.724327Z",
     "start_time": "2025-05-13T14:41:24.614228Z"
    },
    "execution": {
     "iopub.execute_input": "2025-05-13T18:15:50.199860Z",
     "iopub.status.busy": "2025-05-13T18:15:50.199411Z",
     "iopub.status.idle": "2025-05-13T18:15:50.318084Z",
     "shell.execute_reply": "2025-05-13T18:15:50.317329Z",
     "shell.execute_reply.started": "2025-05-13T18:15:50.199831Z"
    }
   },
   "outputs": [],
   "source": [
    "#%pip install faiss-cpu\n",
    "import faiss"
   ]
  },
  {
   "cell_type": "code",
   "execution_count": 13,
   "id": "8c36456c-055f-4b33-807a-b13c83422de0",
   "metadata": {
    "ExecuteTime": {
     "end_time": "2025-05-13T14:41:29.171665Z",
     "start_time": "2025-05-13T14:41:25.081861Z"
    },
    "execution": {
     "iopub.execute_input": "2025-05-13T18:15:57.143845Z",
     "iopub.status.busy": "2025-05-13T18:15:57.143476Z",
     "iopub.status.idle": "2025-05-13T18:16:00.749673Z",
     "shell.execute_reply": "2025-05-13T18:16:00.748927Z",
     "shell.execute_reply.started": "2025-05-13T18:15:57.143817Z"
    }
   },
   "outputs": [
    {
     "name": "stdout",
     "output_type": "stream",
     "text": [
      "(18, 1536)\n"
     ]
    }
   ],
   "source": [
    "embeddings = np.array([get_embedding(text) for text in texts])\n",
    "\n",
    "# Check the shape of embeddings (Should be (N, D) where N is number of chunks and D is embedding dimension)\n",
    "print(embeddings.shape)\n",
    "\n",
    "# Use IndexFlatL2 (no training needed)\n",
    "d = 1536  # Dimensionality of the embeddings (1536 for text-embedding-3-small)\n",
    "index = faiss.IndexFlatL2(d)  # This index does not require training\n",
    "\n",
    "# Add embeddings to the index\n",
    "index.add(embeddings)\n"
   ]
  },
  {
   "cell_type": "code",
   "execution_count": 14,
   "id": "9ac643a0",
   "metadata": {
    "ExecuteTime": {
     "end_time": "2025-05-13T14:41:43.539493Z",
     "start_time": "2025-05-13T14:41:43.535671Z"
    },
    "execution": {
     "iopub.execute_input": "2025-05-13T18:16:01.189076Z",
     "iopub.status.busy": "2025-05-13T18:16:01.188723Z",
     "iopub.status.idle": "2025-05-13T18:16:01.193763Z",
     "shell.execute_reply": "2025-05-13T18:16:01.192827Z",
     "shell.execute_reply.started": "2025-05-13T18:16:01.189049Z"
    }
   },
   "outputs": [],
   "source": [
    "def get_top_k_chunks(query, k=3):\n",
    "    query_vec = np.array([get_embedding(query)]).astype('float32')\n",
    "    D, I = index.search(query_vec, k)  # Get top-k similar chunks\n",
    "    return [texts[i] for i in I[0]]  # Return the corresponding text chunks"
   ]
  },
  {
   "cell_type": "code",
   "execution_count": null,
   "id": "60542478-d96e-415f-b799-81955c94be55",
   "metadata": {
    "ExecuteTime": {
     "start_time": "2025-05-13T14:41:44.256Z"
    },
    "execution": {
     "execution_failed": "2025-05-13T18:16:07.824Z",
     "iopub.execute_input": "2025-05-13T18:16:04.824679Z",
     "iopub.status.busy": "2025-05-13T18:16:04.824323Z"
    }
   },
   "outputs": [],
   "source": [
    "# Example usage\n",
    "query = \"What are the latest trends in financial advising?\"\n",
    "top_chunks = get_top_k_chunks(query)\n",
    "print(top_chunks)"
   ]
  },
  {
   "cell_type": "code",
   "execution_count": 28,
   "id": "748925a1-7c93-4b68-824d-44434738ccee",
   "metadata": {
    "execution": {
     "iopub.execute_input": "2025-05-13T14:22:58.094272Z",
     "iopub.status.busy": "2025-05-13T14:22:58.093915Z",
     "iopub.status.idle": "2025-05-13T14:23:00.437967Z",
     "shell.execute_reply": "2025-05-13T14:23:00.436898Z",
     "shell.execute_reply.started": "2025-05-13T14:22:58.094245Z"
    }
   },
   "outputs": [
    {
     "name": "stdout",
     "output_type": "stream",
     "text": [
      "\u001b[31mERROR: Could not find a version that satisfies the requirement faiss (from versions: none)\u001b[0m\u001b[31m\n",
      "\u001b[0m\u001b[31mERROR: No matching distribution found for faiss\u001b[0m\u001b[31m\n",
      "\u001b[0mNote: you may need to restart the kernel to use updated packages.\n"
     ]
    }
   ],
   "source": [
    "%pip install faiss"
   ]
  },
  {
   "cell_type": "code",
   "execution_count": null,
   "id": "520d2bbe-5baa-4c88-a7f3-b57fc590d62a",
   "metadata": {},
   "outputs": [],
   "source": []
  }
 ],
 "metadata": {
  "kernelspec": {
   "display_name": "bcwds2",
   "language": "python",
   "name": "bcwds2"
  },
  "language_info": {
   "codemirror_mode": {
    "name": "ipython",
    "version": 3
   },
   "file_extension": ".py",
   "mimetype": "text/x-python",
   "name": "python",
   "nbconvert_exporter": "python",
   "pygments_lexer": "ipython3",
   "version": "3.13.2"
  }
 },
 "nbformat": 4,
 "nbformat_minor": 5
}
