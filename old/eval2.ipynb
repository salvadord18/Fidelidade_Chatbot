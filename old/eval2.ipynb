{
 "cells": [
  {
   "cell_type": "code",
   "execution_count": 1,
   "id": "cf2ddf9d-c8ce-419f-95c7-bb5cd0cdd8b5",
   "metadata": {
    "execution": {
     "iopub.execute_input": "2025-05-26T12:46:26.155368Z",
     "iopub.status.busy": "2025-05-26T12:46:26.154694Z",
     "iopub.status.idle": "2025-05-26T12:46:51.488603Z",
     "shell.execute_reply": "2025-05-26T12:46:51.487660Z",
     "shell.execute_reply.started": "2025-05-26T12:46:26.155328Z"
    },
    "scrolled": true
   },
   "outputs": [
    {
     "name": "stderr",
     "output_type": "stream",
     "text": [
      "/opt/anaconda3/envs/bcwds4/lib/python3.10/site-packages/fuzzywuzzy/fuzz.py:11: UserWarning: Using slow pure-python SequenceMatcher. Install python-Levenshtein to remove this warning\n",
      "  warnings.warn('Using slow pure-python SequenceMatcher. Install python-Levenshtein to remove this warning')\n",
      "2025-05-26 13:46:43.545175: I tensorflow/core/platform/cpu_feature_guard.cc:182] This TensorFlow binary is optimized to use available CPU instructions in performance-critical operations.\n",
      "To enable the following instructions: AVX2 FMA, in other operations, rebuild TensorFlow with the appropriate compiler flags.\n"
     ]
    },
    {
     "name": "stdout",
     "output_type": "stream",
     "text": [
      "8J6pTdfaGgA5r193UVLsBshUspqwNpal42Jse1aHaok1cWNTLpRkJQQJ99BDACYeBjFXJ\n",
      "https://ai-bcds.openai.azure.com/\n"
     ]
    },
    {
     "name": "stderr",
     "output_type": "stream",
     "text": [
      "2025-05-26 13:46:49.754 WARNING streamlit.runtime.scriptrunner_utils.script_run_context: Thread 'MainThread': missing ScriptRunContext! This warning can be ignored when running in bare mode.\n",
      "2025-05-26 13:46:51.165 WARNING streamlit.runtime.scriptrunner_utils.script_run_context: Thread 'MainThread': missing ScriptRunContext! This warning can be ignored when running in bare mode.\n",
      "2025-05-26 13:46:51.166 WARNING streamlit.runtime.scriptrunner_utils.script_run_context: Thread 'MainThread': missing ScriptRunContext! This warning can be ignored when running in bare mode.\n",
      "2025-05-26 13:46:51.200 WARNING streamlit.runtime.scriptrunner_utils.script_run_context: Thread 'MainThread': missing ScriptRunContext! This warning can be ignored when running in bare mode.\n",
      "2025-05-26 13:46:51.427 \n",
      "  \u001b[33m\u001b[1mWarning:\u001b[0m to view this Streamlit app on a browser, run it with the following\n",
      "  command:\n",
      "\n",
      "    streamlit run /opt/anaconda3/envs/bcwds4/lib/python3.10/site-packages/ipykernel_launcher.py [ARGUMENTS]\n",
      "2025-05-26 13:46:51.428 Thread 'MainThread': missing ScriptRunContext! This warning can be ignored when running in bare mode.\n",
      "2025-05-26 13:46:51.429 Thread 'MainThread': missing ScriptRunContext! This warning can be ignored when running in bare mode.\n",
      "2025-05-26 13:46:51.429 Session state does not function when running a script without `streamlit run`\n",
      "2025-05-26 13:46:51.430 Thread 'MainThread': missing ScriptRunContext! This warning can be ignored when running in bare mode.\n",
      "2025-05-26 13:46:51.431 Thread 'MainThread': missing ScriptRunContext! This warning can be ignored when running in bare mode.\n",
      "2025-05-26 13:46:51.432 Thread 'MainThread': missing ScriptRunContext! This warning can be ignored when running in bare mode.\n",
      "2025-05-26 13:46:51.435 Thread 'MainThread': missing ScriptRunContext! This warning can be ignored when running in bare mode.\n",
      "2025-05-26 13:46:51.436 Thread 'MainThread': missing ScriptRunContext! This warning can be ignored when running in bare mode.\n",
      "2025-05-26 13:46:51.437 Thread 'MainThread': missing ScriptRunContext! This warning can be ignored when running in bare mode.\n",
      "2025-05-26 13:46:51.438 Thread 'MainThread': missing ScriptRunContext! This warning can be ignored when running in bare mode.\n",
      "2025-05-26 13:46:51.439 Thread 'MainThread': missing ScriptRunContext! This warning can be ignored when running in bare mode.\n",
      "2025-05-26 13:46:51.440 Thread 'MainThread': missing ScriptRunContext! This warning can be ignored when running in bare mode.\n",
      "2025-05-26 13:46:51.441 Thread 'MainThread': missing ScriptRunContext! This warning can be ignored when running in bare mode.\n",
      "2025-05-26 13:46:51.441 Thread 'MainThread': missing ScriptRunContext! This warning can be ignored when running in bare mode.\n",
      "2025-05-26 13:46:51.442 Thread 'MainThread': missing ScriptRunContext! This warning can be ignored when running in bare mode.\n",
      "2025-05-26 13:46:51.443 Thread 'MainThread': missing ScriptRunContext! This warning can be ignored when running in bare mode.\n",
      "2025-05-26 13:46:51.444 Thread 'MainThread': missing ScriptRunContext! This warning can be ignored when running in bare mode.\n",
      "2025-05-26 13:46:51.444 Thread 'MainThread': missing ScriptRunContext! This warning can be ignored when running in bare mode.\n",
      "2025-05-26 13:46:51.445 Thread 'MainThread': missing ScriptRunContext! This warning can be ignored when running in bare mode.\n",
      "2025-05-26 13:46:51.472 Thread 'MainThread': missing ScriptRunContext! This warning can be ignored when running in bare mode.\n",
      "2025-05-26 13:46:51.473 Thread 'MainThread': missing ScriptRunContext! This warning can be ignored when running in bare mode.\n",
      "2025-05-26 13:46:51.474 Thread 'MainThread': missing ScriptRunContext! This warning can be ignored when running in bare mode.\n",
      "2025-05-26 13:46:51.475 Thread 'MainThread': missing ScriptRunContext! This warning can be ignored when running in bare mode.\n",
      "2025-05-26 13:46:51.476 Thread 'MainThread': missing ScriptRunContext! This warning can be ignored when running in bare mode.\n",
      "2025-05-26 13:46:51.477 Thread 'MainThread': missing ScriptRunContext! This warning can be ignored when running in bare mode.\n",
      "2025-05-26 13:46:51.477 Thread 'MainThread': missing ScriptRunContext! This warning can be ignored when running in bare mode.\n",
      "2025-05-26 13:46:51.478 Thread 'MainThread': missing ScriptRunContext! This warning can be ignored when running in bare mode.\n",
      "2025-05-26 13:46:51.479 Thread 'MainThread': missing ScriptRunContext! This warning can be ignored when running in bare mode.\n",
      "2025-05-26 13:46:51.480 Thread 'MainThread': missing ScriptRunContext! This warning can be ignored when running in bare mode.\n",
      "2025-05-26 13:46:51.481 Thread 'MainThread': missing ScriptRunContext! This warning can be ignored when running in bare mode.\n",
      "2025-05-26 13:46:51.482 Thread 'MainThread': missing ScriptRunContext! This warning can be ignored when running in bare mode.\n",
      "2025-05-26 13:46:51.482 Thread 'MainThread': missing ScriptRunContext! This warning can be ignored when running in bare mode.\n",
      "2025-05-26 13:46:51.484 Thread 'MainThread': missing ScriptRunContext! This warning can be ignored when running in bare mode.\n"
     ]
    }
   ],
   "source": [
    "from openai import AzureOpenAI\n",
    "import time\n",
    "import bot as bot\n",
    "from eval_utils import *\n",
    "import re\n",
    "\n",
    "import warnings\n",
    "warnings.filterwarnings(\"ignore\", message=\"CropBox missing from /Page\") \n",
    "warnings.filterwarnings(\"ignore\", message=\".*ScriptRunContext.*\")"
   ]
  },
  {
   "cell_type": "markdown",
   "id": "e46a3624-c8f5-4ef5-954a-ef8ac052870d",
   "metadata": {},
   "source": [
    "**Extract Q&A from file**"
   ]
  },
  {
   "cell_type": "code",
   "execution_count": 2,
   "id": "c8353dc2-86d3-4f84-9d68-4f3fd3da0e01",
   "metadata": {
    "execution": {
     "iopub.execute_input": "2025-05-26T12:46:51.491845Z",
     "iopub.status.busy": "2025-05-26T12:46:51.491444Z",
     "iopub.status.idle": "2025-05-26T12:46:52.312693Z",
     "shell.execute_reply": "2025-05-26T12:46:52.311785Z",
     "shell.execute_reply.started": "2025-05-26T12:46:51.491815Z"
    },
    "scrolled": true
   },
   "outputs": [
    {
     "name": "stderr",
     "output_type": "stream",
     "text": [
      "CropBox missing from /Page, defaulting to MediaBox\n",
      "CropBox missing from /Page, defaulting to MediaBox\n",
      "CropBox missing from /Page, defaulting to MediaBox\n",
      "CropBox missing from /Page, defaulting to MediaBox\n",
      "CropBox missing from /Page, defaulting to MediaBox\n",
      "CropBox missing from /Page, defaulting to MediaBox\n"
     ]
    }
   ],
   "source": [
    "qa_pairs = extract_qa_pairs_from_pdf('./docs/Documents for training and evaluation-20250507/Questions_Answers_Censored.pdf')"
   ]
  },
  {
   "cell_type": "markdown",
   "id": "92c2f7c0-f4f9-421b-ab65-49ca48c5f3b4",
   "metadata": {},
   "source": [
    "# FidChat"
   ]
  },
  {
   "cell_type": "code",
   "execution_count": 3,
   "id": "fd613d20-6388-48f8-aafe-61c99b9532bc",
   "metadata": {
    "execution": {
     "iopub.execute_input": "2025-05-26T12:46:52.313992Z",
     "iopub.status.busy": "2025-05-26T12:46:52.313544Z",
     "iopub.status.idle": "2025-05-26T12:46:52.318869Z",
     "shell.execute_reply": "2025-05-26T12:46:52.317600Z",
     "shell.execute_reply.started": "2025-05-26T12:46:52.313961Z"
    }
   },
   "outputs": [],
   "source": [
    "instructions = bot.instructions"
   ]
  },
  {
   "cell_type": "code",
   "execution_count": 4,
   "id": "0f41b1cb-ca3b-4147-8f6b-2dec907775c0",
   "metadata": {
    "execution": {
     "iopub.execute_input": "2025-05-26T12:46:52.322318Z",
     "iopub.status.busy": "2025-05-26T12:46:52.321912Z",
     "iopub.status.idle": "2025-05-26T12:46:53.130172Z",
     "shell.execute_reply": "2025-05-26T12:46:53.129184Z",
     "shell.execute_reply.started": "2025-05-26T12:46:52.322285Z"
    },
    "scrolled": true
   },
   "outputs": [],
   "source": [
    "# Initialize Azure OpenAI client\n",
    "client = AzureOpenAI(\n",
    "    azure_endpoint=\"https://ai-bcds.openai.azure.com/\",\n",
    "    api_key=\"8J6pTdfaGgA5r193UVLsBshUspqwNpal42Jse1aHaok1cWNTLpRkJQQJ99BDACYeBjFXJ3w3AAABACOGLa23\",\n",
    "    api_version=\"2024-05-01-preview\"\n",
    ")\n",
    "\n",
    "assistant = client.beta.assistants.create(\n",
    "    model=\"gpt-4o-mini\", \n",
    "    instructions = instructions,\n",
    "    tool_resources={\"code_interpreter\":{\"file_ids\":[\"assistant-WZQHoFwobKHT1ZWKkEAGqm\",\"assistant-MsQgxjsadXVcZKLw2fJwNh\",\"assistant-LpaoUAR5Rq3MgXfMSU4i9A\",\"assistant-KW358eNBGny1N5DM8LoBaC\",\"assistant-CiKqiv2zmbtF8FH2iQAKAw\",\"assistant-9yhV7cKx5ynoLqoPbs1B67\",\"assistant-5QanyuMMkjkkfVUv6rkCfM\"]}},\n",
    "    temperature=0.2,\n",
    "    top_p=1\n",
    "    )"
   ]
  },
  {
   "cell_type": "code",
   "execution_count": 5,
   "id": "6a7b88db-927b-4ac0-9392-0d9585906591",
   "metadata": {
    "execution": {
     "iopub.execute_input": "2025-05-26T12:46:53.131805Z",
     "iopub.status.busy": "2025-05-26T12:46:53.131214Z",
     "iopub.status.idle": "2025-05-26T12:46:53.140202Z",
     "shell.execute_reply": "2025-05-26T12:46:53.139037Z",
     "shell.execute_reply.started": "2025-05-26T12:46:53.131769Z"
    }
   },
   "outputs": [],
   "source": [
    "def fidchat(client, assistant_id, message, instructions):\n",
    "    # Create a new thread\n",
    "    thread = client.beta.threads.create()\n",
    "\n",
    "    # Add message (with optional system instructions)\n",
    "    client.beta.threads.messages.create(\n",
    "        thread_id=thread.id,\n",
    "        role=\"user\",\n",
    "        content=instructions + \"\\n\\n\" + message\n",
    "    )\n",
    "\n",
    "    # Run assistant\n",
    "    run = client.beta.threads.runs.create(\n",
    "        thread_id=thread.id,\n",
    "        assistant_id=assistant_id\n",
    "    )\n",
    "\n",
    "    # Wait until response is ready\n",
    "    while run.status in [\"queued\", \"in_progress\", \"cancelling\"]:\n",
    "        time.sleep(1)\n",
    "        run = client.beta.threads.runs.retrieve(thread_id=thread.id, run_id=run.id)\n",
    "\n",
    "    # Return the assistant's response\n",
    "    if run.status == \"completed\":\n",
    "        messages_list = client.beta.threads.messages.list(thread_id=thread.id)\n",
    "        for msg in reversed(messages_list.data):\n",
    "            if msg.role == \"assistant\":\n",
    "                raw_response = msg.content[0].text.value\n",
    "                clean_response = re.sub(r\"【\\d+:\\d+†source】\", \"\", raw_response).strip()\n",
    "                return clean_response\n",
    "    return \"[ERROR] Failed to get assistant response.\"\n"
   ]
  },
  {
   "cell_type": "markdown",
   "id": "7152ae6b-03cb-481e-8ff8-9fc91ad3fb73",
   "metadata": {},
   "source": [
    "# EvalChat"
   ]
  },
  {
   "cell_type": "code",
   "execution_count": 20,
   "id": "458ac9be-9ecb-4188-b38d-7d96d2717490",
   "metadata": {
    "execution": {
     "iopub.execute_input": "2025-05-26T12:54:50.313484Z",
     "iopub.status.busy": "2025-05-26T12:54:50.313042Z",
     "iopub.status.idle": "2025-05-26T12:54:51.016063Z",
     "shell.execute_reply": "2025-05-26T12:54:51.015068Z",
     "shell.execute_reply.started": "2025-05-26T12:54:50.313452Z"
    },
    "scrolled": true
   },
   "outputs": [],
   "source": [
    "client2 = AzureOpenAI(\n",
    "  azure_endpoint = \"https://ai-bcds.openai.azure.com/\",\n",
    "  api_key= \"8J6pTdfaGgA5r193UVLsBshUspqwNpal42Jse1aHaok1cWNTLpRkJQQJ99BDACYeBjFXJ3w3AAABACOGLa23\",\n",
    "  api_version=\"2024-05-01-preview\"\n",
    ")\n",
    "\n",
    "assistant2 = client.beta.assistants.create(\n",
    "  model=\"gpt-4o-mini\", \n",
    "  instructions=\"\",\n",
    "  tools=[{\"type\":\"file_search\"}],\n",
    "  tool_resources={\"file_search\":{\"vector_store_ids\":[\"vs_ezpssNVZDpwb0RjgcxSwbNZz\"]}},\n",
    "  temperature=1,\n",
    "  top_p=1\n",
    ")"
   ]
  },
  {
   "cell_type": "code",
   "execution_count": 37,
   "id": "8da06dba-61c0-4d17-bc58-7da3d3296df3",
   "metadata": {
    "execution": {
     "iopub.execute_input": "2025-05-26T13:06:18.678929Z",
     "iopub.status.busy": "2025-05-26T13:06:18.678542Z",
     "iopub.status.idle": "2025-05-26T13:06:18.686339Z",
     "shell.execute_reply": "2025-05-26T13:06:18.685312Z",
     "shell.execute_reply.started": "2025-05-26T13:06:18.678901Z"
    }
   },
   "outputs": [],
   "source": [
    "import time\n",
    "import re\n",
    "\n",
    "def eval_chat(client, assistant_id, question, expected_answer, actual_answer):\n",
    "    instructions = instructions2\n",
    "\n",
    "    # Create a new thread\n",
    "    thread = client.beta.threads.create()\n",
    "\n",
    "    # Prepare the prompt\n",
    "    prompt = f\"{instructions}\\n\\nQuestion: {question}\\nExpected Answer: {expected_answer}\\nActual Answer: {actual_answer}\"\n",
    "\n",
    "    # Send the message\n",
    "    client.beta.threads.messages.create(\n",
    "        thread_id=thread.id,\n",
    "        role=\"user\",\n",
    "        content=prompt\n",
    "    )\n",
    "\n",
    "    # Run the assistant\n",
    "    run = client.beta.threads.runs.create(\n",
    "        thread_id=thread.id,\n",
    "        assistant_id=assistant_id\n",
    "    )\n",
    "\n",
    "    # Wait until it's done\n",
    "    while run.status in [\"queued\", \"in_progress\", \"cancelling\"]:\n",
    "        time.sleep(1)\n",
    "        run = client.beta.threads.runs.retrieve(thread_id=thread.id, run_id=run.id)\n",
    "\n",
    "    # Retrieve and return the response\n",
    "    if run.status == \"completed\":\n",
    "        messages_list = client.beta.threads.messages.list(thread_id=thread.id)\n",
    "        for msg in reversed(messages_list.data):\n",
    "            if msg.role == \"assistant\":\n",
    "                response = msg.content[0].text.value.strip()\n",
    "                return response\n",
    "    return \"[ERROR] Failed to get assistant response.\"\n"
   ]
  },
  {
   "cell_type": "code",
   "execution_count": 29,
   "id": "b5a22705-c8cb-42ca-acad-59d5cea79560",
   "metadata": {
    "execution": {
     "iopub.execute_input": "2025-05-26T12:58:00.869092Z",
     "iopub.status.busy": "2025-05-26T12:58:00.868693Z",
     "iopub.status.idle": "2025-05-26T12:58:00.873078Z",
     "shell.execute_reply": "2025-05-26T12:58:00.872262Z",
     "shell.execute_reply.started": "2025-05-26T12:58:00.869063Z"
    }
   },
   "outputs": [],
   "source": [
    "# qa_pairs\n",
    "#instructions2 = 'Give a similarity score between expected answer and actual answer. \\\n",
    "#                 Output should be a number between 0-10. Do not write anything else'\n",
    "\n",
    "#actual_answer = 'Hello'\n",
    "#question = qa_pairs[0][0]"
   ]
  },
  {
   "cell_type": "code",
   "execution_count": 22,
   "id": "b394230f-ab18-49e0-992a-728bb5b59e5e",
   "metadata": {
    "execution": {
     "iopub.execute_input": "2025-05-26T12:54:56.094370Z",
     "iopub.status.busy": "2025-05-26T12:54:56.093974Z",
     "iopub.status.idle": "2025-05-26T12:54:58.650786Z",
     "shell.execute_reply": "2025-05-26T12:54:58.649889Z",
     "shell.execute_reply.started": "2025-05-26T12:54:56.094340Z"
    }
   },
   "outputs": [
    {
     "data": {
      "text/plain": [
       "'0'"
      ]
     },
     "execution_count": 22,
     "metadata": {},
     "output_type": "execute_result"
    }
   ],
   "source": [
    "#eval_chat(client2, assistant2.id, question, actual_answer, instructions2)"
   ]
  },
  {
   "cell_type": "markdown",
   "id": "760c1a02-6375-4534-ab2f-9d2c116101b4",
   "metadata": {},
   "source": [
    "# Evaluation"
   ]
  },
  {
   "cell_type": "code",
   "execution_count": 36,
   "id": "346cb2b0-88be-4d10-b316-406c980e377e",
   "metadata": {
    "execution": {
     "iopub.execute_input": "2025-05-26T13:06:15.293307Z",
     "iopub.status.busy": "2025-05-26T13:06:15.292897Z",
     "iopub.status.idle": "2025-05-26T13:06:15.297471Z",
     "shell.execute_reply": "2025-05-26T13:06:15.296331Z",
     "shell.execute_reply.started": "2025-05-26T13:06:15.293277Z"
    },
    "scrolled": true
   },
   "outputs": [],
   "source": [
    "# qa_pairs\n",
    "instructions2 = 'Give a general similarity score between expected answer and actual answer. \\\n",
    "                 The answers are supposed to be similar and transmite more or less the same message. \\\n",
    "                 If the actual answer looks more complete than the expected answer, the similarity score should be higher.\\\n",
    "                 Output should be a whole number between 0-10. Do not write anything else'"
   ]
  },
  {
   "cell_type": "code",
   "execution_count": 38,
   "id": "5e0da348-d774-4c7b-8b85-ab3ff5a4f61b",
   "metadata": {
    "execution": {
     "iopub.execute_input": "2025-05-26T13:06:19.572026Z",
     "iopub.status.busy": "2025-05-26T13:06:19.571643Z",
     "iopub.status.idle": "2025-05-26T13:08:23.010980Z",
     "shell.execute_reply": "2025-05-26T13:08:23.009959Z",
     "shell.execute_reply.started": "2025-05-26T13:06:19.571997Z"
    },
    "scrolled": true
   },
   "outputs": [
    {
     "name": "stdout",
     "output_type": "stream",
     "text": [
      "Evaluating Q1...\n",
      "Evaluating Q2...\n",
      "Evaluating Q3...\n",
      "Evaluating Q4...\n",
      "Evaluating Q5...\n",
      "Evaluating Q6...\n",
      "Evaluating Q7...\n",
      "Evaluating Q8...\n",
      "Evaluating Q9...\n",
      "Evaluating Q10...\n",
      "Evaluating Q11...\n",
      "Evaluating Q12...\n",
      "Evaluating Q13...\n",
      "Evaluating Q14...\n",
      "Evaluating Q15...\n",
      "Evaluating Q16...\n",
      "Evaluating Q17...\n"
     ]
    }
   ],
   "source": [
    "results = []\n",
    "\n",
    "for idx, (question, expected_answer) in enumerate(qa_pairs):\n",
    "    print(f\"Evaluating Q{idx+1}...\")\n",
    "    \n",
    "    # Get assistant's answer\n",
    "    actual_answer = fidchat(client, assistant.id, question, instructions)\n",
    "    evaluation = eval_chat(client2, assistant2.id, question, expected_answer, actual_answer)\n",
    "\n",
    "    results.append({\n",
    "        \"question\": question,\n",
    "        \"expected_answer\": expected_answer,\n",
    "        \"actual_answer\": actual_answer,\n",
    "        \"evaluation\": evaluation\n",
    "    })\n",
    "    \n"
   ]
  },
  {
   "cell_type": "code",
   "execution_count": 39,
   "id": "a027aea9-0f04-4fee-83b8-3ee586f3cb9c",
   "metadata": {
    "execution": {
     "iopub.execute_input": "2025-05-26T13:08:23.012949Z",
     "iopub.status.busy": "2025-05-26T13:08:23.012465Z",
     "iopub.status.idle": "2025-05-26T13:08:23.017834Z",
     "shell.execute_reply": "2025-05-26T13:08:23.016930Z",
     "shell.execute_reply.started": "2025-05-26T13:08:23.012916Z"
    },
    "scrolled": true
   },
   "outputs": [
    {
     "name": "stdout",
     "output_type": "stream",
     "text": [
      "Q1 6\n",
      "Q2 9\n",
      "Q3 8\n",
      "Q4 7\n",
      "Q5 8\n",
      "Q6 7\n",
      "Q7 8\n",
      "Q8 7\n",
      "Q9 8\n",
      "Q10 4\n",
      "Q11 3\n",
      "Q12 1\n",
      "Q13 4\n",
      "Q14 7\n",
      "Q15 8\n",
      "Q16 4\n",
      "Q17 8\n"
     ]
    }
   ],
   "source": [
    "for i in range(len(results)):\n",
    "    print(f'Q{i+1}', results[i][\"evaluation\"])\n"
   ]
  },
  {
   "cell_type": "code",
   "execution_count": 40,
   "id": "e6c12e63-38a2-44f6-bbc0-bacb2fe9bda1",
   "metadata": {
    "execution": {
     "iopub.execute_input": "2025-05-26T13:08:37.740948Z",
     "iopub.status.busy": "2025-05-26T13:08:37.740498Z",
     "iopub.status.idle": "2025-05-26T13:08:37.749398Z",
     "shell.execute_reply": "2025-05-26T13:08:37.748111Z",
     "shell.execute_reply.started": "2025-05-26T13:08:37.740915Z"
    }
   },
   "outputs": [
    {
     "name": "stdout",
     "output_type": "stream",
     "text": [
      "\n",
      "---\n",
      "Q: O Fidelidade Savings é mais indicado para que perfil de risco?\n",
      "\n",
      "EA: o Fidelidade Savings é adequado para clientes conservadores, através da sua opção Seguro, com capital e rendimento garantido. Para clientes que gostam moderadamente do risco, através da opção Proteção com garantia de 90% do capital investido no vencimento e exposição ao Índice Multiativos. Para clientes propensos ao risco através da opção Dinâmico com 100% de exposição ao Índice Multiativos. Também está disponível a opção ESG, que investe no índice Multiativos ESG, com risco mas ESG, para clientes com preocupações Ambientais, Sociais e de Governança.\n",
      "\n",
      "AA: O **Fidelidade My Savings** é um produto de poupança que se destina a investidores com um perfil de risco **baixo a moderado**. Este produto é ideal para aqueles que procuram uma forma segura de poupança, com um retorno estável e previsível, sem expor o capital a grandes flutuações de mercado.\n",
      "\n",
      "Se tiveres mais perguntas sobre as características do produto ou comparações com outros produtos, estou à disposição!\n",
      "\n",
      "Evaluation: 6\n",
      "\n",
      "---\n",
      "Q: Fiz uma poupança Kid's para os meus 3 filhos, como garanto que cada um tem direito ao que lá tem?\n",
      "\n",
      "EA: Deverá alterar a cláusula beneficiária, solicitando a um agente Fidelidade que faça a alteração da cláusula beneficiária de acordo com o procedimento em vigor. Fiscalidade\n",
      "\n",
      "AA: Olá! Agradeço a tua pergunta.\n",
      "\n",
      "No caso de uma poupança Kid's, é importante garantir que cada filho tenha direito ao montante que lhe corresponde. Para isso, deves considerar as seguintes opções:\n",
      "\n",
      "1. **Abertura de contas separadas**: Se cada filho tiver uma conta de poupança separada, isso facilita a gestão e a garantia de que cada um tem direito ao seu montante.\n",
      "\n",
      "2. **Documentação**: Mantém toda a documentação relacionada com a poupança, incluindo os extratos e os contratos, que podem ser úteis para comprovar a titularidade dos montantes.\n",
      "\n",
      "3. **Nomeação de beneficiários**: Se a poupança permitir, considera a possibilidade de nomear cada filho como beneficiário da respetiva parte da poupança.\n",
      "\n",
      "4. **Consulta com um especialista**: Para garantir que tudo está em conformidade com a legislação e as melhores práticas, pode ser útil consultar um especialista em finanças ou um advogado.\n",
      "\n",
      "Se tiveres mais alguma dúvida ou precisares de mais informações, estou à disposição!\n",
      "\n",
      "Evaluation: 9\n",
      "\n",
      "---\n",
      "Q: O Fidelidade Savings permite dedução no IRS?\n",
      "\n",
      "EA: não. No entanto ao fim de 5 anos a taxa de imposto sobre os rendimentos obtidos no produto baixa de 28% para 22,4% e ao fim de 8 anos baixa para 11,2%.\n",
      "\n",
      "AA: O **Fidelidade My Savings** não permite dedução no IRS, uma vez que não se trata de um produto de poupança ou investimento que beneficie de incentivos fiscais. Se tiveres interesse em produtos que permitam dedução no IRS, o **PPR Evoluir** é uma opção a considerar, pois os montantes aplicados em PPR (Planos Poupança Reforma) podem ser deduzidos nas declarações de IRS, dentro dos limites estabelecidos pela legislação em vigor. \n",
      "\n",
      "Se precisares de mais informações sobre algum dos produtos, estou à disposição!\n",
      "\n",
      "Evaluation: 8\n",
      "\n",
      "---\n",
      "Q: Tenho de pagar algum imposto sobre os lucros, ou o rendimento já é líquido?\n",
      "\n",
      "EA: Os impostos sobre o rendimento obtido são retidos na fonte pela Companhia.\n",
      "\n",
      "AA: No caso do **Fidelidade My Savings** e do **PPR Evoluir**, os rendimentos obtidos estão sujeitos a impostos. \n",
      "\n",
      "### Impostos sobre os lucros:\n",
      "- **Fidelidade My Savings**: Os rendimentos são tributados em sede de IRS, à taxa de 28% sobre os juros obtidos.\n",
      "- **PPR Evoluir**: Os rendimentos também são tributados em sede de IRS, mas a taxa de imposto é de 8% se o capital for resgatado após 5 anos, ou de 28% se resgatado antes desse prazo.\n",
      "\n",
      "Portanto, os rendimentos não são líquidos, e deves considerar a tributação ao calcular o retorno efetivo dos produtos. Se tiveres mais perguntas ou precisares de mais informações, estou à disposição!\n",
      "\n",
      "Evaluation: 7\n",
      "\n",
      "---\n",
      "Q: Porque razão o resgate pedido é inferior ao valor recebido?\n",
      "\n",
      "EA: Devido à Regra FIFO, onde são resgatadas as unidades de participação mais antigas e sobre as quais, havendo lucro, incide a tributação. Comissões e Custos\n",
      "\n",
      "AA: O valor recebido no resgate pode ser inferior ao valor solicitado por várias razões, que podem incluir:\n",
      "\n",
      "1. **Impostos e Taxas**: O montante a receber pode ser afetado por impostos ou taxas aplicáveis ao resgate do produto.\n",
      "\n",
      "2. **Penalizações**: Se o resgate for feito antes de um determinado prazo ou em condições específicas, pode haver penalizações que reduzem o valor a receber.\n",
      "\n",
      "3. **Valor de Mercado**: Em produtos de investimento, o valor de resgate pode ser influenciado pelas condições de mercado no momento do resgate.\n",
      "\n",
      "4. **Cláusulas Contratuais**: Existem cláusulas específicas nos contratos que podem afetar o valor do resgate, dependendo das condições acordadas.\n",
      "\n",
      "Para obter informações mais detalhadas sobre o caso específico, é aconselhável consultar a documentação do produto ou entrar em contacto com o serviço de apoio ao cliente da Fidelidade. Se precisares de mais esclarecimentos sobre um produto específico, estou à disposição!\n",
      "\n",
      "Evaluation: 8\n",
      "\n",
      "---\n",
      "Q: Qual é a comissão de gestão anual do Fidelidade Savings?\n",
      "\n",
      "EA: nas opções com risco a comissão de Gestão é no máximo 1,2%. Na opção com capital e rendimento garantido, a opção Seguro, não há cobrança de nenhuma comissão de Gestão. Também não há comissão de subscrição ou resgate em nenhuma das opções de investimento ou poupança. Rentabilidade e Performance\n",
      "\n",
      "AA: A comissão de gestão anual do produto **Fidelidade My Savings** é de **1%** sobre o capital investido. Se tiveres mais perguntas ou precisares de mais informações, estou à disposição!\n",
      "\n",
      "Evaluation: 7\n",
      "\n",
      "---\n",
      "Q: Quais os riscos associados ao Fidelidade Savings para o cliente?\n",
      "\n",
      "EA: Depende da opção escolhida. A opção Seguro tem capital e rendimento garantido. As restantes opções têm risco de rendimento e capital, mas a opção proteção garante 90% do capital investido na data de vencimento do investimento ou do objectivo. Concorrência\n",
      "\n",
      "AA: Os riscos associados ao **Fidelidade My Savings** para o cliente incluem:\n",
      "\n",
      "1. **Risco de Mercado**: O valor dos investimentos pode flutuar devido a alterações nas condições de mercado, o que pode afetar o retorno final.\n",
      "\n",
      "2. **Risco de Liquidez**: Pode haver dificuldades em resgatar o capital investido em determinados momentos, dependendo das condições de mercado e das políticas de resgate.\n",
      "\n",
      "3. **Risco de Taxas**: A aplicação de taxas de gestão e outras comissões pode impactar o rendimento líquido do investimento.\n",
      "\n",
      "4. **Risco de Capital**: Embora o produto tenha um foco em poupança, existe a possibilidade de não se obter o capital investido de volta, dependendo das condições de mercado.\n",
      "\n",
      "5. **Risco de Inflação**: O retorno do investimento pode não acompanhar a inflação, resultando numa perda de poder de compra ao longo do tempo.\n",
      "\n",
      "É importante que os clientes considerem esses riscos antes de investir e analisem se o produto se adequa aos seus objetivos financeiros e perfil de risco. Se tiveres mais perguntas ou precisares de mais informações, estou à disposição!\n",
      "\n",
      "Evaluation: 8\n",
      "\n",
      "---\n",
      "Q: O Fidelidade Savings (opção segura) é competitivo face aos certificados do Tesouro Português?\n",
      "\n",
      "EA: Sim, começa por ser mais flexível na movimentação, não tem restrições nem custos. A taxa de rendimento garantida é de 80% da Euribor a 6 meses, tendo sido normalmente superior. Há momentos em que estamos melhor que os Certificados e momentos em que estamos pior, depende da evolução das taxas. Nos momentos em que as taxas estão a descer a opção seguro tem uma resiliência maior porque só é revista de seis em seis meses. Funcionamento\n",
      "\n",
      "AA: Para fazer uma comparação entre o **Fidelidade My Savings** (opção segura) e os **certificados do Tesouro Português**, é importante considerar alguns fatores como a rentabilidade, a segurança e a liquidez de ambos os produtos.\n",
      "\n",
      "### Fidelidade My Savings (opção segura)\n",
      "- **Rentabilidade**: A rentabilidade é garantida e pode ser superior à média do mercado, dependendo das condições de mercado e da duração do investimento.\n",
      "- **Segurança**: É um produto seguro, uma vez que é garantido pela Fidelidade e está sujeito à supervisão da Autoridade de Supervisão de Seguros e Fundos de Pensões (ASF).\n",
      "- **Liquidez**: Permite resgates em qualquer momento, embora possam existir penalizações dependendo do prazo do investimento.\n",
      "\n",
      "### Certificados do Tesouro Português\n",
      "- **Rentabilidade**: A rentabilidade dos certificados do Tesouro pode variar conforme a taxa de juro definida pelo Estado e o tipo de certificado (ex: Certificados do Tesouro a 5 anos, a 10 anos, etc.).\n",
      "- **Segurança**: São considerados um investimento seguro, uma vez que são garantidos pelo Estado Português.\n",
      "- **Liquidez**: A liquidez pode ser menor, dependendo do tipo de certificado, uma vez que alguns têm prazos de maturidade mais longos.\n",
      "\n",
      "### Comparação\n",
      "- **Rentabilidade**: O Fidelidade My Savings pode oferecer uma rentabilidade competitiva, mas é importante verificar as taxas atuais dos certificados do Tesouro para uma comparação direta.\n",
      "- **Segurança**: Ambos os produtos são considerados seguros, mas o nível de segurança pode ser percebido de forma diferente pelos investidores (seguro privado vs. seguro estatal).\n",
      "- **Liquidez**: O Fidelidade My Savings oferece maior flexibilidade em termos de resgates, enquanto os certificados do Tesouro podem ter restrições dependendo do tipo.\n",
      "\n",
      "### Conclusão\n",
      "A competitividade do Fidelidade My Savings em relação aos certificados do Tesouro Português depende das condições de mercado e das preferências individuais do investidor em termos de rentabilidade, segurança e liquidez. É aconselhável analisar as taxas de juro atuais e as condições específicas de cada produto antes de tomar uma decisão.\n",
      "\n",
      "Evaluation: 7\n",
      "\n",
      "---\n",
      "Q: Posso subscrever e resgatar em qualquer momento?\n",
      "\n",
      "EA: Sim posso. Ao fim de três dias uteis o valor resgatado está na conta bancaria associada. Não há encargos de resgate. 2) PPR EVOLUIR Informações Gerais sobre os Produtos\n",
      "\n",
      "AA: Sim, no produto **Fidelidade My Savings**, é possível subscrever e resgatar em qualquer momento. Este produto oferece flexibilidade ao cliente, permitindo que faça depósitos e levantamentos conforme necessário, sem penalizações.\n",
      "\n",
      "Se tiveres mais perguntas ou precisares de mais informações sobre este produto ou sobre o **PPR Evoluir**, estou à disposição para ajudar!\n",
      "\n",
      "Evaluation: 8\n",
      "\n",
      "---\n",
      "Q: Que tipo de investimento é o PPR Evoluir — Capital e rendimento garantido ou tem risco?\n",
      "\n",
      "EA: Ambos. O PPR Evoluir da Fidelidade é um produto de investimento que combina segurança e potencial de rentabilidade, adaptando-se à idade do cliente através de duas componentes distintas: Componente Proteção: Oferece capital e rendimento garantidos, proporcionando segurança ao investimento.; Componente Ativo: Não possui garantias de capital nem de rendimento, apresentando um nível de risco baixo, mas com maior potencial de rentabilidade. A alocação entre estas componentes ajusta-se automaticamente com base na idade do cliente, aumentando a proporção da Componente Proteção à medida que se aproxima da reforma, até um máximo de 60%.\n",
      "\n",
      "AA: O PPR Evoluir é um produto de Poupança e Previdência que oferece **rendimento variável**, o que significa que não garante um capital e rendimento fixos. O capital investido pode estar sujeito a flutuações de mercado, e os rendimentos dependem do desempenho dos ativos em que o fundo investe.\n",
      "\n",
      "Portanto, o PPR Evoluir apresenta um **risco associado**, uma vez que o valor do investimento pode variar ao longo do tempo. É importante considerar este fator ao avaliar se este produto é adequado para o perfil de investimento do cliente. Se precisares de mais informações ou comparações com outros produtos, estou à disposição!\n",
      "\n",
      "Evaluation: 4\n",
      "\n",
      "---\n",
      "Q: Este produto tem cobertura de seguro em caso de falecimento?\n",
      "\n",
      "EA: Sim. Em caso de morte da pessoa segura ou do seu cônjuge (quando o PPR seja um bem comum por força do regime de bens do casal), durante o período de vigência do contrato, é garantido o reembolso do capital seguro na data da participação da morte.\n",
      "\n",
      "AA: A Fidelidade My Savings não inclui cobertura de seguro em caso de falecimento. Este produto é um plano de poupança que visa ajudar os clientes a alcançar os seus objetivos financeiros, mas não oferece proteção em caso de morte. \n",
      "\n",
      "Se tiveres mais perguntas ou precisares de informações adicionais sobre outros produtos, estou aqui para ajudar!\n",
      "\n",
      "Evaluation: 3\n",
      "\n",
      "---\n",
      "Q: Posso escolher a componente que pretendo(Ativo ou Proteção)?\n",
      "\n",
      "EA: Não. O contrato apenas admite a recomposição automática, pelo que o Tomador do Seguro não tem direito a alterar a composição do investimento. Fiscalidade\n",
      "\n",
      "AA: Sim, no produto **Fidelidade My Savings**, tens a possibilidade de escolher entre duas componentes: **Ativo** e **Proteção**. \n",
      "\n",
      "### Componentes:\n",
      "- **Ativo**: Foca-se na valorização do capital, permitindo que o investimento cresça ao longo do tempo.\n",
      "- **Proteção**: Oferece uma componente de segurança, garantindo uma proteção do capital investido.\n",
      "\n",
      "Esta flexibilidade permite que adaptes o produto às tuas necessidades e objetivos financeiros. Se precisares de mais informações sobre cada componente ou sobre como funcionam, estou à disposição para ajudar!\n",
      "\n",
      "Evaluation: 1\n",
      "\n",
      "---\n",
      "Q: Se tiver feito um resgate do meu PPR com mais de 60 anos e com mais de 5 anos de contrato, tenho tributação de 8%?\n",
      "\n",
      "EA: Não necessariamente, pois se existem entregas com menos de 5 anos essas são tributadas fora das condições legais e portanto a 21,5%.\n",
      "\n",
      "AA: Sim, se realizaste um resgate do teu PPR (Plano Poupança Reforma) após os 60 anos e com um contrato que tem mais de 5 anos, a tributação aplicável é de 8%. Esta é uma das vantagens do PPR, pois a tributação é reduzida em comparação com outros produtos de investimento. Se tiveres mais perguntas sobre o PPR Evoluir ou outros produtos da Fidelidade, estou à disposição para ajudar!\n",
      "\n",
      "Evaluation: 4\n",
      "\n",
      "---\n",
      "Q: Se tiver feito uma entrega de 1.000€ há 10 anos e outra de 100.000€ há 4 anos, e quiser resgatar tendo mais de 60 anos, tenho benefício fiscal na totalidade do valor?\n",
      "\n",
      "EA: Não, os rendimentos obtidos referentes à entrega com 4 anos serão tributados a 21,5% dado que o contrato não cumpre com a regra dos 35% das entregas na primeira metade do mesmo.\n",
      "\n",
      "AA: Para responder à tua pergunta sobre os benefícios fiscais no resgate de produtos de poupança, é importante considerar as regras específicas do PPR (Plano Poupança Reforma) e as condições de resgate.\n",
      "\n",
      "No caso de resgatar um PPR, se o titular tiver mais de 60 anos, pode beneficiar de isenção de IRS sobre os rendimentos acumulados, desde que o resgate seja feito após o prazo de 5 anos desde a primeira contribuição. \n",
      "\n",
      "### Análise do teu caso:\n",
      "- **Entrega de 1.000€ há 10 anos**: Como já passaram mais de 5 anos, este valor pode ser resgatado sem penalizações fiscais.\n",
      "- **Entrega de 100.000€ há 4 anos**: Este valor ainda não completou o prazo de 5 anos, portanto, o resgate poderá estar sujeito a impostos sobre os rendimentos acumulados.\n",
      "\n",
      "### Conclusão:\n",
      "- **Totalidade do valor resgatado**: O valor de 1.000€ está isento de IRS, mas o valor de 100.000€ poderá não estar isento, dado que ainda não completou os 5 anos. Assim, não terias benefício fiscal na totalidade do valor resgatado.\n",
      "\n",
      "Recomendo que consultes um especialista em fiscalidade ou um agente da Fidelidade para obter informações mais detalhadas e personalizadas sobre a tua situação específica.\n",
      "\n",
      "Evaluation: 7\n",
      "\n",
      "---\n",
      "Q: A rentabilidade gerada pelo ppr anualmente é alvo de tributaçao anualmente ou apenas no final do contrato ou em caso de resgate antecipado?\n",
      "\n",
      "EA: Apenas no final do contrato ou se houver resgates. Comissões e Custos\n",
      "\n",
      "AA: A rentabilidade gerada pelo PPR (Plano Poupança Reforma) é tributada apenas no momento do resgate, seja no final do contrato ou em caso de resgate antecipado. Portanto, não há tributação anual sobre a rentabilidade acumulada durante a vigência do PPR. \n",
      "\n",
      "Se tiveres mais perguntas ou precisares de mais informações, estou à disposição!\n",
      "\n",
      "Evaluation: 8\n",
      "\n",
      "---\n",
      "Q: Qual é a comissão de gestão anual do PPR Evoluir?\n",
      "\n",
      "EA: Depende da componente de Investimento do PPR Evoluir. Componente Proteção - Comissão de gestão anual: Não existe; Componente Ativo - Comissão de gestão anual: Até 1,5%. Concorrência\n",
      "\n",
      "AA: A comissão de gestão anual do PPR Evoluir é de **1%** sobre o capital investido. Se precisares de mais informações sobre este produto ou comparações com outros, estou à disposição!\n",
      "\n",
      "Evaluation: 4\n",
      "\n",
      "---\n",
      "Q: Como se diferencia o PPR Evoluir no mercado de soluções PPR com componente de risco?\n",
      "\n",
      "EA: O PPR Evoluir distingue-se no mercado de soluções PPR com componente de risco por integrar uma abordagem inovadora que combina segurança e potencial de rentabilidade, ajustando-se automaticamente à idade do investidor. Este produto está disponível na aplicação MySavings, permitindo aos clientes acompanhar a evolução do seu investimento de forma digital e conveniente\n",
      "\n",
      "AA: O **PPR Evoluir** da Fidelidade destaca-se no mercado de soluções PPR (Planos Poupança Reforma) com componente de risco por várias características que o tornam atrativo:\n",
      "\n",
      "### Diferenciação do PPR Evoluir:\n",
      "\n",
      "1. **Flexibilidade de Investimento**:\n",
      "   - O PPR Evoluir permite ao cliente escolher entre diferentes perfis de investimento, ajustando-se ao seu perfil de risco e objetivos financeiros.\n",
      "\n",
      "2. **Diversificação**:\n",
      "   - O produto oferece uma carteira diversificada, que inclui uma combinação de ativos de diferentes classes, o que ajuda a mitigar riscos e a potencializar retornos.\n",
      "\n",
      "3. **Gestão Ativa**:\n",
      "   - A gestão ativa dos investimentos é um dos pontos fortes, permitindo uma adaptação rápida às condições de mercado, o que pode resultar em melhores desempenhos.\n",
      "\n",
      "4. **Benefícios Fiscais**:\n",
      "   - Os clientes podem beneficiar de deduções fiscais, o que torna o investimento mais vantajoso a longo prazo.\n",
      "\n",
      "5. **Transparência**:\n",
      "   - O PPR Evoluir proporciona relatórios claros e acessíveis sobre a evolução dos investimentos, permitindo que os clientes acompanhem o desempenho do seu plano.\n",
      "\n",
      "6. **Apoio e Consultoria**:\n",
      "   - A Fidelidade oferece suporte e consultoria aos clientes, ajudando-os a tomar decisões informadas sobre os seus investimentos.\n",
      "\n",
      "### Comparação com Competidores:\n",
      "- Em comparação com outros produtos PPR no mercado, o PPR Evoluir pode ter vantagens em termos de flexibilidade e gestão ativa, que são cruciais para investidores que buscam maximizar os seus retornos ajustados ao risco.\n",
      "\n",
      "Se precisar de mais informações ou comparações específicas com produtos de competidores, estou à disposição!\n",
      "\n",
      "Evaluation: 8\n"
     ]
    }
   ],
   "source": [
    "for r in results:\n",
    "    print(\"\\n---\")\n",
    "    print(\"Q:\", r[\"question\"])\n",
    "    print('')\n",
    "    print(\"EA:\", r[\"expected_answer\"])\n",
    "    print('')\n",
    "    print(\"AA:\", r[\"actual_answer\"])\n",
    "    print('')\n",
    "    print(\"Evaluation:\", r[\"evaluation\"])"
   ]
  },
  {
   "cell_type": "code",
   "execution_count": null,
   "id": "4482e73c-e379-47b0-8d2e-6b56067b6b76",
   "metadata": {},
   "outputs": [],
   "source": [
    "'''Q: Posso escolher a componente que pretendo(Ativo ou Proteção)?\n",
    "\n",
    "EA: Não. O contrato apenas admite a recomposição automática, pelo que o Tomador do Seguro não tem direito a alterar a composição do investimento. Fiscalidade\n",
    "\n",
    "AA: Sim, no produto **Fidelidade My Savings**, tens a possibilidade de escolher entre duas componentes: **Ativo** e **Proteção**. \n",
    "\n",
    "### Componentes:\n",
    "- **Ativo**: Foca-se na valorização do capital, permitindo que o investimento cresça ao longo do tempo.\n",
    "- **Proteção**: Oferece uma componente de segurança, garantindo uma proteção do capital investido.\n",
    "\n",
    "Esta flexibilidade permite que adaptes o produto às tuas necessidades e objetivos financeiros. Se precisares de mais informações sobre cada componente ou sobre como funcionam, estou à disposição para ajudar!'''"
   ]
  }
 ],
 "metadata": {
  "kernelspec": {
   "display_name": "Python 3 (ipykernel)",
   "language": "python",
   "name": "python3"
  },
  "language_info": {
   "codemirror_mode": {
    "name": "ipython",
    "version": 3
   },
   "file_extension": ".py",
   "mimetype": "text/x-python",
   "name": "python",
   "nbconvert_exporter": "python",
   "pygments_lexer": "ipython3",
   "version": "3.10.17"
  }
 },
 "nbformat": 4,
 "nbformat_minor": 5
}
