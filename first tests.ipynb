{
 "cells": [
  {
   "cell_type": "code",
   "execution_count": 1,
   "id": "8cbe420b-6375-4c5d-baf4-d9d8460c28ac",
   "metadata": {
    "execution": {
     "iopub.execute_input": "2025-05-07T09:13:26.131436Z",
     "iopub.status.busy": "2025-05-07T09:13:26.131000Z",
     "iopub.status.idle": "2025-05-07T09:13:47.419507Z",
     "shell.execute_reply": "2025-05-07T09:13:47.418665Z",
     "shell.execute_reply.started": "2025-05-07T09:13:26.131402Z"
    }
   },
   "outputs": [
    {
     "name": "stdout",
     "output_type": "stream",
     "text": [
      "Claro, aqui vai uma anedota sobre programadores que sempre me faz rir:\n",
      "\n",
      "Dois programadores estão trabalhando em um projeto complexo. Um deles, o João, está com um problema particularmente difícil e está falando sozinho, frustrado:\n",
      "\n",
      "\"Por que isso não funciona? Eu declarei a variável, defini o tipo, fiz a chamada de função... Não pode ser!\"\n",
      "\n",
      "O outro programador, o Pedro, que estava do outro lado da sala, levantou a cabeça e perguntou:\n",
      "\n",
      "\"João, você está falando com o código de novo?\"\n",
      "\n",
      "João respondeu, sem tirar os olhos da tela: \"Não, eu estou dialogando com ele. Ele me deve uma explicação.\"\n",
      "\n",
      "Pedro balançou a cabeça sorrindo e disse: \"Acho que você precisa de um café.\"\n",
      "\n",
      "A anedota ilustra o quão profundo o relacionamento entre um programador e o código que ele escreve pode ser. É quase como se estivessem conversando diretamente com a máquina! 😂\n",
      "\n",
      "Espero que tenha gostado!\n"
     ]
    }
   ],
   "source": [
    "import requests\n",
    "\n",
    "api_key = \"20211595:29e2994c-2337-48d4-a828-4a8f424edfd0\"\n",
    "endpoint = \"https://iaapi.novaims.unl.pt/v1/completions\"\n",
    "def llama_completion(prompt, max_tokens=1024):\n",
    "    headers = {\n",
    "        \"Authorization\": f\"Bearer {api_key}\",\n",
    "        \"Content-Type\": \"application/json\"\n",
    "    }\n",
    "    data = {\n",
    "        \"model\": \"Gemma3:12b\",\n",
    "        \"prompt\": prompt,\n",
    "        \"max_tokens\": max_tokens\n",
    "    }\n",
    "    response = requests.post(endpoint, headers=headers, json=data)\n",
    "    return response.json()\n",
    "\n",
    "def main():\n",
    "    prompt = \"Conta uma anedota sobre programadores\"\n",
    "    response = llama_completion(prompt)\n",
    "    print(response[\"choices\"][0][\"text\"])\n",
    "\n",
    "if __name__ == \"__main__\":\n",
    "    main()"
   ]
  },
  {
   "cell_type": "code",
   "execution_count": 10,
   "id": "9fcfa8f2-e882-43bf-974f-73da6b177750",
   "metadata": {
    "execution": {
     "iopub.execute_input": "2025-05-13T14:05:15.629761Z",
     "iopub.status.busy": "2025-05-13T14:05:15.629335Z",
     "iopub.status.idle": "2025-05-13T14:05:15.654710Z",
     "shell.execute_reply": "2025-05-13T14:05:15.653767Z",
     "shell.execute_reply.started": "2025-05-13T14:05:15.629734Z"
    }
   },
   "outputs": [],
   "source": [
    "import os\n",
    "from openai import AzureOpenAI\n",
    "\n",
    "endpoint = \"https://ai-bcds.openai.azure.com/\"\n",
    "model_name = \"gpt-4o-mini\"\n",
    "deployment = \"gpt-4o-mini\"\n",
    "\n",
    "subscription_key = \"8J6pTdfaGgA5r193UVLsBshUspqwNpal42Jse1aHaok1cWNTLpRkJQQJ99BDACYeBjFXJ3w3AAABACOGLa23\"\n",
    "api_version = \"2024-12-01-preview\"\n",
    "\n",
    "client = AzureOpenAI(\n",
    "    api_version=api_version,\n",
    "    azure_endpoint=endpoint,\n",
    "    api_key=subscription_key,\n",
    ")\n"
   ]
  },
  {
   "cell_type": "code",
   "execution_count": 12,
   "id": "5cf4fe9f-1764-456b-9c51-4afadbcb9493",
   "metadata": {
    "execution": {
     "iopub.execute_input": "2025-05-13T14:06:35.485672Z",
     "iopub.status.busy": "2025-05-13T14:06:35.485317Z",
     "iopub.status.idle": "2025-05-13T14:06:48.036464Z",
     "shell.execute_reply": "2025-05-13T14:06:48.035724Z",
     "shell.execute_reply.started": "2025-05-13T14:06:35.485642Z"
    },
    "scrolled": true
   },
   "outputs": [
    {
     "name": "stdin",
     "output_type": "stream",
     "text": [
      "Ask your financial assistant:  how do i invest in stocks\n"
     ]
    },
    {
     "name": "stdout",
     "output_type": "stream",
     "text": [
      "\n",
      "💬 Answer: Investing in stocks can be a rewarding way to build wealth over time, but it's important to understand the basics before getting started. Here’s a step-by-step guide to help you begin:\n",
      "\n",
      "### 1. **Educate Yourself**\n",
      "   - **Understand What Stocks Are:** Stocks represent ownership in a company. When you buy a stock, you own a small piece of that company.\n",
      "   - **Learn Basic Terminology:** Familiarize yourself with terms like dividends, market capitalization, and P/E ratio.\n",
      "\n",
      "### 2. **Set Your Investment Goals**\n",
      "   - **Determine Your Objectives:** Are you investing for retirement, a major purchase, or just to grow your wealth? Your goals will influence your investment strategy.\n",
      "   - **Assess Your Risk Tolerance:** Consider how much risk you are willing to take. Stocks can be volatile, and prices can fluctuate significantly.\n",
      "\n",
      "### 3. **Choose an Investment Account**\n",
      "   - **Brokerage Account:** You’ll need to open a brokerage account to buy and sell stocks. This can be done through traditional brokers, online brokers, or robo-advisors.\n",
      "   - **Retirement Accounts:** If you're investing for retirement, consider accounts like a 401(k) or an IRA, which offer tax advantages.\n",
      "\n",
      "### 4. **Research Stocks**\n",
      "   - **Look for Companies to Invest In:** Consider industries you understand or companies you believe will grow. Look at their financial health, business model, and market position.\n",
      "   - **Use Tools and Resources:** Websites like Yahoo Finance, Google Finance, and brokerage platforms provide valuable information on stocks.\n",
      "\n",
      "### 5. **Create a Diversified Portfolio**\n",
      "   - **Don’t Put All Your Eggs in One Basket:** Diversifying means spreading your investments across different companies and sectors to reduce risk.\n",
      "   - **Consider ETFs and Mutual Funds:** These are collections of stocks that can provide instant diversification.\n",
      "\n",
      "### 6. **Decide on an Investment Strategy**\n",
      "   - **Long-Term vs. Short-Term:** Long-term investing generally involves buying stocks and holding them for years, while short-term trading involves buying and selling stocks more frequently.\n",
      "   - **Value vs. Growth Investing:** Value investors look for undervalued stocks, while growth investors seek stocks with potential for substantial growth.\n",
      "\n",
      "### 7. **Make Your First Investment**\n",
      "   - **Start Small:** If you’re new, consider starting with a small amount of money to get comfortable.\n",
      "   - **Place Your Order:** Use your brokerage account to buy shares. You can typically choose between a market order (buy at current price) or a limit order (set a specific price).\n",
      "\n",
      "### 8. **Monitor Your Investments**\n",
      "   - **Stay Informed:** Regularly check how your investments are performing and stay updated on market trends.\n",
      "   - **Rebalance as Needed:** If certain stocks or sectors grow faster than others, you may need to adjust your portfolio to maintain your desired level of risk.\n",
      "\n",
      "### 9. **Be Patient and Stay Disciplined**\n",
      "   - **Investing Is a Long Game:** Stock prices can fluctuate, but a long-term perspective can help you ride out the ups and downs.\n",
      "   - **Avoid Emotional Decisions:** Don't let fear or greed dictate your investment choices.\n",
      "\n",
      "### 10. **Seek Professional Advice If Needed**\n",
      "   - If you're unsure or feel overwhelmed, consider consulting with a financial advisor who can provide personalized guidance.\n",
      "\n",
      "### Conclusion\n",
      "Investing in stocks can be a great way to grow your wealth over time. By educating yourself, setting clear goals, and developing a solid strategy, you can navigate the stock market with confidence. Remember, it's always okay to start small and gradually build your investment knowledge and portfolio.\n"
     ]
    }
   ],
   "source": [
    "# === CHAT FUNCTION ===\n",
    "def ask_financial_bot(user_input: str) -> str:\n",
    "    messages = [\n",
    "        {\n",
    "            \"role\": \"system\",\n",
    "            \"content\": (\n",
    "                \"You are a helpful and professional financial assistant. \"\n",
    "                \"Always give clear, trustworthy financial advice, and explain things in a beginner-friendly way.\"\n",
    "            )\n",
    "        },\n",
    "        {\n",
    "            \"role\": \"user\",\n",
    "            \"content\": user_input\n",
    "        }\n",
    "        \n",
    "    ]\n",
    "\n",
    "    response = client.chat.completions.create(\n",
    "        model=deployment,\n",
    "        messages=messages,\n",
    "        max_tokens=1024,\n",
    "        temperature=0.7,\n",
    "        top_p=1.0\n",
    "    )\n",
    "\n",
    "    return response.choices[0].message.content\n",
    "\n",
    "# === EXAMPLE USE ===\n",
    "if __name__ == \"__main__\":\n",
    "    question = input(\"Ask your financial assistant: \")\n",
    "    answer = ask_financial_bot(question)\n",
    "    print(\"\\n💬 Answer:\", answer)\n"
   ]
  },
  {
   "cell_type": "code",
   "execution_count": null,
   "id": "4d585bda-83ca-48a9-bf98-79613581a85d",
   "metadata": {},
   "outputs": [],
   "source": []
  }
 ],
 "metadata": {
  "kernelspec": {
   "display_name": "bcwds2",
   "language": "python",
   "name": "bcwds2"
  },
  "language_info": {
   "codemirror_mode": {
    "name": "ipython",
    "version": 3
   },
   "file_extension": ".py",
   "mimetype": "text/x-python",
   "name": "python",
   "nbconvert_exporter": "python",
   "pygments_lexer": "ipython3",
   "version": "3.13.2"
  }
 },
 "nbformat": 4,
 "nbformat_minor": 5
}
