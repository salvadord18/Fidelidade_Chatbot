{
 "cells": [
  {
   "cell_type": "code",
   "execution_count": 1,
   "id": "8cbe420b-6375-4c5d-baf4-d9d8460c28ac",
   "metadata": {
    "execution": {
     "iopub.execute_input": "2025-05-07T09:13:26.131436Z",
     "iopub.status.busy": "2025-05-07T09:13:26.131000Z",
     "iopub.status.idle": "2025-05-07T09:13:47.419507Z",
     "shell.execute_reply": "2025-05-07T09:13:47.418665Z",
     "shell.execute_reply.started": "2025-05-07T09:13:26.131402Z"
    }
   },
   "outputs": [
    {
     "name": "stdout",
     "output_type": "stream",
     "text": [
      "Claro, aqui vai uma anedota sobre programadores que sempre me faz rir:\n",
      "\n",
      "Dois programadores estão trabalhando em um projeto complexo. Um deles, o João, está com um problema particularmente difícil e está falando sozinho, frustrado:\n",
      "\n",
      "\"Por que isso não funciona? Eu declarei a variável, defini o tipo, fiz a chamada de função... Não pode ser!\"\n",
      "\n",
      "O outro programador, o Pedro, que estava do outro lado da sala, levantou a cabeça e perguntou:\n",
      "\n",
      "\"João, você está falando com o código de novo?\"\n",
      "\n",
      "João respondeu, sem tirar os olhos da tela: \"Não, eu estou dialogando com ele. Ele me deve uma explicação.\"\n",
      "\n",
      "Pedro balançou a cabeça sorrindo e disse: \"Acho que você precisa de um café.\"\n",
      "\n",
      "A anedota ilustra o quão profundo o relacionamento entre um programador e o código que ele escreve pode ser. É quase como se estivessem conversando diretamente com a máquina! 😂\n",
      "\n",
      "Espero que tenha gostado!\n"
     ]
    }
   ],
   "source": [
    "import requests\n",
    "\n",
    "api_key = \"20211595:29e2994c-2337-48d4-a828-4a8f424edfd0\"\n",
    "endpoint = \"https://iaapi.novaims.unl.pt/v1/completions\"\n",
    "def llama_completion(prompt, max_tokens=1024):\n",
    "    headers = {\n",
    "        \"Authorization\": f\"Bearer {api_key}\",\n",
    "        \"Content-Type\": \"application/json\"\n",
    "    }\n",
    "    data = {\n",
    "        \"model\": \"Gemma3:12b\",\n",
    "        \"prompt\": prompt,\n",
    "        \"max_tokens\": max_tokens\n",
    "    }\n",
    "    response = requests.post(endpoint, headers=headers, json=data)\n",
    "    return response.json()\n",
    "\n",
    "def main():\n",
    "    prompt = \"Conta uma anedota sobre programadores\"\n",
    "    response = llama_completion(prompt)\n",
    "    print(response[\"choices\"][0][\"text\"])\n",
    "\n",
    "if __name__ == \"__main__\":\n",
    "    main()"
   ]
  }
 ],
 "metadata": {
  "kernelspec": {
   "display_name": "bcwds2",
   "language": "python",
   "name": "bcwds2"
  },
  "language_info": {
   "codemirror_mode": {
    "name": "ipython",
    "version": 3
   },
   "file_extension": ".py",
   "mimetype": "text/x-python",
   "name": "python",
   "nbconvert_exporter": "python",
   "pygments_lexer": "ipython3",
   "version": "3.13.2"
  }
 },
 "nbformat": 4,
 "nbformat_minor": 5
}
