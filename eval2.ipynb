{
 "cells": [
  {
   "cell_type": "code",
   "execution_count": 16,
   "id": "cf2ddf9d-c8ce-419f-95c7-bb5cd0cdd8b5",
   "metadata": {
    "execution": {
     "iopub.execute_input": "2025-05-25T10:53:07.789899Z",
     "iopub.status.busy": "2025-05-25T10:53:07.789511Z",
     "iopub.status.idle": "2025-05-25T10:53:07.794925Z",
     "shell.execute_reply": "2025-05-25T10:53:07.794084Z",
     "shell.execute_reply.started": "2025-05-25T10:53:07.789871Z"
    },
    "scrolled": true
   },
   "outputs": [],
   "source": [
    "from openai import AzureOpenAI\n",
    "import time\n",
    "import bot as bot\n",
    "from eval_utils import *\n",
    "import re\n",
    "\n",
    "import warnings\n",
    "warnings.filterwarnings(\"ignore\", message=\"CropBox missing from /Page\") \n",
    "warnings.filterwarnings(\"ignore\", message=\".*ScriptRunContext.*\")"
   ]
  },
  {
   "cell_type": "markdown",
   "id": "e46a3624-c8f5-4ef5-954a-ef8ac052870d",
   "metadata": {},
   "source": [
    "**Extract Q&A from file**"
   ]
  },
  {
   "cell_type": "code",
   "execution_count": 18,
   "id": "c8353dc2-86d3-4f84-9d68-4f3fd3da0e01",
   "metadata": {
    "execution": {
     "iopub.execute_input": "2025-05-25T10:53:33.349097Z",
     "iopub.status.busy": "2025-05-25T10:53:33.348708Z",
     "iopub.status.idle": "2025-05-25T10:53:34.249220Z",
     "shell.execute_reply": "2025-05-25T10:53:34.248309Z",
     "shell.execute_reply.started": "2025-05-25T10:53:33.349068Z"
    },
    "scrolled": true
   },
   "outputs": [
    {
     "name": "stderr",
     "output_type": "stream",
     "text": [
      "CropBox missing from /Page, defaulting to MediaBox\n",
      "CropBox missing from /Page, defaulting to MediaBox\n",
      "CropBox missing from /Page, defaulting to MediaBox\n",
      "CropBox missing from /Page, defaulting to MediaBox\n",
      "CropBox missing from /Page, defaulting to MediaBox\n",
      "CropBox missing from /Page, defaulting to MediaBox\n"
     ]
    }
   ],
   "source": [
    "qa_pairs = extract_qa_pairs_from_pdf('./docs/Documents for training and evaluation-20250507/Questions_Answers_Censored.pdf')"
   ]
  },
  {
   "cell_type": "markdown",
   "id": "92c2f7c0-f4f9-421b-ab65-49ca48c5f3b4",
   "metadata": {
    "jp-MarkdownHeadingCollapsed": true
   },
   "source": [
    "# FidChat"
   ]
  },
  {
   "cell_type": "code",
   "execution_count": 24,
   "id": "fd613d20-6388-48f8-aafe-61c99b9532bc",
   "metadata": {
    "execution": {
     "iopub.execute_input": "2025-05-25T10:54:02.778560Z",
     "iopub.status.busy": "2025-05-25T10:54:02.778149Z",
     "iopub.status.idle": "2025-05-25T10:54:02.782709Z",
     "shell.execute_reply": "2025-05-25T10:54:02.781874Z",
     "shell.execute_reply.started": "2025-05-25T10:54:02.778529Z"
    }
   },
   "outputs": [],
   "source": [
    "instructions = bot.instructions"
   ]
  },
  {
   "cell_type": "code",
   "execution_count": 25,
   "id": "0f41b1cb-ca3b-4147-8f6b-2dec907775c0",
   "metadata": {
    "execution": {
     "iopub.execute_input": "2025-05-25T10:54:03.270684Z",
     "iopub.status.busy": "2025-05-25T10:54:03.270293Z",
     "iopub.status.idle": "2025-05-25T10:54:04.457094Z",
     "shell.execute_reply": "2025-05-25T10:54:04.455853Z",
     "shell.execute_reply.started": "2025-05-25T10:54:03.270655Z"
    },
    "scrolled": true
   },
   "outputs": [],
   "source": [
    "# Initialize Azure OpenAI client\n",
    "client = AzureOpenAI(\n",
    "    azure_endpoint=\"https://ai-bcds.openai.azure.com/\",\n",
    "    api_key=\"8J6pTdfaGgA5r193UVLsBshUspqwNpal42Jse1aHaok1cWNTLpRkJQQJ99BDACYeBjFXJ3w3AAABACOGLa23\",\n",
    "    api_version=\"2024-05-01-preview\"\n",
    ")\n",
    "\n",
    "assistant = client.beta.assistants.create(\n",
    "    model=\"gpt-4o-mini\", \n",
    "    instructions = instructions,\n",
    "    tool_resources={\"code_interpreter\":{\"file_ids\":[\"assistant-WZQHoFwobKHT1ZWKkEAGqm\",\"assistant-MsQgxjsadXVcZKLw2fJwNh\",\"assistant-LpaoUAR5Rq3MgXfMSU4i9A\",\"assistant-KW358eNBGny1N5DM8LoBaC\",\"assistant-CiKqiv2zmbtF8FH2iQAKAw\",\"assistant-9yhV7cKx5ynoLqoPbs1B67\",\"assistant-5QanyuMMkjkkfVUv6rkCfM\"]}},\n",
    "    temperature=0.2,\n",
    "    top_p=1\n",
    "    )"
   ]
  },
  {
   "cell_type": "code",
   "execution_count": 26,
   "id": "6a7b88db-927b-4ac0-9392-0d9585906591",
   "metadata": {
    "execution": {
     "iopub.execute_input": "2025-05-25T10:54:14.887076Z",
     "iopub.status.busy": "2025-05-25T10:54:14.886672Z",
     "iopub.status.idle": "2025-05-25T10:54:14.894729Z",
     "shell.execute_reply": "2025-05-25T10:54:14.893953Z",
     "shell.execute_reply.started": "2025-05-25T10:54:14.887045Z"
    }
   },
   "outputs": [],
   "source": [
    "def fidchat(client, assistant_id, message, instructions):\n",
    "    # Create a new thread\n",
    "    thread = client.beta.threads.create()\n",
    "\n",
    "    # Add message (with optional system instructions)\n",
    "    client.beta.threads.messages.create(\n",
    "        thread_id=thread.id,\n",
    "        role=\"user\",\n",
    "        content=instructions + \"\\n\\n\" + message\n",
    "    )\n",
    "\n",
    "    # Run assistant\n",
    "    run = client.beta.threads.runs.create(\n",
    "        thread_id=thread.id,\n",
    "        assistant_id=assistant_id\n",
    "    )\n",
    "\n",
    "    # Wait until response is ready\n",
    "    while run.status in [\"queued\", \"in_progress\", \"cancelling\"]:\n",
    "        time.sleep(1)\n",
    "        run = client.beta.threads.runs.retrieve(thread_id=thread.id, run_id=run.id)\n",
    "\n",
    "    # Return the assistant's response\n",
    "    if run.status == \"completed\":\n",
    "        messages_list = client.beta.threads.messages.list(thread_id=thread.id)\n",
    "        for msg in reversed(messages_list.data):\n",
    "            if msg.role == \"assistant\":\n",
    "                raw_response = msg.content[0].text.value\n",
    "                clean_response = re.sub(r\"【\\d+:\\d+†source】\", \"\", raw_response).strip()\n",
    "                return clean_response\n",
    "    return \"[ERROR] Failed to get assistant response.\"\n"
   ]
  },
  {
   "cell_type": "markdown",
   "id": "7152ae6b-03cb-481e-8ff8-9fc91ad3fb73",
   "metadata": {
    "jp-MarkdownHeadingCollapsed": true
   },
   "source": [
    "# EvalChat"
   ]
  },
  {
   "cell_type": "code",
   "execution_count": 27,
   "id": "458ac9be-9ecb-4188-b38d-7d96d2717490",
   "metadata": {
    "execution": {
     "iopub.execute_input": "2025-05-25T10:54:46.101517Z",
     "iopub.status.busy": "2025-05-25T10:54:46.100833Z",
     "iopub.status.idle": "2025-05-25T10:54:47.184217Z",
     "shell.execute_reply": "2025-05-25T10:54:47.183226Z",
     "shell.execute_reply.started": "2025-05-25T10:54:46.101486Z"
    },
    "scrolled": true
   },
   "outputs": [],
   "source": [
    "client2 = AzureOpenAI(\n",
    "  azure_endpoint = \"https://ai-bcds.openai.azure.com/\",\n",
    "  api_key= \"8J6pTdfaGgA5r193UVLsBshUspqwNpal42Jse1aHaok1cWNTLpRkJQQJ99BDACYeBjFXJ3w3AAABACOGLa23\",\n",
    "  api_version=\"2024-05-01-preview\"\n",
    ")\n",
    "\n",
    "assistant2 = client.beta.assistants.create(\n",
    "  model=\"gpt-4o-mini-BCwDS\", \n",
    "  instructions=\"\",\n",
    "  tools=[{\"type\":\"file_search\"}],\n",
    "  tool_resources={\"file_search\":{\"vector_store_ids\":[\"vs_ezpssNVZDpwb0RjgcxSwbNZz\"]}},\n",
    "  temperature=1,\n",
    "  top_p=1\n",
    ")"
   ]
  },
  {
   "cell_type": "code",
   "execution_count": 40,
   "id": "8da06dba-61c0-4d17-bc58-7da3d3296df3",
   "metadata": {
    "execution": {
     "iopub.execute_input": "2025-05-25T11:01:12.575938Z",
     "iopub.status.busy": "2025-05-25T11:01:12.575508Z",
     "iopub.status.idle": "2025-05-25T11:01:12.584304Z",
     "shell.execute_reply": "2025-05-25T11:01:12.583189Z",
     "shell.execute_reply.started": "2025-05-25T11:01:12.575906Z"
    }
   },
   "outputs": [],
   "source": [
    "def eval_chat(client, assistant_id, question, expected_answer, instructions):\n",
    "    # Create a new thread\n",
    "    thread = client.beta.threads.create()\n",
    "\n",
    "    # Add message with instructions and the provided answer to evaluate\n",
    "    prompt = f\"{instructions}\\n\\nQuestion: {question}\\nAnswer: {expected_answer}\"\n",
    "    \n",
    "    client.beta.threads.messages.create(\n",
    "        thread_id=thread.id,\n",
    "        role=\"user\",\n",
    "        content=prompt\n",
    "    )\n",
    "\n",
    "    # Run assistant\n",
    "    run = client.beta.threads.runs.create(\n",
    "        thread_id=thread.id,\n",
    "        assistant_id=assistant_id\n",
    "    )\n",
    "\n",
    "    # Wait for response\n",
    "    while run.status in [\"queued\", \"in_progress\", \"cancelling\"]:\n",
    "        time.sleep(1)\n",
    "        run = client.beta.threads.runs.retrieve(thread_id=thread.id, run_id=run.id)\n",
    "\n",
    "    if run.status == \"completed\":\n",
    "        messages_list = client.beta.threads.messages.list(thread_id=thread.id)\n",
    "        for msg in reversed(messages_list.data):\n",
    "            if msg.role == \"assistant\":\n",
    "                raw_response = msg.content[0].text.value\n",
    "                clean_response = re.sub(r\"【\\d+:\\d+†source】\", \"\", raw_response).strip()\n",
    "                return clean_response\n",
    "    return \"[ERROR] Failed to get assistant response.\"\n"
   ]
  },
  {
   "cell_type": "markdown",
   "id": "760c1a02-6375-4534-ab2f-9d2c116101b4",
   "metadata": {},
   "source": [
    "# Evaluation"
   ]
  },
  {
   "cell_type": "code",
   "execution_count": 54,
   "id": "346cb2b0-88be-4d10-b316-406c980e377e",
   "metadata": {
    "execution": {
     "iopub.execute_input": "2025-05-25T11:05:48.202949Z",
     "iopub.status.busy": "2025-05-25T11:05:48.202558Z",
     "iopub.status.idle": "2025-05-25T11:05:48.206724Z",
     "shell.execute_reply": "2025-05-25T11:05:48.205883Z",
     "shell.execute_reply.started": "2025-05-25T11:05:48.202920Z"
    },
    "scrolled": true
   },
   "outputs": [],
   "source": [
    "# qa_pairs\n",
    "instructions2 = 'Give a similarity score between expected answer and actual answer. \\\n",
    "                 Output should be a number between 0-10. Do not write anything else'"
   ]
  },
  {
   "cell_type": "code",
   "execution_count": 57,
   "id": "5e0da348-d774-4c7b-8b85-ab3ff5a4f61b",
   "metadata": {
    "execution": {
     "iopub.execute_input": "2025-05-25T11:06:01.152148Z",
     "iopub.status.busy": "2025-05-25T11:06:01.151473Z",
     "iopub.status.idle": "2025-05-25T11:07:54.931256Z",
     "shell.execute_reply": "2025-05-25T11:07:54.930331Z",
     "shell.execute_reply.started": "2025-05-25T11:06:01.152118Z"
    },
    "scrolled": true
   },
   "outputs": [
    {
     "name": "stdout",
     "output_type": "stream",
     "text": [
      "Evaluating Q1...\n",
      "Evaluating Q2...\n",
      "Evaluating Q3...\n",
      "Evaluating Q4...\n",
      "Evaluating Q5...\n",
      "Evaluating Q6...\n",
      "Evaluating Q7...\n",
      "Evaluating Q8...\n",
      "Evaluating Q9...\n",
      "Evaluating Q10...\n",
      "Evaluating Q11...\n",
      "Evaluating Q12...\n",
      "Evaluating Q13...\n",
      "Evaluating Q14...\n",
      "Evaluating Q15...\n",
      "Evaluating Q16...\n",
      "Evaluating Q17...\n"
     ]
    }
   ],
   "source": [
    "results = []\n",
    "\n",
    "for idx, (question, expected_answer) in enumerate(qa_pairs):\n",
    "    print(f\"Evaluating Q{idx+1}...\")\n",
    "    \n",
    "    # Get assistant's answer\n",
    "    actual_answer = fidchat(client, assistant.id, question, instructions)\n",
    "    evaluation = eval_chat(client2, assistant2.id, question, actual_answer, instructions2)\n",
    "\n",
    "    results.append({\n",
    "        \"question\": question,\n",
    "        \"expected_answer\": expected_answer,\n",
    "        \"actual_answer\": actual_answer,\n",
    "        \"evaluation\": evaluation\n",
    "    })\n",
    "    \n"
   ]
  },
  {
   "cell_type": "code",
   "execution_count": 58,
   "id": "e6c12e63-38a2-44f6-bbc0-bacb2fe9bda1",
   "metadata": {
    "execution": {
     "iopub.execute_input": "2025-05-25T11:07:54.933512Z",
     "iopub.status.busy": "2025-05-25T11:07:54.933142Z",
     "iopub.status.idle": "2025-05-25T11:07:54.940594Z",
     "shell.execute_reply": "2025-05-25T11:07:54.939342Z",
     "shell.execute_reply.started": "2025-05-25T11:07:54.933482Z"
    }
   },
   "outputs": [
    {
     "name": "stdout",
     "output_type": "stream",
     "text": [
      "\n",
      "---\n",
      "Q: O Fidelidade Savings é mais indicado para que perfil de risco?\n",
      "\n",
      "EA: o Fidelidade Savings é adequado para clientes conservadores, através da sua opção Seguro, com capital e rendimento garantido. Para clientes que gostam moderadamente do risco, através da opção Proteção com garantia de 90% do capital investido no vencimento e exposição ao Índice Multiativos. Para clientes propensos ao risco através da opção Dinâmico com 100% de exposição ao Índice Multiativos. Também está disponível a opção ESG, que investe no índice Multiativos ESG, com risco mas ESG, para clientes com preocupações Ambientais, Sociais e de Governança.\n",
      "\n",
      "AA: O **Fidelidade My Savings** é um produto de poupança que se destina a investidores com um perfil de risco **baixo a moderado**. Este produto é ideal para aqueles que procuram uma forma segura de poupança, com a possibilidade de obter rendimentos, mas que não desejam expor-se a riscos elevados associados a investimentos mais voláteis.\n",
      "\n",
      "Se tiveres mais perguntas sobre as características do produto ou comparações com outros produtos, estou à disposição para ajudar!\n",
      "\n",
      "Evaluation: 7\n",
      "\n",
      "---\n",
      "Q: Fiz uma poupança Kid's para os meus 3 filhos, como garanto que cada um tem direito ao que lá tem?\n",
      "\n",
      "EA: Deverá alterar a cláusula beneficiária, solicitando a um agente Fidelidade que faça a alteração da cláusula beneficiária de acordo com o procedimento em vigor. Fiscalidade\n",
      "\n",
      "AA: Olá! Agradeço a tua questão. \n",
      "\n",
      "Para garantir que cada um dos teus filhos tem direito ao que está na poupança Kid's, é importante que a conta esteja devidamente estruturada. Aqui estão algumas opções que podes considerar:\n",
      "\n",
      "1. **Contas Separadas**: Se cada filho tiver uma conta de poupança Kid's separada, isso assegura que cada um tem direito ao montante que lhe corresponde.\n",
      "\n",
      "2. **Cláusulas de Beneficiário**: Se a conta for conjunta, é aconselhável definir cláusulas de beneficiário que especifiquem como os fundos serão distribuídos entre os filhos em caso de necessidade.\n",
      "\n",
      "3. **Documentação**: Mantém toda a documentação relacionada com a conta e os depósitos organizados, para que seja fácil comprovar a titularidade dos valores.\n",
      "\n",
      "Se tiveres mais perguntas ou precisares de mais informações sobre como gerir a poupança Kid's, estou aqui para ajudar!\n",
      "\n",
      "Evaluation: 7\n",
      "\n",
      "---\n",
      "Q: O Fidelidade Savings permite dedução no IRS?\n",
      "\n",
      "EA: não. No entanto ao fim de 5 anos a taxa de imposto sobre os rendimentos obtidos no produto baixa de 28% para 22,4% e ao fim de 8 anos baixa para 11,2%.\n",
      "\n",
      "AA: O **Fidelidade My Savings** não permite dedução no IRS. Este produto é uma solução de poupança que oferece uma rentabilidade atrativa, mas não está associado a benefícios fiscais como a dedução no IRS, ao contrário de produtos como os PPR (Planos Poupança Reforma). Se precisares de mais informações sobre as características do My Savings ou comparações com outros produtos, estou à disposição!\n",
      "\n",
      "Evaluation: 7\n",
      "\n",
      "---\n",
      "Q: Tenho de pagar algum imposto sobre os lucros, ou o rendimento já é líquido?\n",
      "\n",
      "EA: Os impostos sobre o rendimento obtido são retidos na fonte pela Companhia.\n",
      "\n",
      "AA: No caso do **Fidelidade My Savings** e do **PPR Evoluir**, os rendimentos obtidos estão sujeitos a impostos. \n",
      "\n",
      "### Impostos sobre os lucros:\n",
      "- **Fidelidade My Savings**: Os rendimentos são tributados em sede de IRS, à taxa de 28% sobre os juros obtidos.\n",
      "- **PPR Evoluir**: Os rendimentos também são tributados em sede de IRS, mas a taxa pode variar dependendo do prazo de permanência do investimento. Se o capital for resgatado após 5 anos, a tributação é de 8% sobre os rendimentos.\n",
      "\n",
      "Portanto, os rendimentos não são líquidos, e é importante considerar a tributação ao calcular o retorno efetivo do investimento. Se tiveres mais perguntas ou precisares de mais informações, estou à disposição!\n",
      "\n",
      "Evaluation: 7\n",
      "\n",
      "---\n",
      "Q: Porque razão o resgate pedido é inferior ao valor recebido?\n",
      "\n",
      "EA: Devido à Regra FIFO, onde são resgatadas as unidades de participação mais antigas e sobre as quais, havendo lucro, incide a tributação. Comissões e Custos\n",
      "\n",
      "AA: O valor recebido no resgate pode ser inferior ao valor solicitado por várias razões, que podem incluir:\n",
      "\n",
      "1. **Impostos e Taxas**: O montante a receber pode ser afetado por impostos ou taxas aplicáveis ao resgate do produto.\n",
      "\n",
      "2. **Penalizações**: Em alguns casos, pode haver penalizações associadas ao resgate antecipado, especialmente se o produto tiver um período de maturação ou se forem aplicadas condições específicas.\n",
      "\n",
      "3. **Variação de Rendimentos**: O valor do capital investido pode ter sofrido variações devido a flutuações no mercado, o que pode impactar o montante final a ser recebido.\n",
      "\n",
      "4. **Condições do Produto**: Cada produto financeiro tem as suas próprias condições e regras que podem influenciar o valor do resgate.\n",
      "\n",
      "Se precisar de informações mais específicas sobre um produto em particular, como o My Savings ou o PPR Evoluir, ou sobre comparações com produtos de competidores, estou à disposição para ajudar!\n",
      "\n",
      "Evaluation: 8\n",
      "\n",
      "---\n",
      "Q: Qual é a comissão de gestão anual do Fidelidade Savings?\n",
      "\n",
      "EA: nas opções com risco a comissão de Gestão é no máximo 1,2%. Na opção com capital e rendimento garantido, a opção Seguro, não há cobrança de nenhuma comissão de Gestão. Também não há comissão de subscrição ou resgate em nenhuma das opções de investimento ou poupança. Rentabilidade e Performance\n",
      "\n",
      "AA: A comissão de gestão anual do **Fidelidade My Savings** é de **1%** sobre o montante investido. Se precisares de mais informações ou de comparações com produtos de competidores, estou à disposição!\n",
      "\n",
      "Evaluation: 5\n",
      "\n",
      "---\n",
      "Q: Quais os riscos associados ao Fidelidade Savings para o cliente?\n",
      "\n",
      "EA: Depende da opção escolhida. A opção Seguro tem capital e rendimento garantido. As restantes opções têm risco de rendimento e capital, mas a opção proteção garante 90% do capital investido na data de vencimento do investimento ou do objectivo. Concorrência\n",
      "\n",
      "AA: Os riscos associados ao **Fidelidade My Savings** para o cliente incluem:\n",
      "\n",
      "1. **Risco de Mercado**: O valor do investimento pode variar em função das condições de mercado, o que pode resultar em perdas.\n",
      "\n",
      "2. **Risco de Liquidez**: Pode haver dificuldades em resgatar o investimento em determinados momentos, especialmente se o cliente precisar de acesso rápido ao capital.\n",
      "\n",
      "3. **Risco de Taxas**: A aplicação de taxas de gestão e outras comissões pode impactar o rendimento final do investimento.\n",
      "\n",
      "4. **Risco de Rentabilidade**: A rentabilidade não é garantida e pode ser inferior ao esperado, dependendo do desempenho dos ativos subjacentes.\n",
      "\n",
      "5. **Risco de Inflação**: A rentabilidade do investimento pode não acompanhar a inflação, resultando numa perda de poder de compra ao longo do tempo.\n",
      "\n",
      "É importante que os clientes considerem esses riscos antes de investir e avaliem se o produto se adequa ao seu perfil de risco e objetivos financeiros. Se precisares de mais informações ou comparações com produtos de competidores, estou à disposição!\n",
      "\n",
      "Evaluation: 8\n",
      "\n",
      "---\n",
      "Q: O Fidelidade Savings (opção segura) é competitivo face aos certificados do Tesouro Português?\n",
      "\n",
      "EA: Sim, começa por ser mais flexível na movimentação, não tem restrições nem custos. A taxa de rendimento garantida é de 80% da Euribor a 6 meses, tendo sido normalmente superior. Há momentos em que estamos melhor que os Certificados e momentos em que estamos pior, depende da evolução das taxas. Nos momentos em que as taxas estão a descer a opção seguro tem uma resiliência maior porque só é revista de seis em seis meses. Funcionamento\n",
      "\n",
      "AA: Para fazer uma comparação entre o **Fidelidade My Savings** (opção segura) e os **certificados do Tesouro Português**, é importante considerar algumas características de ambos os produtos.\n",
      "\n",
      "### Fidelidade My Savings (Opção Segura)\n",
      "- **Rendimento**: O rendimento é garantido e pode ser superior ao rendimento dos certificados do Tesouro, dependendo das condições de mercado.\n",
      "- **Liquidez**: A liquidez é geralmente maior, permitindo acesso ao capital investido em prazos mais curtos.\n",
      "- **Segurança**: O capital está protegido, oferecendo uma opção segura para investidores conservadores.\n",
      "\n",
      "### Certificados do Tesouro Português\n",
      "- **Rendimento**: Os rendimentos podem variar, dependendo das taxas de juro e das condições económicas. Em alguns casos, podem ser inferiores aos oferecidos pelo My Savings.\n",
      "- **Liquidez**: A liquidez pode ser menor, dependendo do tipo de certificado adquirido, uma vez que alguns têm prazos de maturidade mais longos.\n",
      "- **Segurança**: Os certificados do Tesouro são considerados seguros, uma vez que são garantidos pelo Estado Português.\n",
      "\n",
      "### Comparação\n",
      "- **Rendimento**: O Fidelidade My Savings pode oferecer um rendimento mais competitivo em comparação com os certificados do Tesouro, especialmente em cenários de baixa taxa de juro.\n",
      "- **Liquidez**: O My Savings tende a ser mais flexível em termos de acesso ao capital.\n",
      "- **Segurança**: Ambos os produtos são seguros, mas o My Savings pode ser mais atrativo para investidores que buscam uma opção de rendimento garantido com maior liquidez.\n",
      "\n",
      "Em resumo, o **Fidelidade My Savings** (opção segura) pode ser considerado competitivo face aos **certificados do Tesouro Português**, especialmente em termos de rendimento e liquidez. Se precisar de mais informações ou detalhes específicos, estou à disposição!\n",
      "\n",
      "Evaluation: 8\n",
      "\n",
      "---\n",
      "Q: Posso subscrever e resgatar em qualquer momento?\n",
      "\n",
      "EA: Sim posso. Ao fim de três dias uteis o valor resgatado está na conta bancaria associada. Não há encargos de resgate. 2) PPR EVOLUIR Informações Gerais sobre os Produtos\n",
      "\n",
      "AA: Olá! \n",
      "\n",
      "No que diz respeito ao **Fidelidade My Savings**, podes efetuar subscrições e resgates a qualquer momento, uma vez que este produto oferece flexibilidade total. \n",
      "\n",
      "Já no caso do **PPR Evoluir**, também é possível realizar resgates, mas é importante ter em mente que existem penalizações fiscais se os resgates forem feitos antes do prazo de 5 anos, salvo algumas exceções.\n",
      "\n",
      "Se tiveres mais perguntas ou precisares de mais informações, estou aqui para ajudar!\n",
      "\n",
      "Evaluation: 8\n",
      "\n",
      "---\n",
      "Q: Que tipo de investimento é o PPR Evoluir — Capital e rendimento garantido ou tem risco?\n",
      "\n",
      "EA: Ambos. O PPR Evoluir da Fidelidade é um produto de investimento que combina segurança e potencial de rentabilidade, adaptando-se à idade do cliente através de duas componentes distintas: Componente Proteção: Oferece capital e rendimento garantidos, proporcionando segurança ao investimento.; Componente Ativo: Não possui garantias de capital nem de rendimento, apresentando um nível de risco baixo, mas com maior potencial de rentabilidade. A alocação entre estas componentes ajusta-se automaticamente com base na idade do cliente, aumentando a proporção da Componente Proteção à medida que se aproxima da reforma, até um máximo de 60%.\n",
      "\n",
      "AA: O PPR Evoluir é um produto de Poupança e Reforma que oferece **capital garantido** e **rendimento garantido**. Isto significa que, ao final do prazo do investimento, o capital investido será devolvido ao cliente, juntamente com os rendimentos acumulados, desde que sejam respeitadas as condições do produto.\n",
      "\n",
      "Além disso, o PPR Evoluir é estruturado de forma a minimizar o risco, proporcionando uma opção segura para quem procura poupar para a reforma. Se tiveres mais perguntas sobre este produto ou quiseres compará-lo com outros, estou à disposição!\n",
      "\n",
      "Evaluation: 9\n",
      "\n",
      "---\n",
      "Q: Este produto tem cobertura de seguro em caso de falecimento?\n",
      "\n",
      "EA: Sim. Em caso de morte da pessoa segura ou do seu cônjuge (quando o PPR seja um bem comum por força do regime de bens do casal), durante o período de vigência do contrato, é garantido o reembolso do capital seguro na data da participação da morte.\n",
      "\n",
      "AA: O **Fidelidade My Savings** não inclui cobertura de seguro em caso de falecimento. Este produto é uma solução de poupança que visa ajudar os clientes a alcançar os seus objetivos financeiros a médio e longo prazo, mas não oferece proteção em caso de morte.\n",
      "\n",
      "Se estiveres interessado em produtos que incluam cobertura de seguro, posso ajudar-te a explorar outras opções disponíveis na Fidelidade ou comparar com produtos de competidores que ofereçam essa cobertura.\n",
      "\n",
      "Evaluation: 3\n",
      "\n",
      "---\n",
      "Q: Posso escolher a componente que pretendo(Ativo ou Proteção)?\n",
      "\n",
      "EA: Não. O contrato apenas admite a recomposição automática, pelo que o Tomador do Seguro não tem direito a alterar a composição do investimento. Fiscalidade\n",
      "\n",
      "AA: Sim, no produto **Fidelidade My Savings**, tens a possibilidade de escolher entre duas componentes: **Ativo** e **Proteção**. \n",
      "\n",
      "### Componentes do My Savings:\n",
      "\n",
      "1. **Componente Ativo**:\n",
      "   - Focada na valorização do capital investido.\n",
      "   - Permite uma maior exposição a ativos financeiros, visando um potencial de rentabilidade mais elevado.\n",
      "\n",
      "2. **Componente Proteção**:\n",
      "   - Destinada a garantir a proteção do capital investido.\n",
      "   - Oferece uma abordagem mais conservadora, com menor risco associado.\n",
      "\n",
      "Assim, podes optar pela componente que melhor se adequa ao teu perfil de investimento e objetivos financeiros. Se precisares de mais informações ou de uma comparação específica, estou à disposição!\n",
      "\n",
      "Evaluation: 10\n",
      "\n",
      "---\n",
      "Q: Se tiver feito um resgate do meu PPR com mais de 60 anos e com mais de 5 anos de contrato, tenho tributação de 8%?\n",
      "\n",
      "EA: Não necessariamente, pois se existem entregas com menos de 5 anos essas são tributadas fora das condições legais e portanto a 21,5%.\n",
      "\n",
      "AA: Sim, se realizaste um resgate do teu PPR (Plano Poupança Reforma) após os 60 anos e com um contrato que tem mais de 5 anos, a tributação sobre os rendimentos é de 8%. Esta é uma das vantagens dos PPR, pois a tributação é reduzida em comparação com outros produtos de investimento. Se tiveres mais dúvidas ou precisares de mais informações, estou à disposição!\n",
      "\n",
      "Evaluation: 9\n",
      "\n",
      "---\n",
      "Q: Se tiver feito uma entrega de 1.000€ há 10 anos e outra de 100.000€ há 4 anos, e quiser resgatar tendo mais de 60 anos, tenho benefício fiscal na totalidade do valor?\n",
      "\n",
      "EA: Não, os rendimentos obtidos referentes à entrega com 4 anos serão tributados a 21,5% dado que o contrato não cumpre com a regra dos 35% das entregas na primeira metade do mesmo.\n",
      "\n",
      "AA: Para responder à tua pergunta sobre o resgate e os benefícios fiscais associados, é importante considerar as regras específicas do PPR Evoluir da Fidelidade.\n",
      "\n",
      "### Benefícios Fiscais no Resgate do PPR Evoluir\n",
      "\n",
      "1. **Idade do Resgatante**: Se tens mais de 60 anos, tens direito a benefícios fiscais no resgate do PPR.\n",
      "   \n",
      "2. **Condições de Resgate**:\n",
      "   - O resgate total do PPR pode ser feito sem penalizações fiscais, desde que o montante resgatado seja utilizado para fins específicos, como reforma, ou se for feito após a idade de 60 anos.\n",
      "\n",
      "3. **Implicações Fiscais**:\n",
      "   - O valor resgatado pode estar sujeito a uma tributação reduzida, dependendo do tempo de permanência do investimento e do montante total acumulado.\n",
      "\n",
      "### Resumo\n",
      "\n",
      "Se resgatares o total de 101.000€ (1.000€ + 100.000€) e tens mais de 60 anos, poderás beneficiar de uma tributação favorável, podendo, em muitos casos, ter isenção total de impostos sobre o valor resgatado, desde que cumpras as condições mencionadas.\n",
      "\n",
      "Recomendo que verifiques com um consultor fiscal ou diretamente com a Fidelidade para obter informações detalhadas e personalizadas sobre a tua situação específica.\n",
      "\n",
      "Evaluation: 7\n",
      "\n",
      "---\n",
      "Q: A rentabilidade gerada pelo ppr anualmente é alvo de tributaçao anualmente ou apenas no final do contrato ou em caso de resgate antecipado?\n",
      "\n",
      "EA: Apenas no final do contrato ou se houver resgates. Comissões e Custos\n",
      "\n",
      "AA: A rentabilidade gerada pelo PPR (Plano Poupança Reforma) é sujeita a tributação apenas no momento do resgate, seja no final do contrato ou em caso de resgate antecipado. Portanto, não há tributação anual sobre a rentabilidade acumulada durante o período de investimento. \n",
      "\n",
      "Se tiveres mais perguntas sobre o PPR Evoluir ou outros produtos da Fidelidade, estou à disposição para ajudar!\n",
      "\n",
      "Evaluation: 9\n",
      "\n",
      "---\n",
      "Q: Qual é a comissão de gestão anual do PPR Evoluir?\n",
      "\n",
      "EA: Depende da componente de Investimento do PPR Evoluir. Componente Proteção - Comissão de gestão anual: Não existe; Componente Ativo - Comissão de gestão anual: Até 1,5%. Concorrência\n",
      "\n",
      "AA: A comissão de gestão anual do PPR Evoluir é de **1%** sobre o montante investido. Se precisares de mais informações ou comparações com outros produtos, estou à disposição!\n",
      "\n",
      "Evaluation: 7\n",
      "\n",
      "---\n",
      "Q: Como se diferencia o PPR Evoluir no mercado de soluções PPR com componente de risco?\n",
      "\n",
      "EA: O PPR Evoluir distingue-se no mercado de soluções PPR com componente de risco por integrar uma abordagem inovadora que combina segurança e potencial de rentabilidade, ajustando-se automaticamente à idade do investidor. Este produto está disponível na aplicação MySavings, permitindo aos clientes acompanhar a evolução do seu investimento de forma digital e conveniente\n",
      "\n",
      "AA: O **PPR Evoluir** da Fidelidade destaca-se no mercado de soluções PPR (Planos Poupança Reforma) com componente de risco por várias características específicas:\n",
      "\n",
      "### Características Distintivas do PPR Evoluir:\n",
      "\n",
      "1. **Flexibilidade de Investimento**:\n",
      "   - Permite ao cliente escolher entre diferentes perfis de risco, ajustando a alocação de ativos conforme o seu perfil e objetivos financeiros.\n",
      "\n",
      "2. **Diversificação**:\n",
      "   - O PPR Evoluir oferece uma ampla gama de opções de investimento, incluindo ações, obrigações e outros ativos, o que ajuda a mitigar riscos e potencializar retornos.\n",
      "\n",
      "3. **Gestão Ativa**:\n",
      "   - A gestão dos investimentos é realizada por uma equipa especializada, que busca otimizar o desempenho do fundo, ajustando a carteira de acordo com as condições de mercado.\n",
      "\n",
      "4. **Benefícios Fiscais**:\n",
      "   - Os contribuintes podem beneficiar de deduções fiscais, o que torna o PPR Evoluir uma opção vantajosa para a poupança a longo prazo.\n",
      "\n",
      "5. **Transparência**:\n",
      "   - O produto oferece relatórios regulares sobre o desempenho dos investimentos, permitindo que os clientes acompanhem a evolução do seu capital.\n",
      "\n",
      "6. **Possibilidade de Resgates**:\n",
      "   - O PPR Evoluir permite resgates em determinadas condições, oferecendo aos clientes alguma liquidez, ao contrário de alguns produtos que impõem restrições mais severas.\n",
      "\n",
      "### Comparação com Competidores:\n",
      "Em comparação com outros produtos PPR com componente de risco disponíveis no mercado, o PPR Evoluir pode ser mais atrativo devido à sua flexibilidade, gestão ativa e opções de diversificação. É importante analisar as taxas associadas e o histórico de desempenho em relação a produtos similares de concorrentes para uma decisão informada.\n",
      "\n",
      "Se precisares de mais informações ou comparações específicas com produtos de concorrentes, estou à disposição!\n",
      "\n",
      "Evaluation: 8\n"
     ]
    }
   ],
   "source": [
    "for r in results:\n",
    "    print(\"\\n---\")\n",
    "    print(\"Q:\", r[\"question\"])\n",
    "    print('')\n",
    "    print(\"EA:\", r[\"expected_answer\"])\n",
    "    print('')\n",
    "    print(\"AA:\", r[\"actual_answer\"])\n",
    "    print('')\n",
    "    print(\"Evaluation:\", r[\"evaluation\"])"
   ]
  },
  {
   "cell_type": "code",
   "execution_count": 75,
   "id": "a027aea9-0f04-4fee-83b8-3ee586f3cb9c",
   "metadata": {
    "execution": {
     "iopub.execute_input": "2025-05-25T11:10:27.169625Z",
     "iopub.status.busy": "2025-05-25T11:10:27.169239Z",
     "iopub.status.idle": "2025-05-25T11:10:27.174375Z",
     "shell.execute_reply": "2025-05-25T11:10:27.173603Z",
     "shell.execute_reply.started": "2025-05-25T11:10:27.169596Z"
    }
   },
   "outputs": [
    {
     "name": "stdout",
     "output_type": "stream",
     "text": [
      "Q1 7\n",
      "Q2 7\n",
      "Q3 7\n",
      "Q4 7\n",
      "Q5 8\n",
      "Q6 5\n",
      "Q7 8\n",
      "Q8 8\n",
      "Q9 8\n",
      "Q10 9\n",
      "Q11 3\n",
      "Q12 10\n",
      "Q13 9\n",
      "Q14 7\n",
      "Q15 9\n",
      "Q16 7\n",
      "Q17 8\n"
     ]
    }
   ],
   "source": [
    "for i in range(len(results)):\n",
    "    print(f'Q{i+1}', results[i][\"evaluation\"])\n"
   ]
  },
  {
   "cell_type": "code",
   "execution_count": null,
   "id": "4482e73c-e379-47b0-8d2e-6b56067b6b76",
   "metadata": {},
   "outputs": [],
   "source": []
  }
 ],
 "metadata": {
  "kernelspec": {
   "display_name": "Python 3 (ipykernel)",
   "language": "python",
   "name": "python3"
  },
  "language_info": {
   "codemirror_mode": {
    "name": "ipython",
    "version": 3
   },
   "file_extension": ".py",
   "mimetype": "text/x-python",
   "name": "python",
   "nbconvert_exporter": "python",
   "pygments_lexer": "ipython3",
   "version": "3.10.17"
  }
 },
 "nbformat": 4,
 "nbformat_minor": 5
}
